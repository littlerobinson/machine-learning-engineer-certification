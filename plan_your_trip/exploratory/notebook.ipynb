{
 "cells": [
  {
   "cell_type": "markdown",
   "metadata": {},
   "source": [
    "# Plan your trip !\n",
    "\n",
    "\n",
    "## Récupération de la géolocalisation des villes\n",
    "\n",
    "Premièrement, nous allons utiliser l'API nominatim (https://nominatim.org) pour récupérer les infos des 20 villes à visiter en France selon le site one-week-in.com."
   ]
  },
  {
   "cell_type": "code",
   "execution_count": 6,
   "metadata": {},
   "outputs": [],
   "source": [
    "import requests\n",
    "import pandas as pd\n",
    "import json\n",
    "from io import StringIO"
   ]
  },
  {
   "cell_type": "markdown",
   "metadata": {},
   "source": [
    "Liste de 35 villes à visiter en France selon le site one week in (https://one-week-in.com/35-cities-to-visit-in-france/).\n",
    "ps: ajout des villes de mon département ^^."
   ]
  },
  {
   "cell_type": "code",
   "execution_count": 3,
   "metadata": {},
   "outputs": [],
   "source": [
    "city_list = [\n",
    "\"Mont Saint Michel\",\n",
    "\"St Malo\",\n",
    "\"Bayeux\",\n",
    "\"Le Havre\",\n",
    "\"Rouen\",\n",
    "\"Paris\",\n",
    "\"Amiens\",\n",
    "\"Lille\",\n",
    "\"Strasbourg\",\n",
    "\"Chateau du Haut Koenigsbourg\",\n",
    "\"Colmar\",\n",
    "\"Eguisheim\",\n",
    "\"Besancon\",\n",
    "\"Dijon\",\n",
    "\"Annecy\",\n",
    "\"Grenoble\",\n",
    "\"Lyon\",\n",
    "\"Gorges du Verdon\",\n",
    "\"Bormes les Mimosas\",\n",
    "\"Cassis\",\n",
    "\"Marseille\",\n",
    "\"Aix en Provence\",\n",
    "\"Avignon\",\n",
    "\"Uzes\",\n",
    "\"Nimes\",\n",
    "\"Aigues Mortes\",\n",
    "\"Saintes Maries de la mer\",\n",
    "\"Collioure\",\n",
    "\"Carcassonne\",\n",
    "\"Ariege\",\n",
    "\"Toulouse\",\n",
    "\"Montauban\",\n",
    "\"Biarritz\",\n",
    "\"Bayonne\",\n",
    "\"La Rochelle\",\n",
    "\"Gap\",\n",
    "\"Briançon\"\n",
    "]"
   ]
  },
  {
   "cell_type": "code",
   "execution_count": 4,
   "metadata": {},
   "outputs": [
    {
     "data": {
      "text/plain": [
       "<Response [200]>"
      ]
     },
     "execution_count": 4,
     "metadata": {},
     "output_type": "execute_result"
    }
   ],
   "source": [
    "headers = {\n",
    "  'Accept-Encoding': 'application/json',\n",
    "  'User-Agent': 'Chrome/126.0.0.0 ',\n",
    "}\n",
    "\n",
    "r = requests.get(\"https://nominatim.openstreetmap.org/status\", headers=headers)\n",
    "\n",
    "r"
   ]
  },
  {
   "cell_type": "code",
   "execution_count": 6,
   "metadata": {},
   "outputs": [
    {
     "name": "stdout",
     "output_type": "stream",
     "text": [
      "https://nominatim.openstreetmap.org/search?format=json&q=gap\n"
     ]
    },
    {
     "data": {
      "text/plain": [
       "[{'place_id': 75016725,\n",
       "  'licence': 'Data © OpenStreetMap contributors, ODbL 1.0. http://osm.org/copyright',\n",
       "  'osm_type': 'relation',\n",
       "  'osm_id': 367142,\n",
       "  'lat': '44.5612032',\n",
       "  'lon': '6.0820639',\n",
       "  'class': 'boundary',\n",
       "  'type': 'administrative',\n",
       "  'place_rank': 16,\n",
       "  'importance': 0.5438225943267603,\n",
       "  'addresstype': 'town',\n",
       "  'name': 'Gap',\n",
       "  'display_name': \"Gap, Hautes-Alpes, Provence-Alpes-Côte d'Azur, France métropolitaine, 05000, France\",\n",
       "  'boundingbox': ['44.4947938', '44.6650138', '5.9805869', '6.1411293']},\n",
       " {'place_id': 74245359,\n",
       "  'licence': 'Data © OpenStreetMap contributors, ODbL 1.0. http://osm.org/copyright',\n",
       "  'osm_type': 'relation',\n",
       "  'osm_id': 1686356,\n",
       "  'lat': '44.53052425',\n",
       "  'lon': '6.158031728688848',\n",
       "  'class': 'boundary',\n",
       "  'type': 'administrative',\n",
       "  'place_rank': 14,\n",
       "  'importance': 0.3651260992910078,\n",
       "  'addresstype': 'municipality',\n",
       "  'name': 'Gap',\n",
       "  'display_name': \"Gap, Hautes-Alpes, Provence-Alpes-Côte d'Azur, France métropolitaine, France\",\n",
       "  'boundingbox': ['44.1863785', '44.8745992', '5.4183896', '6.6843970']},\n",
       " {'place_id': 304698376,\n",
       "  'licence': 'Data © OpenStreetMap contributors, ODbL 1.0. http://osm.org/copyright',\n",
       "  'osm_type': 'relation',\n",
       "  'osm_id': 189195,\n",
       "  'lat': '39.989477',\n",
       "  'lon': '-76.01735113786651',\n",
       "  'class': 'boundary',\n",
       "  'type': 'census',\n",
       "  'place_rank': 25,\n",
       "  'importance': 0.362945678183792,\n",
       "  'addresstype': 'locality',\n",
       "  'name': 'Gap',\n",
       "  'display_name': 'Gap, Salisbury Township, Lancaster County, Pennsylvania, United States',\n",
       "  'boundingbox': ['39.9753708', '40.0036652', '-76.0428530', '-75.9896490']},\n",
       " {'place_id': 75023983,\n",
       "  'licence': 'Data © OpenStreetMap contributors, ODbL 1.0. http://osm.org/copyright',\n",
       "  'osm_type': 'relation',\n",
       "  'osm_id': 4284735,\n",
       "  'lat': '44.579903349999995',\n",
       "  'lon': '6.064655551899108',\n",
       "  'class': 'boundary',\n",
       "  'type': 'administrative',\n",
       "  'place_rank': 18,\n",
       "  'importance': 0.30000999999999994,\n",
       "  'addresstype': 'city_district',\n",
       "  'name': 'Gap',\n",
       "  'display_name': \"Gap, Hautes-Alpes, Provence-Alpes-Côte d'Azur, France métropolitaine, 05000, France\",\n",
       "  'boundingbox': ['44.4947938', '44.6650138', '5.9805869', '6.1360635']},\n",
       " {'place_id': 31972527,\n",
       "  'licence': 'Data © OpenStreetMap contributors, ODbL 1.0. http://osm.org/copyright',\n",
       "  'osm_type': 'node',\n",
       "  'osm_id': 9759352197,\n",
       "  'lat': '-0.5012178',\n",
       "  'lon': '35.5775278',\n",
       "  'class': 'place',\n",
       "  'type': 'village',\n",
       "  'place_rank': 19,\n",
       "  'importance': 0.27501,\n",
       "  'addresstype': 'village',\n",
       "  'name': 'Gap',\n",
       "  'display_name': 'Gap, Tinet ward, Kuresoi South, Nakuru, Rift Valley, Kenya',\n",
       "  'boundingbox': ['-0.5212178', '-0.4812178', '35.5575278', '35.5975278']},\n",
       " {'place_id': 261111631,\n",
       "  'licence': 'Data © OpenStreetMap contributors, ODbL 1.0. http://osm.org/copyright',\n",
       "  'osm_type': 'node',\n",
       "  'osm_id': 2120329099,\n",
       "  'lat': '14.8894741',\n",
       "  'lon': '-16.397391',\n",
       "  'class': 'place',\n",
       "  'type': 'village',\n",
       "  'place_rank': 19,\n",
       "  'importance': 0.27501,\n",
       "  'addresstype': 'village',\n",
       "  'name': 'Gap',\n",
       "  'display_name': 'Gap, Communauté rurale de Gawane, Arrondissement de Lambaye, Département de Bambey, Région de Diourbel, Sénégal',\n",
       "  'boundingbox': ['14.8694741', '14.9094741', '-16.4173910', '-16.3773910']},\n",
       " {'place_id': 31898965,\n",
       "  'licence': 'Data © OpenStreetMap contributors, ODbL 1.0. http://osm.org/copyright',\n",
       "  'osm_type': 'node',\n",
       "  'osm_id': 9757397323,\n",
       "  'lat': '-0.6043819',\n",
       "  'lon': '35.6916279',\n",
       "  'class': 'place',\n",
       "  'type': 'village',\n",
       "  'place_rank': 19,\n",
       "  'importance': 0.27501,\n",
       "  'addresstype': 'village',\n",
       "  'name': 'Gap',\n",
       "  'display_name': 'Gap, Amalo ward, Kuresoi South, Nakuru, Rift Valley, Kenya',\n",
       "  'boundingbox': ['-0.6243819', '-0.5843819', '35.6716279', '35.7116279']},\n",
       " {'place_id': 156499511,\n",
       "  'licence': 'Data © OpenStreetMap contributors, ODbL 1.0. http://osm.org/copyright',\n",
       "  'osm_type': 'node',\n",
       "  'osm_id': 3009672985,\n",
       "  'lat': '52.8004021',\n",
       "  'lon': '18.4230585',\n",
       "  'class': 'place',\n",
       "  'type': 'hamlet',\n",
       "  'place_rank': 20,\n",
       "  'importance': 0.25000999999999995,\n",
       "  'addresstype': 'hamlet',\n",
       "  'name': 'Gapy',\n",
       "  'display_name': 'Gapy, Modliborzyce, gmina Dąbrowa Biskupia, powiat inowrocławski, województwo kujawsko-pomorskie, 88-110, Polska',\n",
       "  'boundingbox': ['52.7804021', '52.8204021', '18.4030585', '18.4430585']}]"
      ]
     },
     "execution_count": 6,
     "metadata": {},
     "output_type": "execute_result"
    }
   ],
   "source": [
    "#payload = {'format': 'json', 'country': 'france', 'city': 'montauban'}\n",
    "payload = {'format': 'json', 'q': 'gap'}\n",
    "\n",
    "r = requests.get(\"https://nominatim.openstreetmap.org/search\", headers=headers, params=payload)\n",
    "\n",
    "\n",
    "print(r.url)\n",
    "r.json()"
   ]
  },
  {
   "cell_type": "markdown",
   "metadata": {},
   "source": []
  },
  {
   "cell_type": "markdown",
   "metadata": {},
   "source": [
    "Il Peut y avoir plusieurs résultats dans une recherche comme celle-ci et les paramètres de recherche nous permmettent pas d'affiner le résultat.\n",
    "\n",
    "Il faudra donc trier dans le résultat pour avoir l'entrée qui a pour clé `addresstype` = `municipality` ou `town` si municipality n'existe pas.\n",
    "\n",
    "Il faudra aussi vérifier que le nom de la ville soit exactement celui recherché.\n",
    "\n",
    "Exemple pour Montauban on récupérera en résultat, Montauban et Montauban-de-Luchon\n"
   ]
  },
  {
   "cell_type": "code",
   "execution_count": 7,
   "metadata": {},
   "outputs": [
    {
     "data": {
      "text/html": [
       "<div>\n",
       "<style scoped>\n",
       "    .dataframe tbody tr th:only-of-type {\n",
       "        vertical-align: middle;\n",
       "    }\n",
       "\n",
       "    .dataframe tbody tr th {\n",
       "        vertical-align: top;\n",
       "    }\n",
       "\n",
       "    .dataframe thead th {\n",
       "        text-align: right;\n",
       "    }\n",
       "</style>\n",
       "<table border=\"1\" class=\"dataframe\">\n",
       "  <thead>\n",
       "    <tr style=\"text-align: right;\">\n",
       "      <th></th>\n",
       "      <th>place_id</th>\n",
       "      <th>licence</th>\n",
       "      <th>osm_type</th>\n",
       "      <th>osm_id</th>\n",
       "      <th>lat</th>\n",
       "      <th>lon</th>\n",
       "      <th>class</th>\n",
       "      <th>type</th>\n",
       "      <th>place_rank</th>\n",
       "      <th>importance</th>\n",
       "      <th>addresstype</th>\n",
       "      <th>name</th>\n",
       "      <th>display_name</th>\n",
       "      <th>boundingbox</th>\n",
       "    </tr>\n",
       "  </thead>\n",
       "  <tbody>\n",
       "    <tr>\n",
       "      <th>0</th>\n",
       "      <td>75016725</td>\n",
       "      <td>Data © OpenStreetMap contributors, ODbL 1.0. h...</td>\n",
       "      <td>relation</td>\n",
       "      <td>367142</td>\n",
       "      <td>44.561203</td>\n",
       "      <td>6.082064</td>\n",
       "      <td>boundary</td>\n",
       "      <td>administrative</td>\n",
       "      <td>16</td>\n",
       "      <td>0.543823</td>\n",
       "      <td>town</td>\n",
       "      <td>Gap</td>\n",
       "      <td>Gap, Hautes-Alpes, Provence-Alpes-Côte d'Azur,...</td>\n",
       "      <td>[44.4947938, 44.6650138, 5.9805869, 6.1411293]</td>\n",
       "    </tr>\n",
       "    <tr>\n",
       "      <th>1</th>\n",
       "      <td>74245359</td>\n",
       "      <td>Data © OpenStreetMap contributors, ODbL 1.0. h...</td>\n",
       "      <td>relation</td>\n",
       "      <td>1686356</td>\n",
       "      <td>44.530524</td>\n",
       "      <td>6.158032</td>\n",
       "      <td>boundary</td>\n",
       "      <td>administrative</td>\n",
       "      <td>14</td>\n",
       "      <td>0.365126</td>\n",
       "      <td>municipality</td>\n",
       "      <td>Gap</td>\n",
       "      <td>Gap, Hautes-Alpes, Provence-Alpes-Côte d'Azur,...</td>\n",
       "      <td>[44.1863785, 44.8745992, 5.4183896, 6.6843970]</td>\n",
       "    </tr>\n",
       "    <tr>\n",
       "      <th>2</th>\n",
       "      <td>304698376</td>\n",
       "      <td>Data © OpenStreetMap contributors, ODbL 1.0. h...</td>\n",
       "      <td>relation</td>\n",
       "      <td>189195</td>\n",
       "      <td>39.989477</td>\n",
       "      <td>-76.017351</td>\n",
       "      <td>boundary</td>\n",
       "      <td>census</td>\n",
       "      <td>25</td>\n",
       "      <td>0.362946</td>\n",
       "      <td>locality</td>\n",
       "      <td>Gap</td>\n",
       "      <td>Gap, Salisbury Township, Lancaster County, Pen...</td>\n",
       "      <td>[39.9753708, 40.0036652, -76.0428530, -75.9896...</td>\n",
       "    </tr>\n",
       "    <tr>\n",
       "      <th>3</th>\n",
       "      <td>75023983</td>\n",
       "      <td>Data © OpenStreetMap contributors, ODbL 1.0. h...</td>\n",
       "      <td>relation</td>\n",
       "      <td>4284735</td>\n",
       "      <td>44.579903</td>\n",
       "      <td>6.064656</td>\n",
       "      <td>boundary</td>\n",
       "      <td>administrative</td>\n",
       "      <td>18</td>\n",
       "      <td>0.300010</td>\n",
       "      <td>city_district</td>\n",
       "      <td>Gap</td>\n",
       "      <td>Gap, Hautes-Alpes, Provence-Alpes-Côte d'Azur,...</td>\n",
       "      <td>[44.4947938, 44.6650138, 5.9805869, 6.1360635]</td>\n",
       "    </tr>\n",
       "    <tr>\n",
       "      <th>4</th>\n",
       "      <td>31972527</td>\n",
       "      <td>Data © OpenStreetMap contributors, ODbL 1.0. h...</td>\n",
       "      <td>node</td>\n",
       "      <td>9759352197</td>\n",
       "      <td>-0.501218</td>\n",
       "      <td>35.577528</td>\n",
       "      <td>place</td>\n",
       "      <td>village</td>\n",
       "      <td>19</td>\n",
       "      <td>0.275010</td>\n",
       "      <td>village</td>\n",
       "      <td>Gap</td>\n",
       "      <td>Gap, Tinet ward, Kuresoi South, Nakuru, Rift V...</td>\n",
       "      <td>[-0.5212178, -0.4812178, 35.5575278, 35.5975278]</td>\n",
       "    </tr>\n",
       "    <tr>\n",
       "      <th>5</th>\n",
       "      <td>261111631</td>\n",
       "      <td>Data © OpenStreetMap contributors, ODbL 1.0. h...</td>\n",
       "      <td>node</td>\n",
       "      <td>2120329099</td>\n",
       "      <td>14.889474</td>\n",
       "      <td>-16.397391</td>\n",
       "      <td>place</td>\n",
       "      <td>village</td>\n",
       "      <td>19</td>\n",
       "      <td>0.275010</td>\n",
       "      <td>village</td>\n",
       "      <td>Gap</td>\n",
       "      <td>Gap, Communauté rurale de Gawane, Arrondisseme...</td>\n",
       "      <td>[14.8694741, 14.9094741, -16.4173910, -16.3773...</td>\n",
       "    </tr>\n",
       "    <tr>\n",
       "      <th>6</th>\n",
       "      <td>31898965</td>\n",
       "      <td>Data © OpenStreetMap contributors, ODbL 1.0. h...</td>\n",
       "      <td>node</td>\n",
       "      <td>9757397323</td>\n",
       "      <td>-0.604382</td>\n",
       "      <td>35.691628</td>\n",
       "      <td>place</td>\n",
       "      <td>village</td>\n",
       "      <td>19</td>\n",
       "      <td>0.275010</td>\n",
       "      <td>village</td>\n",
       "      <td>Gap</td>\n",
       "      <td>Gap, Amalo ward, Kuresoi South, Nakuru, Rift V...</td>\n",
       "      <td>[-0.6243819, -0.5843819, 35.6716279, 35.7116279]</td>\n",
       "    </tr>\n",
       "    <tr>\n",
       "      <th>7</th>\n",
       "      <td>156499511</td>\n",
       "      <td>Data © OpenStreetMap contributors, ODbL 1.0. h...</td>\n",
       "      <td>node</td>\n",
       "      <td>3009672985</td>\n",
       "      <td>52.800402</td>\n",
       "      <td>18.423058</td>\n",
       "      <td>place</td>\n",
       "      <td>hamlet</td>\n",
       "      <td>20</td>\n",
       "      <td>0.250010</td>\n",
       "      <td>hamlet</td>\n",
       "      <td>Gapy</td>\n",
       "      <td>Gapy, Modliborzyce, gmina Dąbrowa Biskupia, po...</td>\n",
       "      <td>[52.7804021, 52.8204021, 18.4030585, 18.4430585]</td>\n",
       "    </tr>\n",
       "  </tbody>\n",
       "</table>\n",
       "</div>"
      ],
      "text/plain": [
       "    place_id                                            licence  osm_type  \\\n",
       "0   75016725  Data © OpenStreetMap contributors, ODbL 1.0. h...  relation   \n",
       "1   74245359  Data © OpenStreetMap contributors, ODbL 1.0. h...  relation   \n",
       "2  304698376  Data © OpenStreetMap contributors, ODbL 1.0. h...  relation   \n",
       "3   75023983  Data © OpenStreetMap contributors, ODbL 1.0. h...  relation   \n",
       "4   31972527  Data © OpenStreetMap contributors, ODbL 1.0. h...      node   \n",
       "5  261111631  Data © OpenStreetMap contributors, ODbL 1.0. h...      node   \n",
       "6   31898965  Data © OpenStreetMap contributors, ODbL 1.0. h...      node   \n",
       "7  156499511  Data © OpenStreetMap contributors, ODbL 1.0. h...      node   \n",
       "\n",
       "       osm_id        lat        lon     class            type  place_rank  \\\n",
       "0      367142  44.561203   6.082064  boundary  administrative          16   \n",
       "1     1686356  44.530524   6.158032  boundary  administrative          14   \n",
       "2      189195  39.989477 -76.017351  boundary          census          25   \n",
       "3     4284735  44.579903   6.064656  boundary  administrative          18   \n",
       "4  9759352197  -0.501218  35.577528     place         village          19   \n",
       "5  2120329099  14.889474 -16.397391     place         village          19   \n",
       "6  9757397323  -0.604382  35.691628     place         village          19   \n",
       "7  3009672985  52.800402  18.423058     place          hamlet          20   \n",
       "\n",
       "   importance    addresstype  name  \\\n",
       "0    0.543823           town   Gap   \n",
       "1    0.365126   municipality   Gap   \n",
       "2    0.362946       locality   Gap   \n",
       "3    0.300010  city_district   Gap   \n",
       "4    0.275010        village   Gap   \n",
       "5    0.275010        village   Gap   \n",
       "6    0.275010        village   Gap   \n",
       "7    0.250010         hamlet  Gapy   \n",
       "\n",
       "                                        display_name  \\\n",
       "0  Gap, Hautes-Alpes, Provence-Alpes-Côte d'Azur,...   \n",
       "1  Gap, Hautes-Alpes, Provence-Alpes-Côte d'Azur,...   \n",
       "2  Gap, Salisbury Township, Lancaster County, Pen...   \n",
       "3  Gap, Hautes-Alpes, Provence-Alpes-Côte d'Azur,...   \n",
       "4  Gap, Tinet ward, Kuresoi South, Nakuru, Rift V...   \n",
       "5  Gap, Communauté rurale de Gawane, Arrondisseme...   \n",
       "6  Gap, Amalo ward, Kuresoi South, Nakuru, Rift V...   \n",
       "7  Gapy, Modliborzyce, gmina Dąbrowa Biskupia, po...   \n",
       "\n",
       "                                         boundingbox  \n",
       "0     [44.4947938, 44.6650138, 5.9805869, 6.1411293]  \n",
       "1     [44.1863785, 44.8745992, 5.4183896, 6.6843970]  \n",
       "2  [39.9753708, 40.0036652, -76.0428530, -75.9896...  \n",
       "3     [44.4947938, 44.6650138, 5.9805869, 6.1360635]  \n",
       "4   [-0.5212178, -0.4812178, 35.5575278, 35.5975278]  \n",
       "5  [14.8694741, 14.9094741, -16.4173910, -16.3773...  \n",
       "6   [-0.6243819, -0.5843819, 35.6716279, 35.7116279]  \n",
       "7   [52.7804021, 52.8204021, 18.4030585, 18.4430585]  "
      ]
     },
     "execution_count": 7,
     "metadata": {},
     "output_type": "execute_result"
    }
   ],
   "source": [
    "city_df = pd.read_json(StringIO(r.text))\n",
    "\n",
    "city_df"
   ]
  },
  {
   "cell_type": "code",
   "execution_count": 21,
   "metadata": {},
   "outputs": [
    {
     "data": {
      "text/html": [
       "<div>\n",
       "<style scoped>\n",
       "    .dataframe tbody tr th:only-of-type {\n",
       "        vertical-align: middle;\n",
       "    }\n",
       "\n",
       "    .dataframe tbody tr th {\n",
       "        vertical-align: top;\n",
       "    }\n",
       "\n",
       "    .dataframe thead th {\n",
       "        text-align: right;\n",
       "    }\n",
       "</style>\n",
       "<table border=\"1\" class=\"dataframe\">\n",
       "  <thead>\n",
       "    <tr style=\"text-align: right;\">\n",
       "      <th></th>\n",
       "      <th>name</th>\n",
       "      <th>addresstype</th>\n",
       "      <th>lat</th>\n",
       "      <th>lon</th>\n",
       "      <th>osm_id</th>\n",
       "    </tr>\n",
       "  </thead>\n",
       "  <tbody>\n",
       "    <tr>\n",
       "      <th>0</th>\n",
       "      <td>Gap</td>\n",
       "      <td>town</td>\n",
       "      <td>44.561203</td>\n",
       "      <td>6.082064</td>\n",
       "      <td>367142</td>\n",
       "    </tr>\n",
       "    <tr>\n",
       "      <th>1</th>\n",
       "      <td>Gap</td>\n",
       "      <td>municipality</td>\n",
       "      <td>44.530524</td>\n",
       "      <td>6.158032</td>\n",
       "      <td>1686356</td>\n",
       "    </tr>\n",
       "    <tr>\n",
       "      <th>2</th>\n",
       "      <td>Gap</td>\n",
       "      <td>village</td>\n",
       "      <td>39.987325</td>\n",
       "      <td>-76.020507</td>\n",
       "      <td>189195</td>\n",
       "    </tr>\n",
       "    <tr>\n",
       "      <th>3</th>\n",
       "      <td>Gap</td>\n",
       "      <td>city_district</td>\n",
       "      <td>44.579903</td>\n",
       "      <td>6.064656</td>\n",
       "      <td>4284735</td>\n",
       "    </tr>\n",
       "    <tr>\n",
       "      <th>4</th>\n",
       "      <td>Gap</td>\n",
       "      <td>village</td>\n",
       "      <td>-0.604382</td>\n",
       "      <td>35.691628</td>\n",
       "      <td>9757397323</td>\n",
       "    </tr>\n",
       "    <tr>\n",
       "      <th>5</th>\n",
       "      <td>Gap</td>\n",
       "      <td>village</td>\n",
       "      <td>14.889474</td>\n",
       "      <td>-16.397391</td>\n",
       "      <td>2120329099</td>\n",
       "    </tr>\n",
       "    <tr>\n",
       "      <th>6</th>\n",
       "      <td>Gap</td>\n",
       "      <td>village</td>\n",
       "      <td>-0.501218</td>\n",
       "      <td>35.577528</td>\n",
       "      <td>9759352197</td>\n",
       "    </tr>\n",
       "    <tr>\n",
       "      <th>7</th>\n",
       "      <td>Gapy</td>\n",
       "      <td>hamlet</td>\n",
       "      <td>52.800402</td>\n",
       "      <td>18.423058</td>\n",
       "      <td>3009672985</td>\n",
       "    </tr>\n",
       "  </tbody>\n",
       "</table>\n",
       "</div>"
      ],
      "text/plain": [
       "   name    addresstype        lat        lon      osm_id\n",
       "0   Gap           town  44.561203   6.082064      367142\n",
       "1   Gap   municipality  44.530524   6.158032     1686356\n",
       "2   Gap        village  39.987325 -76.020507      189195\n",
       "3   Gap  city_district  44.579903   6.064656     4284735\n",
       "4   Gap        village  -0.604382  35.691628  9757397323\n",
       "5   Gap        village  14.889474 -16.397391  2120329099\n",
       "6   Gap        village  -0.501218  35.577528  9759352197\n",
       "7  Gapy         hamlet  52.800402  18.423058  3009672985"
      ]
     },
     "execution_count": 21,
     "metadata": {},
     "output_type": "execute_result"
    }
   ],
   "source": [
    "# Filrage sur les colonnes intéressantes\n",
    "city_df = city_df.loc[:, ['name', 'addresstype', 'lat', 'lon', 'osm_id']]\n",
    "city_df"
   ]
  },
  {
   "cell_type": "code",
   "execution_count": 8,
   "metadata": {},
   "outputs": [
    {
     "data": {
      "text/html": [
       "<div>\n",
       "<style scoped>\n",
       "    .dataframe tbody tr th:only-of-type {\n",
       "        vertical-align: middle;\n",
       "    }\n",
       "\n",
       "    .dataframe tbody tr th {\n",
       "        vertical-align: top;\n",
       "    }\n",
       "\n",
       "    .dataframe thead th {\n",
       "        text-align: right;\n",
       "    }\n",
       "</style>\n",
       "<table border=\"1\" class=\"dataframe\">\n",
       "  <thead>\n",
       "    <tr style=\"text-align: right;\">\n",
       "      <th></th>\n",
       "      <th>place_id</th>\n",
       "      <th>licence</th>\n",
       "      <th>osm_type</th>\n",
       "      <th>osm_id</th>\n",
       "      <th>lat</th>\n",
       "      <th>lon</th>\n",
       "      <th>class</th>\n",
       "      <th>type</th>\n",
       "      <th>place_rank</th>\n",
       "      <th>importance</th>\n",
       "      <th>addresstype</th>\n",
       "      <th>name</th>\n",
       "      <th>display_name</th>\n",
       "      <th>boundingbox</th>\n",
       "    </tr>\n",
       "  </thead>\n",
       "  <tbody>\n",
       "    <tr>\n",
       "      <th>0</th>\n",
       "      <td>75016725</td>\n",
       "      <td>Data © OpenStreetMap contributors, ODbL 1.0. h...</td>\n",
       "      <td>relation</td>\n",
       "      <td>367142</td>\n",
       "      <td>44.561203</td>\n",
       "      <td>6.082064</td>\n",
       "      <td>boundary</td>\n",
       "      <td>administrative</td>\n",
       "      <td>16</td>\n",
       "      <td>0.543823</td>\n",
       "      <td>town</td>\n",
       "      <td>Gap</td>\n",
       "      <td>Gap, Hautes-Alpes, Provence-Alpes-Côte d'Azur,...</td>\n",
       "      <td>[44.4947938, 44.6650138, 5.9805869, 6.1411293]</td>\n",
       "    </tr>\n",
       "    <tr>\n",
       "      <th>1</th>\n",
       "      <td>74245359</td>\n",
       "      <td>Data © OpenStreetMap contributors, ODbL 1.0. h...</td>\n",
       "      <td>relation</td>\n",
       "      <td>1686356</td>\n",
       "      <td>44.530524</td>\n",
       "      <td>6.158032</td>\n",
       "      <td>boundary</td>\n",
       "      <td>administrative</td>\n",
       "      <td>14</td>\n",
       "      <td>0.365126</td>\n",
       "      <td>municipality</td>\n",
       "      <td>Gap</td>\n",
       "      <td>Gap, Hautes-Alpes, Provence-Alpes-Côte d'Azur,...</td>\n",
       "      <td>[44.1863785, 44.8745992, 5.4183896, 6.6843970]</td>\n",
       "    </tr>\n",
       "    <tr>\n",
       "      <th>2</th>\n",
       "      <td>304698376</td>\n",
       "      <td>Data © OpenStreetMap contributors, ODbL 1.0. h...</td>\n",
       "      <td>relation</td>\n",
       "      <td>189195</td>\n",
       "      <td>39.989477</td>\n",
       "      <td>-76.017351</td>\n",
       "      <td>boundary</td>\n",
       "      <td>census</td>\n",
       "      <td>25</td>\n",
       "      <td>0.362946</td>\n",
       "      <td>locality</td>\n",
       "      <td>Gap</td>\n",
       "      <td>Gap, Salisbury Township, Lancaster County, Pen...</td>\n",
       "      <td>[39.9753708, 40.0036652, -76.0428530, -75.9896...</td>\n",
       "    </tr>\n",
       "    <tr>\n",
       "      <th>3</th>\n",
       "      <td>75023983</td>\n",
       "      <td>Data © OpenStreetMap contributors, ODbL 1.0. h...</td>\n",
       "      <td>relation</td>\n",
       "      <td>4284735</td>\n",
       "      <td>44.579903</td>\n",
       "      <td>6.064656</td>\n",
       "      <td>boundary</td>\n",
       "      <td>administrative</td>\n",
       "      <td>18</td>\n",
       "      <td>0.300010</td>\n",
       "      <td>city_district</td>\n",
       "      <td>Gap</td>\n",
       "      <td>Gap, Hautes-Alpes, Provence-Alpes-Côte d'Azur,...</td>\n",
       "      <td>[44.4947938, 44.6650138, 5.9805869, 6.1360635]</td>\n",
       "    </tr>\n",
       "    <tr>\n",
       "      <th>4</th>\n",
       "      <td>31972527</td>\n",
       "      <td>Data © OpenStreetMap contributors, ODbL 1.0. h...</td>\n",
       "      <td>node</td>\n",
       "      <td>9759352197</td>\n",
       "      <td>-0.501218</td>\n",
       "      <td>35.577528</td>\n",
       "      <td>place</td>\n",
       "      <td>village</td>\n",
       "      <td>19</td>\n",
       "      <td>0.275010</td>\n",
       "      <td>village</td>\n",
       "      <td>Gap</td>\n",
       "      <td>Gap, Tinet ward, Kuresoi South, Nakuru, Rift V...</td>\n",
       "      <td>[-0.5212178, -0.4812178, 35.5575278, 35.5975278]</td>\n",
       "    </tr>\n",
       "    <tr>\n",
       "      <th>5</th>\n",
       "      <td>261111631</td>\n",
       "      <td>Data © OpenStreetMap contributors, ODbL 1.0. h...</td>\n",
       "      <td>node</td>\n",
       "      <td>2120329099</td>\n",
       "      <td>14.889474</td>\n",
       "      <td>-16.397391</td>\n",
       "      <td>place</td>\n",
       "      <td>village</td>\n",
       "      <td>19</td>\n",
       "      <td>0.275010</td>\n",
       "      <td>village</td>\n",
       "      <td>Gap</td>\n",
       "      <td>Gap, Communauté rurale de Gawane, Arrondisseme...</td>\n",
       "      <td>[14.8694741, 14.9094741, -16.4173910, -16.3773...</td>\n",
       "    </tr>\n",
       "    <tr>\n",
       "      <th>6</th>\n",
       "      <td>31898965</td>\n",
       "      <td>Data © OpenStreetMap contributors, ODbL 1.0. h...</td>\n",
       "      <td>node</td>\n",
       "      <td>9757397323</td>\n",
       "      <td>-0.604382</td>\n",
       "      <td>35.691628</td>\n",
       "      <td>place</td>\n",
       "      <td>village</td>\n",
       "      <td>19</td>\n",
       "      <td>0.275010</td>\n",
       "      <td>village</td>\n",
       "      <td>Gap</td>\n",
       "      <td>Gap, Amalo ward, Kuresoi South, Nakuru, Rift V...</td>\n",
       "      <td>[-0.6243819, -0.5843819, 35.6716279, 35.7116279]</td>\n",
       "    </tr>\n",
       "  </tbody>\n",
       "</table>\n",
       "</div>"
      ],
      "text/plain": [
       "    place_id                                            licence  osm_type  \\\n",
       "0   75016725  Data © OpenStreetMap contributors, ODbL 1.0. h...  relation   \n",
       "1   74245359  Data © OpenStreetMap contributors, ODbL 1.0. h...  relation   \n",
       "2  304698376  Data © OpenStreetMap contributors, ODbL 1.0. h...  relation   \n",
       "3   75023983  Data © OpenStreetMap contributors, ODbL 1.0. h...  relation   \n",
       "4   31972527  Data © OpenStreetMap contributors, ODbL 1.0. h...      node   \n",
       "5  261111631  Data © OpenStreetMap contributors, ODbL 1.0. h...      node   \n",
       "6   31898965  Data © OpenStreetMap contributors, ODbL 1.0. h...      node   \n",
       "\n",
       "       osm_id        lat        lon     class            type  place_rank  \\\n",
       "0      367142  44.561203   6.082064  boundary  administrative          16   \n",
       "1     1686356  44.530524   6.158032  boundary  administrative          14   \n",
       "2      189195  39.989477 -76.017351  boundary          census          25   \n",
       "3     4284735  44.579903   6.064656  boundary  administrative          18   \n",
       "4  9759352197  -0.501218  35.577528     place         village          19   \n",
       "5  2120329099  14.889474 -16.397391     place         village          19   \n",
       "6  9757397323  -0.604382  35.691628     place         village          19   \n",
       "\n",
       "   importance    addresstype name  \\\n",
       "0    0.543823           town  Gap   \n",
       "1    0.365126   municipality  Gap   \n",
       "2    0.362946       locality  Gap   \n",
       "3    0.300010  city_district  Gap   \n",
       "4    0.275010        village  Gap   \n",
       "5    0.275010        village  Gap   \n",
       "6    0.275010        village  Gap   \n",
       "\n",
       "                                        display_name  \\\n",
       "0  Gap, Hautes-Alpes, Provence-Alpes-Côte d'Azur,...   \n",
       "1  Gap, Hautes-Alpes, Provence-Alpes-Côte d'Azur,...   \n",
       "2  Gap, Salisbury Township, Lancaster County, Pen...   \n",
       "3  Gap, Hautes-Alpes, Provence-Alpes-Côte d'Azur,...   \n",
       "4  Gap, Tinet ward, Kuresoi South, Nakuru, Rift V...   \n",
       "5  Gap, Communauté rurale de Gawane, Arrondisseme...   \n",
       "6  Gap, Amalo ward, Kuresoi South, Nakuru, Rift V...   \n",
       "\n",
       "                                         boundingbox  \n",
       "0     [44.4947938, 44.6650138, 5.9805869, 6.1411293]  \n",
       "1     [44.1863785, 44.8745992, 5.4183896, 6.6843970]  \n",
       "2  [39.9753708, 40.0036652, -76.0428530, -75.9896...  \n",
       "3     [44.4947938, 44.6650138, 5.9805869, 6.1360635]  \n",
       "4   [-0.5212178, -0.4812178, 35.5575278, 35.5975278]  \n",
       "5  [14.8694741, 14.9094741, -16.4173910, -16.3773...  \n",
       "6   [-0.6243819, -0.5843819, 35.6716279, 35.7116279]  "
      ]
     },
     "execution_count": 8,
     "metadata": {},
     "output_type": "execute_result"
    }
   ],
   "source": [
    "# Filtrage sur le nom des villes. Doit être bien égale aux noms sur la liste \n",
    "city_df = city_df[city_df['name'].isin(city_list)]\n",
    "city_df"
   ]
  },
  {
   "cell_type": "code",
   "execution_count": 9,
   "metadata": {},
   "outputs": [
    {
     "name": "stderr",
     "output_type": "stream",
     "text": [
      "/tmp/ipykernel_13546/2732020439.py:7: SettingWithCopyWarning: \n",
      "A value is trying to be set on a copy of a slice from a DataFrame.\n",
      "Try using .loc[row_indexer,col_indexer] = value instead\n",
      "\n",
      "See the caveats in the documentation: https://pandas.pydata.org/pandas-docs/stable/user_guide/indexing.html#returning-a-view-versus-a-copy\n",
      "  city_df.loc[:, 'priority'] = city_df['addresstype'].map(priority_order).fillna(5) # La méthode fillna(4) est utilisée pour remplir les valeurs manquantes (NaN) dans la colonne priority avec le nombre 4\n"
     ]
    },
    {
     "data": {
      "text/html": [
       "<div>\n",
       "<style scoped>\n",
       "    .dataframe tbody tr th:only-of-type {\n",
       "        vertical-align: middle;\n",
       "    }\n",
       "\n",
       "    .dataframe tbody tr th {\n",
       "        vertical-align: top;\n",
       "    }\n",
       "\n",
       "    .dataframe thead th {\n",
       "        text-align: right;\n",
       "    }\n",
       "</style>\n",
       "<table border=\"1\" class=\"dataframe\">\n",
       "  <thead>\n",
       "    <tr style=\"text-align: right;\">\n",
       "      <th></th>\n",
       "      <th>place_id</th>\n",
       "      <th>licence</th>\n",
       "      <th>osm_type</th>\n",
       "      <th>osm_id</th>\n",
       "      <th>lat</th>\n",
       "      <th>lon</th>\n",
       "      <th>class</th>\n",
       "      <th>type</th>\n",
       "      <th>place_rank</th>\n",
       "      <th>importance</th>\n",
       "      <th>addresstype</th>\n",
       "      <th>name</th>\n",
       "      <th>display_name</th>\n",
       "      <th>boundingbox</th>\n",
       "    </tr>\n",
       "  </thead>\n",
       "  <tbody>\n",
       "    <tr>\n",
       "      <th>0</th>\n",
       "      <td>75016725</td>\n",
       "      <td>Data © OpenStreetMap contributors, ODbL 1.0. h...</td>\n",
       "      <td>relation</td>\n",
       "      <td>367142</td>\n",
       "      <td>44.561203</td>\n",
       "      <td>6.082064</td>\n",
       "      <td>boundary</td>\n",
       "      <td>administrative</td>\n",
       "      <td>16</td>\n",
       "      <td>0.543823</td>\n",
       "      <td>town</td>\n",
       "      <td>Gap</td>\n",
       "      <td>Gap, Hautes-Alpes, Provence-Alpes-Côte d'Azur,...</td>\n",
       "      <td>[44.4947938, 44.6650138, 5.9805869, 6.1411293]</td>\n",
       "    </tr>\n",
       "  </tbody>\n",
       "</table>\n",
       "</div>"
      ],
      "text/plain": [
       "   place_id                                            licence  osm_type  \\\n",
       "0  75016725  Data © OpenStreetMap contributors, ODbL 1.0. h...  relation   \n",
       "\n",
       "   osm_id        lat       lon     class            type  place_rank  \\\n",
       "0  367142  44.561203  6.082064  boundary  administrative          16   \n",
       "\n",
       "   importance addresstype name  \\\n",
       "0    0.543823        town  Gap   \n",
       "\n",
       "                                        display_name  \\\n",
       "0  Gap, Hautes-Alpes, Provence-Alpes-Côte d'Azur,...   \n",
       "\n",
       "                                      boundingbox  \n",
       "0  [44.4947938, 44.6650138, 5.9805869, 6.1411293]  "
      ]
     },
     "execution_count": 9,
     "metadata": {},
     "output_type": "execute_result"
    }
   ],
   "source": [
    "# Filtre sur la colonne `addresstype`.\n",
    "# Nous voulons les villes où `addresstype` == municipality ou town ou city\n",
    "# Et nous voulons garder un seul résultat par ville\n",
    "\n",
    "# Définir l'ordre de priorité pour la colonne 'addresstype'\n",
    "priority_order = {'town': 1, 'city': 2, 'municipality': 3, 'village': 4}\n",
    "city_df.loc[:, 'priority'] = city_df['addresstype'].map(priority_order).fillna(5) # La méthode fillna(4) est utilisée pour remplir les valeurs manquantes (NaN) dans la colonne priority avec le nombre 4\n",
    "\n",
    "# Trier les données en fonction du 'name' et de la priorité\n",
    "city_df = city_df.sort_values(by=['name', 'priority'])\n",
    "\n",
    "# Supprimer les doublons en gardant la première occurrence\n",
    "city_df = city_df.drop_duplicates(subset=['name'], keep='first')\n",
    "\n",
    "# Supprimer la colonne 'priority' qui n'est plus nécessaire\n",
    "city_df = city_df.drop(columns=['priority'])\n",
    "city_df"
   ]
  },
  {
   "cell_type": "markdown",
   "metadata": {},
   "source": [
    "Test de la récupération des données des différentes villes en synchrone et asynchrone, récupération des résultats de test."
   ]
  },
  {
   "cell_type": "code",
   "execution_count": 10,
   "metadata": {},
   "outputs": [
    {
     "name": "stderr",
     "output_type": "stream",
     "text": [
      "INFO:__main__:Starting query...\n",
      "INFO:__main__:The process took 18.148988485336304 seconds\n"
     ]
    },
    {
     "name": "stdout",
     "output_type": "stream",
     "text": [
      "The process took 18.148988485336304 seconds\n",
      "[[{'place_id': 247828266, 'licence': 'Data © OpenStreetMap contributors, ODbL 1.0. http://osm.org/copyright', 'osm_type': 'way', 'osm_id': 211285890, 'lat': '48.6359541', 'lon': '-1.511459954959514', 'class': 'place', 'type': 'islet', 'place_rank': 20, 'importance': 0.45543655678157396, 'addresstype': 'islet', 'name': 'Mont Saint-Michel', 'display_name': 'Mont Saint-Michel, Le Mont-Saint-Michel, Avranches, Manche, Normandie, France métropolitaine, 50170, France', 'boundingbox': ['48.6349172', '48.6370310', '-1.5133292', '-1.5094796']}, {'place_id': 69279522, 'licence': 'Data © OpenStreetMap contributors, ODbL 1.0. http://osm.org/copyright', 'osm_type': 'node', 'osm_id': 9581659906, 'lat': '43.897709', 'lon': '7.3644173', 'class': 'natural', 'type': 'peak', 'place_rank': 18, 'importance': 0.30000999999999994, 'addresstype': 'peak', 'name': 'Mont Saint-Michel', 'display_name': \"Mont Saint-Michel, Lucéram, Nice, Alpes-Maritimes, Provence-Alpes-Côte d'Azur, France métropolitaine, 06440, France\", 'boundingbox': ['43.8976590', '43.8977590', '7.3643673', '7.3644673']}, {'place_id': 69531254, 'licence': 'Data © OpenStreetMap contributors, ODbL 1.0. http://osm.org/copyright', 'osm_type': 'node', 'osm_id': 1581196576, 'lat': '43.8496443', 'lon': '7.0938927', 'class': 'natural', 'type': 'peak', 'place_rank': 18, 'importance': 0.30000999999999994, 'addresstype': 'peak', 'name': 'Mont Saint-Michel', 'display_name': \"Mont Saint-Michel, Les Ferres, Grasse, Alpes-Maritimes, Provence-Alpes-Côte d'Azur, France métropolitaine, 06510, France\", 'boundingbox': ['43.8495943', '43.8496943', '7.0938427', '7.0939427']}, {'place_id': 247586428, 'licence': 'Data © OpenStreetMap contributors, ODbL 1.0. http://osm.org/copyright', 'osm_type': 'node', 'osm_id': 5972710523, 'lat': '48.6360211', 'lon': '-1.5114947', 'class': 'natural', 'type': 'peak', 'place_rank': 18, 'importance': 0.30000999999999994, 'addresstype': 'peak', 'name': 'Mont Saint-Michel', 'display_name': 'Mont Saint-Michel, Le Mont-Saint-Michel, Avranches, Manche, Normandie, France métropolitaine, 50170, France', 'boundingbox': ['48.6359711', '48.6360711', '-1.5115447', '-1.5114447']}, {'place_id': 392574841, 'licence': 'Data © OpenStreetMap contributors, ODbL 1.0. http://osm.org/copyright', 'osm_type': 'node', 'osm_id': 11981568929, 'lat': '48.690668', 'lon': '5.8818463', 'class': 'natural', 'type': 'peak', 'place_rank': 18, 'importance': 0.16006674219882505, 'addresstype': 'peak', 'name': 'Mont Saint-Michel', 'display_name': 'Mont Saint-Michel, Toul, Meurthe-et-Moselle, Grand Est, France métropolitaine, 54200, France', 'boundingbox': ['48.6906180', '48.6907180', '5.8817963', '5.8818963']}, {'place_id': 391481258, 'licence': 'Data © OpenStreetMap contributors, ODbL 1.0. http://osm.org/copyright', 'osm_type': 'node', 'osm_id': 11964639486, 'lat': '48.7747476', 'lon': '7.359792', 'class': 'natural', 'type': 'peak', 'place_rank': 18, 'importance': 0.16006415884641792, 'addresstype': 'peak', 'name': 'Mont Saint-Michel', 'display_name': 'Mont Saint-Michel, Saint-Jean-Saverne, Saverne, Bas-Rhin, Grand Est, France métropolitaine, 67700, France', 'boundingbox': ['48.7746976', '48.7747976', '7.3597420', '7.3598420']}, {'place_id': 103740556, 'licence': 'Data © OpenStreetMap contributors, ODbL 1.0. http://osm.org/copyright', 'osm_type': 'node', 'osm_id': 1456267479, 'lat': '48.6906803', 'lon': '5.8826485', 'class': 'place', 'type': 'locality', 'place_rank': 25, 'importance': 0.12500999999999995, 'addresstype': 'locality', 'name': 'Mont Saint-Michel', 'display_name': 'Mont Saint-Michel, Régina Village, Saint-Mansuy, Toul, Meurthe-et-Moselle, Grand Est, France métropolitaine, 54200, France', 'boundingbox': ['48.6806803', '48.7006803', '5.8726485', '5.8926485']}], [{'place_id': 247779061, 'licence': 'Data © OpenStreetMap contributors, ODbL 1.0. http://osm.org/copyright', 'osm_type': 'relation', 'osm_id': 905534, 'lat': '48.649518', 'lon': '-2.0260409', 'class': 'boundary', 'type': 'administrative', 'place_rank': 16, 'importance': 0.5764672172428952, 'addresstype': 'town', 'name': 'Saint-Malo', 'display_name': 'Saint-Malo, Ille-et-Vilaine, Bretagne, France métropolitaine, 35400, France', 'boundingbox': ['48.5979853', '48.6949736', '-2.0765246', '-1.9367259']}, {'place_id': 247178783, 'licence': 'Data © OpenStreetMap contributors, ODbL 1.0. http://osm.org/copyright', 'osm_type': 'relation', 'osm_id': 1653637, 'lat': '48.4904728', 'lon': '-1.7421554637978962', 'class': 'boundary', 'type': 'administrative', 'place_rank': 14, 'importance': 0.4572742271829001, 'addresstype': 'municipality', 'name': 'Saint-Malo', 'display_name': 'Saint-Malo, Ille-et-Vilaine, Bretagne, France métropolitaine, France', 'boundingbox': ['48.2669570', '48.7220079', '-2.1619838', '-1.4850797']}, {'place_id': 249719488, 'licence': 'Data © OpenStreetMap contributors, ODbL 1.0. http://osm.org/copyright', 'osm_type': 'node', 'osm_id': 739408809, 'lat': '47.8093339', 'lon': '-1.5297978', 'class': 'place', 'type': 'hamlet', 'place_rank': 20, 'importance': 0.25000999999999995, 'addresstype': 'hamlet', 'name': 'Saint-Malo', 'display_name': 'Saint-Malo, Teillay, Redon, Ille-et-Vilaine, Bretagne, France métropolitaine, 35620, France', 'boundingbox': ['47.7893339', '47.8293339', '-1.5497978', '-1.5097978']}, {'place_id': 81362488, 'licence': 'Data © OpenStreetMap contributors, ODbL 1.0. http://osm.org/copyright', 'osm_type': 'node', 'osm_id': 10009043996, 'lat': '47.3017513', 'lon': '0.8006012', 'class': 'place', 'type': 'hamlet', 'place_rank': 20, 'importance': 0.25000999999999995, 'addresstype': 'hamlet', 'name': 'Saint-Malo', 'display_name': 'Saint-Malo, Esvres, Tours, Indre-et-Loire, Centre-Val de Loire, France métropolitaine, 37320, France', 'boundingbox': ['47.2817513', '47.3217513', '0.7806012', '0.8206012']}, {'place_id': 80456798, 'licence': 'Data © OpenStreetMap contributors, ODbL 1.0. http://osm.org/copyright', 'osm_type': 'node', 'osm_id': 9917850021, 'lat': '47.5883644', 'lon': '0.92302', 'class': 'place', 'type': 'neighbourhood', 'place_rank': 20, 'importance': 0.25000999999999995, 'addresstype': 'neighbourhood', 'name': 'Saint-Malo', 'display_name': 'Saint-Malo, La Bonleuvre, Auzouer-en-Touraine, Loches, Indre-et-Loire, Centre-Val de Loire, France métropolitaine, 37110, France', 'boundingbox': ['47.5783644', '47.5983644', '0.9130200', '0.9330200']}, {'place_id': 250729418, 'licence': 'Data © OpenStreetMap contributors, ODbL 1.0. http://osm.org/copyright', 'osm_type': 'node', 'osm_id': 4419648415, 'lat': '47.9759266', 'lon': '-2.3769864', 'class': 'place', 'type': 'hamlet', 'place_rank': 20, 'importance': 0.25000999999999995, 'addresstype': 'hamlet', 'name': 'Saint-Malo', 'display_name': 'Saint-Malo, Loyat, Pontivy, Morbihan, Bretagne, France métropolitaine, 56800, France', 'boundingbox': ['47.9559266', '47.9959266', '-2.3969864', '-2.3569864']}, {'place_id': 251044778, 'licence': 'Data © OpenStreetMap contributors, ODbL 1.0. http://osm.org/copyright', 'osm_type': 'node', 'osm_id': 4346569622, 'lat': '47.5368163', 'lon': '-2.1539705', 'class': 'place', 'type': 'hamlet', 'place_rank': 20, 'importance': 0.25000999999999995, 'addresstype': 'hamlet', 'name': 'Saint-Malo', 'display_name': 'Saint-Malo, Saint-Dolay, Vannes, Morbihan, Bretagne, France métropolitaine, 56130, France', 'boundingbox': ['47.5168163', '47.5568163', '-2.1739705', '-2.1339705']}, {'place_id': 248448717, 'licence': 'Data © OpenStreetMap contributors, ODbL 1.0. http://osm.org/copyright', 'osm_type': 'node', 'osm_id': 4381382983, 'lat': '47.9380971', 'lon': '-2.4112551', 'class': 'place', 'type': 'hamlet', 'place_rank': 20, 'importance': 0.25000999999999995, 'addresstype': 'hamlet', 'name': 'Saint-Malo', 'display_name': 'Saint-Malo, Ploërmel, Pontivy, Morbihan, Bretagne, France métropolitaine, 56800, France', 'boundingbox': ['47.9180971', '47.9580971', '-2.4312551', '-2.3912551']}, {'place_id': 373145500, 'licence': 'Data © OpenStreetMap contributors, ODbL 1.0. http://osm.org/copyright', 'osm_type': 'node', 'osm_id': 11351400833, 'lat': '48.2791352', 'lon': '-2.3009808', 'class': 'place', 'type': 'hamlet', 'place_rank': 20, 'importance': 0.25000999999999995, 'addresstype': 'hamlet', 'name': 'Saint-Malo', 'display_name': \"Saint-Malo, Lanrelas, Saint-Brieuc, Côtes-d'Armor, Bretagne, France métropolitaine, 22250, France\", 'boundingbox': ['48.2591352', '48.2991352', '-2.3209808', '-2.2809808']}, {'place_id': 246174729, 'licence': 'Data © OpenStreetMap contributors, ODbL 1.0. http://osm.org/copyright', 'osm_type': 'relation', 'osm_id': 1103584, 'lat': '49.0715715', 'lon': '-1.5407591', 'class': 'boundary', 'type': 'administrative', 'place_rank': 16, 'importance': 0.5435042209558164, 'addresstype': 'village', 'name': 'Saint-Malo-de-la-Lande', 'display_name': 'Saint-Malo-de-la-Lande, Coutances, Manche, Normandie, France métropolitaine, 50200, France', 'boundingbox': ['49.0502017', '49.0775480', '-1.5605848', '-1.5253460']}], [{'place_id': 246347430, 'licence': 'Data © OpenStreetMap contributors, ODbL 1.0. http://osm.org/copyright', 'osm_type': 'relation', 'osm_id': 145776, 'lat': '49.2764624', 'lon': '-0.7024738', 'class': 'boundary', 'type': 'administrative', 'place_rank': 16, 'importance': 0.5727003853621927, 'addresstype': 'town', 'name': 'Bayeux', 'display_name': 'Bayeux, Calvados, Normandie, France métropolitaine, 14400, France', 'boundingbox': ['49.2608124', '49.2934736', '-0.7275671', '-0.6757378']}, {'place_id': 246657444, 'licence': 'Data © OpenStreetMap contributors, ODbL 1.0. http://osm.org/copyright', 'osm_type': 'relation', 'osm_id': 1656892, 'lat': '49.2455634', 'lon': '-0.7916770441791112', 'class': 'boundary', 'type': 'administrative', 'place_rank': 14, 'importance': 0.37693710599680214, 'addresstype': 'municipality', 'name': 'Bayeux', 'display_name': 'Bayeux, Calvados, Normandie, France métropolitaine, France', 'boundingbox': ['49.0931773', '49.3978952', '-1.1412392', '-0.4113237']}], [{'place_id': 83892890, 'licence': 'Data © OpenStreetMap contributors, ODbL 1.0. http://osm.org/copyright', 'osm_type': 'relation', 'osm_id': 104492, 'lat': '49.4938975', 'lon': '0.1079732', 'class': 'boundary', 'type': 'administrative', 'place_rank': 16, 'importance': 0.6223325741883644, 'addresstype': 'city', 'name': 'Le Havre', 'display_name': 'Le Havre, Seine-Maritime, Normandie, France métropolitaine, France', 'boundingbox': ['49.4516697', '49.5401463', '0.0667992', '0.1955556']}, {'place_id': 84229919, 'licence': 'Data © OpenStreetMap contributors, ODbL 1.0. http://osm.org/copyright', 'osm_type': 'relation', 'osm_id': 3012370, 'lat': '49.627549200000004', 'lon': '0.3921241327294534', 'class': 'boundary', 'type': 'administrative', 'place_rank': 14, 'importance': 0.3752824455605189, 'addresstype': 'municipality', 'name': 'Le Havre', 'display_name': 'Le Havre, Seine-Maritime, Normandie, France métropolitaine, France', 'boundingbox': ['49.4287837', '49.8262540', '0.0657702', '0.6917633']}, {'place_id': 246392820, 'licence': 'Data © OpenStreetMap contributors, ODbL 1.0. http://osm.org/copyright', 'osm_type': 'node', 'osm_id': 3918888890, 'lat': '48.1571505', 'lon': '-1.7314713', 'class': 'place', 'type': 'hamlet', 'place_rank': 20, 'importance': 0.25000999999999995, 'addresstype': 'hamlet', 'name': 'Le Havre', 'display_name': 'Le Havre, Montgermont, Rennes, Ille-et-Vilaine, Bretagne, France métropolitaine, 35760, France', 'boundingbox': ['48.1371505', '48.1771505', '-1.7514713', '-1.7114713']}, {'place_id': 246363725, 'licence': 'Data © OpenStreetMap contributors, ODbL 1.0. http://osm.org/copyright', 'osm_type': 'node', 'osm_id': 9445672954, 'lat': '49.1680287', 'lon': '-0.2084173', 'class': 'place', 'type': 'hamlet', 'place_rank': 20, 'importance': 0.25000999999999995, 'addresstype': 'hamlet', 'name': 'Le Havre', 'display_name': 'Le Havre, Banneville-la-Campagne, Caen, Calvados, Normandie, France métropolitaine, 14940, France', 'boundingbox': ['49.1480287', '49.1880287', '-0.2284173', '-0.1884173']}, {'place_id': 247406222, 'licence': 'Data © OpenStreetMap contributors, ODbL 1.0. http://osm.org/copyright', 'osm_type': 'node', 'osm_id': 2934385149, 'lat': '48.5561794', 'lon': '-1.8847792', 'class': 'place', 'type': 'hamlet', 'place_rank': 20, 'importance': 0.25000999999999995, 'addresstype': 'hamlet', 'name': 'Le Havre', 'display_name': 'Le Havre, Miniac-Morvan, Saint-Malo, Ille-et-Vilaine, Bretagne, France métropolitaine, 35540, France', 'boundingbox': ['48.5361794', '48.5761794', '-1.9047792', '-1.8647792']}], [{'place_id': 84448726, 'licence': 'Data © OpenStreetMap contributors, ODbL 1.0. http://osm.org/copyright', 'osm_type': 'relation', 'osm_id': 75628, 'lat': '49.4404591', 'lon': '1.0939658', 'class': 'boundary', 'type': 'administrative', 'place_rank': 16, 'importance': 0.6400726280583954, 'addresstype': 'city', 'name': 'Rouen', 'display_name': 'Rouen, Seine-Maritime, Normandie, France métropolitaine, France', 'boundingbox': ['49.4172001', '49.4652601', '1.0300648', '1.1521157']}, {'place_id': 84156857, 'licence': 'Data © OpenStreetMap contributors, ODbL 1.0. http://osm.org/copyright', 'osm_type': 'relation', 'osm_id': 3018659, 'lat': '49.518435', 'lon': '1.0221643441483266', 'class': 'boundary', 'type': 'administrative', 'place_rank': 14, 'importance': 0.39374236796222783, 'addresstype': 'municipality', 'name': 'Rouen', 'display_name': 'Rouen, Seine-Maritime, Normandie, France métropolitaine, France', 'boundingbox': ['49.2506708', '49.7851695', '0.6000692', '1.4521223']}], [{'place_id': 82615589, 'licence': 'Data © OpenStreetMap contributors, ODbL 1.0. http://osm.org/copyright', 'osm_type': 'relation', 'osm_id': 7444, 'lat': '48.8588897', 'lon': '2.3200410217200766', 'class': 'boundary', 'type': 'administrative', 'place_rank': 15, 'importance': 0.8317101715588673, 'addresstype': 'suburb', 'name': 'Paris', 'display_name': 'Paris, Île-de-France, France métropolitaine, France', 'boundingbox': ['48.8155755', '48.9021560', '2.2241220', '2.4697602']}, {'place_id': 82297359, 'licence': 'Data © OpenStreetMap contributors, ODbL 1.0. http://osm.org/copyright', 'osm_type': 'relation', 'osm_id': 71525, 'lat': '48.8534951', 'lon': '2.3483915', 'class': 'boundary', 'type': 'administrative', 'place_rank': 12, 'importance': 0.8317101715588673, 'addresstype': 'city', 'name': 'Paris', 'display_name': 'Paris, Île-de-France, France métropolitaine, France', 'boundingbox': ['48.8155755', '48.9021560', '2.2241220', '2.4697602']}, {'place_id': 83151333, 'licence': 'Data © OpenStreetMap contributors, ODbL 1.0. http://osm.org/copyright', 'osm_type': 'relation', 'osm_id': 1641193, 'lat': '48.8588897', 'lon': '2.3200410217200766', 'class': 'boundary', 'type': 'administrative', 'place_rank': 14, 'importance': 0.4283953917728152, 'addresstype': 'city_district', 'name': 'Paris', 'display_name': 'Paris, Île-de-France, France métropolitaine, France', 'boundingbox': ['48.8155755', '48.9021560', '2.2241220', '2.4697602']}], [{'place_id': 393031265, 'licence': 'Data © OpenStreetMap contributors, ODbL 1.0. http://osm.org/copyright', 'osm_type': 'relation', 'osm_id': 114347, 'lat': '49.8941708', 'lon': '2.2956951', 'class': 'boundary', 'type': 'administrative', 'place_rank': 16, 'importance': 0.6249489622249039, 'addresstype': 'city', 'name': 'Amiens', 'display_name': 'Amiens, Somme, Hauts-de-France, France métropolitaine, France', 'boundingbox': ['49.8468370', '49.9505487', '2.2235574', '2.3457767']}, {'place_id': 84636926, 'licence': 'Data © OpenStreetMap contributors, ODbL 1.0. http://osm.org/copyright', 'osm_type': 'relation', 'osm_id': 3257541, 'lat': '49.9610783', 'lon': '2.2518180697364363', 'class': 'boundary', 'type': 'administrative', 'place_rank': 14, 'importance': 0.4071003594381197, 'addresstype': 'municipality', 'name': 'Amiens', 'display_name': 'Amiens, Somme, Hauts-de-France, France métropolitaine, France', 'boundingbox': ['49.6831180', '50.2390386', '1.6355161', '2.6799559']}], [{'place_id': 87223586, 'licence': 'Data © OpenStreetMap contributors, ODbL 1.0. http://osm.org/copyright', 'osm_type': 'relation', 'osm_id': 58404, 'lat': '50.6365654', 'lon': '3.0635282', 'class': 'boundary', 'type': 'administrative', 'place_rank': 16, 'importance': 0.6532037863087654, 'addresstype': 'city', 'name': 'Lille', 'display_name': 'Lille, Nord, Hauts-de-France, France métropolitaine, France', 'boundingbox': ['50.6008264', '50.6612596', '2.9679677', '3.1257250']}, {'place_id': 91572942, 'licence': 'Data © OpenStreetMap contributors, ODbL 1.0. http://osm.org/copyright', 'osm_type': 'relation', 'osm_id': 1643919, 'lat': '50.61806395', 'lon': '3.045303691127442', 'class': 'boundary', 'type': 'administrative', 'place_rank': 14, 'importance': 0.3805052507959779, 'addresstype': 'municipality', 'name': 'Lille', 'display_name': 'Lille, Nord, Hauts-de-France, France métropolitaine, France', 'boundingbox': ['50.4416259', '50.7946088', '2.7891320', '3.3291133']}], [{'place_id': 381263750, 'licence': 'Data © OpenStreetMap contributors, ODbL 1.0. http://osm.org/copyright', 'osm_type': 'relation', 'osm_id': 71033, 'lat': '48.584614', 'lon': '7.7507127', 'class': 'boundary', 'type': 'administrative', 'place_rank': 16, 'importance': 0.674805427911873, 'addresstype': 'city', 'name': 'Strasbourg', 'display_name': 'Strasbourg, Bas-Rhin, Grand Est, France métropolitaine, France', 'boundingbox': ['48.4918610', '48.6461896', '7.6881371', '7.8360646']}, {'place_id': 381263759, 'licence': 'Data © OpenStreetMap contributors, ODbL 1.0. http://osm.org/copyright', 'osm_type': 'relation', 'osm_id': 4630050, 'lat': '48.5681009', 'lon': '7.688597194984311', 'class': 'boundary', 'type': 'administrative', 'place_rank': 14, 'importance': 0.4366178720918442, 'addresstype': 'municipality', 'name': 'Strasbourg', 'display_name': 'Strasbourg, Bas-Rhin, Grand Est, France métropolitaine, France', 'boundingbox': ['48.4339379', '48.7022939', '7.5377795', '7.8957138']}], [{'place_id': 103949297, 'licence': 'Data © OpenStreetMap contributors, ODbL 1.0. http://osm.org/copyright', 'osm_type': 'node', 'osm_id': 4245068168, 'lat': '48.2495226', 'lon': '7.3454923', 'class': 'place', 'type': 'isolated_dwelling', 'place_rank': 22, 'importance': 0.10672799038681618, 'addresstype': 'isolated_dwelling', 'name': 'Château du Haut-Kœnigsbourg', 'display_name': 'Château du Haut-Kœnigsbourg, Orschwiller, Sélestat-Erstein, Bas-Rhin, Grand Est, France métropolitaine, 67600, France', 'boundingbox': ['48.2494726', '48.2495726', '7.3454423', '7.3455423']}], [{'place_id': 104313212, 'licence': 'Data © OpenStreetMap contributors, ODbL 1.0. http://osm.org/copyright', 'osm_type': 'relation', 'osm_id': 61423, 'lat': '48.0777517', 'lon': '7.3579641', 'class': 'boundary', 'type': 'administrative', 'place_rank': 16, 'importance': 0.5852964807109542, 'addresstype': 'town', 'name': 'Colmar', 'display_name': 'Colmar, Colmar-Ribeauvillé, Haut-Rhin, Grand Est, France métropolitaine, 68000, France', 'boundingbox': ['48.0407053', '48.1820620', '7.3154803', '7.4691670']}], [{'place_id': 105237256, 'licence': 'Data © OpenStreetMap contributors, ODbL 1.0. http://osm.org/copyright', 'osm_type': 'relation', 'osm_id': 79442, 'lat': '48.0447968', 'lon': '7.3079618', 'class': 'boundary', 'type': 'administrative', 'place_rank': 16, 'importance': 0.5249720206561967, 'addresstype': 'village', 'name': 'Eguisheim', 'display_name': 'Eguisheim, Colmar-Ribeauvillé, Haut-Rhin, Grand Est, France métropolitaine, 68420, France', 'boundingbox': ['48.0240327', '48.0515072', '7.2412792', '7.3518540']}], [{'place_id': 78119549, 'licence': 'Data © OpenStreetMap contributors, ODbL 1.0. http://osm.org/copyright', 'osm_type': 'relation', 'osm_id': 103599, 'lat': '47.2380222', 'lon': '6.0243622', 'class': 'boundary', 'type': 'administrative', 'place_rank': 16, 'importance': 0.6183511874833898, 'addresstype': 'city', 'name': 'Besançon', 'display_name': 'Besançon, Doubs, Bourgogne-Franche-Comté, France métropolitaine, 25000, France', 'boundingbox': ['47.2006872', '47.3200746', '5.9409668', '6.0835059']}, {'place_id': 77635039, 'licence': 'Data © OpenStreetMap contributors, ODbL 1.0. http://osm.org/copyright', 'osm_type': 'relation', 'osm_id': 1682291, 'lat': '47.228367899999995', 'lon': '6.01892310902501', 'class': 'boundary', 'type': 'administrative', 'place_rank': 14, 'importance': 0.3985240140444952, 'addresstype': 'municipality', 'name': 'Besançon', 'display_name': 'Besançon, Doubs, Bourgogne-Franche-Comté, France métropolitaine, France', 'boundingbox': ['46.9342078', '47.5224481', '5.6987633', '6.5005111']}], [{'place_id': 80148706, 'licence': 'Data © OpenStreetMap contributors, ODbL 1.0. http://osm.org/copyright', 'osm_type': 'relation', 'osm_id': 74090, 'lat': '47.3215806', 'lon': '5.0414701', 'class': 'boundary', 'type': 'administrative', 'place_rank': 16, 'importance': 0.6336193867801005, 'addresstype': 'city', 'name': 'Dijon', 'display_name': \"Dijon, Côte-d'Or, Bourgogne-Franche-Comté, France métropolitaine, 21000, France\", 'boundingbox': ['47.2862467', '47.3774741', '4.9624434', '5.1020598']}, {'place_id': 79984703, 'licence': 'Data © OpenStreetMap contributors, ODbL 1.0. http://osm.org/copyright', 'osm_type': 'relation', 'osm_id': 1685958, 'lat': '47.4087504', 'lon': '5.064635891748798', 'class': 'boundary', 'type': 'administrative', 'place_rank': 14, 'importance': 0.3919557965128309, 'addresstype': 'municipality', 'name': 'Dijon', 'display_name': \"Dijon, Côte-d'Or, Bourgogne-Franche-Comté, France métropolitaine, France\", 'boundingbox': ['47.1075054', '47.7099499', '4.5687150', '5.5188651']}], [{'place_id': 75219496, 'licence': 'Data © OpenStreetMap contributors, ODbL 1.0. http://osm.org/copyright', 'osm_type': 'relation', 'osm_id': 6791758, 'lat': '45.8992348', 'lon': '6.1288847', 'class': 'boundary', 'type': 'administrative', 'place_rank': 16, 'importance': 0.5790769115704565, 'addresstype': 'city', 'name': 'Annecy', 'display_name': 'Annecy, Haute-Savoie, Auvergne-Rhône-Alpes, France métropolitaine, France', 'boundingbox': ['45.8280024', '45.9766928', '6.0484121', '6.2043932']}, {'place_id': 75248768, 'licence': 'Data © OpenStreetMap contributors, ODbL 1.0. http://osm.org/copyright', 'osm_type': 'relation', 'osm_id': 1668737, 'lat': '45.8782687', 'lon': '6.170009338578226', 'class': 'boundary', 'type': 'administrative', 'place_rank': 14, 'importance': 0.3398058423953755, 'addresstype': 'municipality', 'name': 'Annecy', 'display_name': 'Annecy, Haute-Savoie, Auvergne-Rhône-Alpes, France métropolitaine, France', 'boundingbox': ['45.6817078', '46.0702526', '5.8624243', '6.5559605']}, {'place_id': 75363887, 'licence': 'Data © OpenStreetMap contributors, ODbL 1.0. http://osm.org/copyright', 'osm_type': 'relation', 'osm_id': 102480, 'lat': '45.88975045', 'lon': '6.135465100225999', 'class': 'boundary', 'type': 'administrative', 'place_rank': 18, 'importance': 0.15315075904307598, 'addresstype': 'city_district', 'name': 'Annecy', 'display_name': 'Annecy, Haute-Savoie, Auvergne-Rhône-Alpes, France métropolitaine, 74000, France', 'boundingbox': ['45.8492306', '45.9303296', '6.1010113', '6.1559310']}], [{'place_id': 75851648, 'licence': 'Data © OpenStreetMap contributors, ODbL 1.0. http://osm.org/copyright', 'osm_type': 'relation', 'osm_id': 80348, 'lat': '45.1875602', 'lon': '5.7357819', 'class': 'boundary', 'type': 'administrative', 'place_rank': 16, 'importance': 0.641808549572345, 'addresstype': 'city', 'name': 'Grenoble', 'display_name': 'Grenoble, Isère, Auvergne-Rhône-Alpes, France métropolitaine, France', 'boundingbox': ['45.1541442', '45.2140762', '5.6776059', '5.7531315']}, {'place_id': 75373276, 'licence': 'Data © OpenStreetMap contributors, ODbL 1.0. http://osm.org/copyright', 'osm_type': 'relation', 'osm_id': 1676230, 'lat': '45.0940786', 'lon': '5.697197979937964', 'class': 'boundary', 'type': 'administrative', 'place_rank': 14, 'importance': 0.401059138797379, 'addresstype': 'municipality', 'name': 'Grenoble', 'display_name': 'Grenoble, Isère, Auvergne-Rhône-Alpes, France métropolitaine, France', 'boundingbox': ['44.6958924', '45.4923349', '5.1346493', '6.3590884']}], [{'place_id': 75707165, 'licence': 'Data © OpenStreetMap contributors, ODbL 1.0. http://osm.org/copyright', 'osm_type': 'relation', 'osm_id': 120965, 'lat': '45.7578137', 'lon': '4.8320114', 'class': 'boundary', 'type': 'administrative', 'place_rank': 16, 'importance': 0.6913775965432666, 'addresstype': 'city', 'name': 'Lyon', 'display_name': 'Lyon, Métropole de Lyon, Rhône, Auvergne-Rhône-Alpes, France métropolitaine, France', 'boundingbox': ['45.7073666', '45.8082628', '4.7718134', '4.8983774']}, {'place_id': 75880620, 'licence': 'Data © OpenStreetMap contributors, ODbL 1.0. http://osm.org/copyright', 'osm_type': 'relation', 'osm_id': 1663048, 'lat': '45.6963425', 'lon': '4.735948029916814', 'class': 'boundary', 'type': 'administrative', 'place_rank': 14, 'importance': 0.3688043506708112, 'addresstype': 'municipality', 'name': 'Lyon', 'display_name': 'Lyon, Rhône, Auvergne-Rhône-Alpes, France métropolitaine, France', 'boundingbox': ['45.4540260', '45.9393015', '4.3480714', '5.1603205']}], [{'place_id': 69158796, 'licence': 'Data © OpenStreetMap contributors, ODbL 1.0. http://osm.org/copyright', 'osm_type': 'node', 'osm_id': 7193513219, 'lat': '43.7496562', 'lon': '6.3285616', 'class': 'natural', 'type': 'gorge', 'place_rank': 22, 'importance': 0.37814958574294283, 'addresstype': 'gorge', 'name': 'Gorges du Verdon', 'display_name': \"Gorges du Verdon, La Palud-sur-Verdon, Castellane, Alpes-de-Haute-Provence, Provence-Alpes-Côte d'Azur, France métropolitaine, 04120, France\", 'boundingbox': ['43.7496062', '43.7497062', '6.3285116', '6.3286116']}], [{'place_id': 69637399, 'licence': 'Data © OpenStreetMap contributors, ODbL 1.0. http://osm.org/copyright', 'osm_type': 'relation', 'osm_id': 1118915, 'lat': '43.1506968', 'lon': '6.3419285', 'class': 'boundary', 'type': 'administrative', 'place_rank': 16, 'importance': 0.4773164194582208, 'addresstype': 'village', 'name': 'Bormes-les-Mimosas', 'display_name': \"Bormes-les-Mimosas, Toulon, Var, Provence-Alpes-Côte d'Azur, France métropolitaine, 83230, France\", 'boundingbox': ['43.0864271', '43.2278201', '6.2716142', '6.4514893']}], [{'place_id': 70448791, 'licence': 'Data © OpenStreetMap contributors, ODbL 1.0. http://osm.org/copyright', 'osm_type': 'relation', 'osm_id': 76425, 'lat': '43.2140359', 'lon': '5.5396318', 'class': 'boundary', 'type': 'administrative', 'place_rank': 16, 'importance': 0.4767802490530644, 'addresstype': 'village', 'name': 'Cassis', 'display_name': \"Cassis, Marseille, Bouches-du-Rhône, Provence-Alpes-Côte d'Azur, France métropolitaine, 13260, France\", 'boundingbox': ['43.1884732', '43.2487231', '5.5063193', '5.5945199']}], [{'place_id': 386999106, 'licence': 'Data © OpenStreetMap contributors, ODbL 1.0. http://osm.org/copyright', 'osm_type': 'relation', 'osm_id': 76469, 'lat': '43.2961743', 'lon': '5.3699525', 'class': 'boundary', 'type': 'administrative', 'place_rank': 16, 'importance': 0.6813768937556641, 'addresstype': 'city', 'name': 'Marseille', 'display_name': \"Marseille, Bouches-du-Rhône, Provence-Alpes-Côte d'Azur, France métropolitaine, 13000, France\", 'boundingbox': ['43.1696228', '43.3910329', '5.2286312', '5.5324758']}, {'place_id': 70346052, 'licence': 'Data © OpenStreetMap contributors, ODbL 1.0. http://osm.org/copyright', 'osm_type': 'relation', 'osm_id': 1686370, 'lat': '43.301487800000004', 'lon': '5.548001012099657', 'class': 'boundary', 'type': 'administrative', 'place_rank': 14, 'importance': 0.3143170044259858, 'addresstype': 'municipality', 'name': 'Marseille', 'display_name': \"Marseille, Bouches-du-Rhône, Provence-Alpes-Côte d'Azur, France métropolitaine, France\", 'boundingbox': ['43.1573984', '43.4427166', '5.2286312', '5.7628627']}], [{'place_id': 69631975, 'licence': 'Data © OpenStreetMap contributors, ODbL 1.0. http://osm.org/copyright', 'osm_type': 'relation', 'osm_id': 70279, 'lat': '43.5298424', 'lon': '5.4474738', 'class': 'boundary', 'type': 'administrative', 'place_rank': 16, 'importance': 0.591084766383758, 'addresstype': 'city', 'name': 'Aix-en-Provence', 'display_name': \"Aix-en-Provence, Bouches-du-Rhône, Provence-Alpes-Côte d'Azur, France métropolitaine, France\", 'boundingbox': ['43.4461058', '43.6259224', '5.2694745', '5.5063013']}, {'place_id': 69356928, 'licence': 'Data © OpenStreetMap contributors, ODbL 1.0. http://osm.org/copyright', 'osm_type': 'relation', 'osm_id': 1686391, 'lat': '43.570984749999994', 'lon': '5.382418891915822', 'class': 'boundary', 'type': 'administrative', 'place_rank': 14, 'importance': 0.3315759822763769, 'addresstype': 'municipality', 'name': 'Aix-en-Provence', 'display_name': \"Aix-en-Provence, Bouches-du-Rhône, Provence-Alpes-Côte d'Azur, France métropolitaine, France\", 'boundingbox': ['43.3681732', '43.7721131', '4.9534171', '5.8135205']}], [{'place_id': 69267689, 'licence': 'Data © OpenStreetMap contributors, ODbL 1.0. http://osm.org/copyright', 'osm_type': 'relation', 'osm_id': 102478, 'lat': '43.9492493', 'lon': '4.8059012', 'class': 'boundary', 'type': 'administrative', 'place_rank': 16, 'importance': 0.6220935210501682, 'addresstype': 'city', 'name': 'Avignon', 'display_name': \"Avignon, Vaucluse, Provence-Alpes-Côte d'Azur, France métropolitaine, France\", 'boundingbox': ['43.8873819', '43.9967419', '4.7396309', '4.9271468']}, {'place_id': 247654992, 'licence': 'Data © OpenStreetMap contributors, ODbL 1.0. http://osm.org/copyright', 'osm_type': 'node', 'osm_id': 6098960124, 'lat': '48.3912703', 'lon': '-1.7581987', 'class': 'place', 'type': 'hamlet', 'place_rank': 20, 'importance': 0.25000999999999995, 'addresstype': 'hamlet', 'name': 'Avignon', 'display_name': 'Avignon, Combourg, Saint-Malo, Ille-et-Vilaine, Bretagne, France métropolitaine, 35270, France', 'boundingbox': ['48.3712703', '48.4112703', '-1.7781987', '-1.7381987']}, {'place_id': 80228167, 'licence': 'Data © OpenStreetMap contributors, ODbL 1.0. http://osm.org/copyright', 'osm_type': 'node', 'osm_id': 1875807654, 'lat': '46.686008', 'lon': '1.0996784', 'class': 'place', 'type': 'hamlet', 'place_rank': 20, 'importance': 0.25000999999999995, 'addresstype': 'hamlet', 'name': 'Avignon', 'display_name': 'Avignon, Douadic, Le Blanc, Indre, Centre-Val de Loire, France métropolitaine, 36300, France', 'boundingbox': ['46.6660080', '46.7060080', '1.0796784', '1.1196784']}, {'place_id': 367812770, 'licence': 'Data © OpenStreetMap contributors, ODbL 1.0. http://osm.org/copyright', 'osm_type': 'node', 'osm_id': 11208917808, 'lat': '47.5124793', 'lon': '1.819842', 'class': 'place', 'type': 'hamlet', 'place_rank': 20, 'importance': 0.25000999999999995, 'addresstype': 'hamlet', 'name': 'Avignon', 'display_name': 'Avignon, Neung-sur-Beuvron, Romorantin-Lanthenay, Loir-et-Cher, Centre-Val de Loire, France métropolitaine, 41210, France', 'boundingbox': ['47.4924793', '47.5324793', '1.7998420', '1.8398420']}, {'place_id': 69842700, 'licence': 'Data © OpenStreetMap contributors, ODbL 1.0. http://osm.org/copyright', 'osm_type': 'relation', 'osm_id': 1693195, 'lat': '43.96364775', 'lon': '4.942463641544419', 'class': 'boundary', 'type': 'administrative', 'place_rank': 14, 'importance': 0.21340554436560613, 'addresstype': 'municipality', 'name': 'Avignon', 'display_name': \"Avignon, Vaucluse, Provence-Alpes-Côte d'Azur, France métropolitaine, France\", 'boundingbox': ['43.8504637', '44.0766814', '4.7396309', '5.1599743']}], [{'place_id': 74174459, 'licence': 'Data © OpenStreetMap contributors, ODbL 1.0. http://osm.org/copyright', 'osm_type': 'relation', 'osm_id': 380050, 'lat': '44.0121279', 'lon': '4.4196718', 'class': 'boundary', 'type': 'administrative', 'place_rank': 16, 'importance': 0.5375332788749554, 'addresstype': 'village', 'name': 'Uzès', 'display_name': 'Uzès, Nîmes, Gard, Occitanie, France métropolitaine, 30700, France', 'boundingbox': ['43.9811093', '44.0765914', '4.3852299', '4.4467859']}, {'place_id': 73434431, 'licence': 'Data © OpenStreetMap contributors, ODbL 1.0. http://osm.org/copyright', 'osm_type': 'relation', 'osm_id': 4576126, 'lat': '44.020800699999995', 'lon': '4.417015632367233', 'class': 'boundary', 'type': 'political', 'place_rank': 25, 'importance': 0.3977523933320028, 'addresstype': 'political', 'name': 'Uzès', 'display_name': 'Uzès, Gard, Occitanie, France métropolitaine, France', 'boundingbox': ['43.8952743', '44.1467214', '4.2444543', '4.5672822']}], [{'place_id': 69339886, 'licence': 'Data © OpenStreetMap contributors, ODbL 1.0. http://osm.org/copyright', 'osm_type': 'relation', 'osm_id': 378685, 'lat': '43.8374249', 'lon': '4.3600687', 'class': 'boundary', 'type': 'administrative', 'place_rank': 16, 'importance': 0.6030547856893241, 'addresstype': 'city', 'name': 'Nîmes', 'display_name': 'Nîmes, Gard, Occitanie, France métropolitaine, France', 'boundingbox': ['43.7412659', '43.9230177', '4.2356708', '4.4496605']}, {'place_id': 70314781, 'licence': 'Data © OpenStreetMap contributors, ODbL 1.0. http://osm.org/copyright', 'osm_type': 'relation', 'osm_id': 2757959, 'lat': '43.9023189', 'lon': '4.390525733141193', 'class': 'boundary', 'type': 'administrative', 'place_rank': 14, 'importance': 0.37472087083815586, 'addresstype': 'municipality', 'name': 'Nîmes', 'display_name': 'Nîmes, Gard, Occitanie, France métropolitaine, France', 'boundingbox': ['43.4601970', '44.3443155', '4.0009632', '4.8455335']}], [{'place_id': 70199438, 'licence': 'Data © OpenStreetMap contributors, ODbL 1.0. http://osm.org/copyright', 'osm_type': 'relation', 'osm_id': 272287, 'lat': '43.5661521', 'lon': '4.19154', 'class': 'boundary', 'type': 'administrative', 'place_rank': 16, 'importance': 0.5323802893018253, 'addresstype': 'town', 'name': 'Aigues-Mortes', 'display_name': 'Aigues-Mortes, Nîmes, Gard, Occitanie, France métropolitaine, 30220, France', 'boundingbox': ['43.4958113', '43.5920372', '4.0760703', '4.2442867']}, {'place_id': 78813858, 'licence': 'Data © OpenStreetMap contributors, ODbL 1.0. http://osm.org/copyright', 'osm_type': 'node', 'osm_id': 5196911673, 'lat': '45.3314132', 'lon': '1.03014', 'class': 'place', 'type': 'hamlet', 'place_rank': 20, 'importance': 0.25000999999999995, 'addresstype': 'hamlet', 'name': 'Aigues Mortes', 'display_name': \"Aigues Mortes, Saint-Martial-d'Albarède, Nontron, Dordogne, Nouvelle-Aquitaine, France métropolitaine, 24160, France\", 'boundingbox': ['45.3114132', '45.3514132', '1.0101400', '1.0501400']}], [{'place_id': 70255468, 'licence': 'Data © OpenStreetMap contributors, ODbL 1.0. http://osm.org/copyright', 'osm_type': 'relation', 'osm_id': 414459, 'lat': '43.4515922', 'lon': '4.4277202', 'class': 'boundary', 'type': 'administrative', 'place_rank': 16, 'importance': 0.4725165122764473, 'addresstype': 'town', 'name': 'Saintes-Maries-de-la-Mer', 'display_name': \"Saintes-Maries-de-la-Mer, Arles, Bouches-du-Rhône, Provence-Alpes-Côte d'Azur, France métropolitaine, 13460, France\", 'boundingbox': ['43.4062445', '43.5858463', '4.2301364', '4.6444785']}], [{'place_id': 71853633, 'licence': 'Data © OpenStreetMap contributors, ODbL 1.0. http://osm.org/copyright', 'osm_type': 'relation', 'osm_id': 18409, 'lat': '42.52505', 'lon': '3.0831554', 'class': 'boundary', 'type': 'administrative', 'place_rank': 16, 'importance': 0.5084088842062249, 'addresstype': 'village', 'name': 'Collioure', 'display_name': 'Collioure, Céret, Pyrénées-Orientales, Occitanie, France métropolitaine, 66190, France', 'boundingbox': ['42.4832453', '42.5341084', '3.0495074', '3.0994238']}, {'place_id': 381193052, 'licence': 'Data © OpenStreetMap contributors, ODbL 1.0. http://osm.org/copyright', 'osm_type': 'node', 'osm_id': 11599618832, 'lat': '43.22907', 'lon': '1.4757997', 'class': 'place', 'type': 'hamlet', 'place_rank': 20, 'importance': 0.25000999999999995, 'addresstype': 'hamlet', 'name': 'Collioure', 'display_name': 'Collioure, Marliac, Muret, Haute-Garonne, Occitanie, France métropolitaine, 31550, France', 'boundingbox': ['43.2090700', '43.2490700', '1.4557997', '1.4957997']}], [{'place_id': 71584138, 'licence': 'Data © OpenStreetMap contributors, ODbL 1.0. http://osm.org/copyright', 'osm_type': 'relation', 'osm_id': 37774, 'lat': '43.2130358', 'lon': '2.3491069', 'class': 'boundary', 'type': 'administrative', 'place_rank': 16, 'importance': 0.5891672924570599, 'addresstype': 'town', 'name': 'Carcassonne', 'display_name': 'Carcassonne, Aude, Occitanie, France métropolitaine, 11000, France', 'boundingbox': ['43.1713069', '43.2443707', '2.2615684', '2.4362676']}, {'place_id': 374222537, 'licence': 'Data © OpenStreetMap contributors, ODbL 1.0. http://osm.org/copyright', 'osm_type': 'relation', 'osm_id': 2753432, 'lat': '43.24558525', 'lon': '2.191051094614102', 'class': 'boundary', 'type': 'administrative', 'place_rank': 14, 'importance': 0.3763904735942329, 'addresstype': 'municipality', 'name': 'Carcassonne', 'display_name': 'Carcassonne, Aude, Occitanie, France métropolitaine, France', 'boundingbox': ['43.0311477', '43.4600382', '1.6887151', '2.7118623']}], [{'place_id': 71651196, 'licence': 'Data © OpenStreetMap contributors, ODbL 1.0. http://osm.org/copyright', 'osm_type': 'relation', 'osm_id': 1806623, 'lat': '42.8458016', 'lon': '1.6067586', 'class': 'boundary', 'type': 'administrative', 'place_rank': 16, 'importance': 0.5156394757313355, 'addresstype': 'village', 'name': 'Tarascon-sur-Ariège', 'display_name': 'Tarascon-sur-Ariège, Foix, Ariège, Occitanie, France métropolitaine, 09400, France', 'boundingbox': ['42.8251052', '42.8622713', '1.5600405', '1.6270996']}, {'place_id': 71420546, 'licence': 'Data © OpenStreetMap contributors, ODbL 1.0. http://osm.org/copyright', 'osm_type': 'relation', 'osm_id': 2106660, 'lat': '42.9427221', 'lon': '1.6164435', 'class': 'boundary', 'type': 'administrative', 'place_rank': 16, 'importance': 0.509225431379897, 'addresstype': 'village', 'name': 'Ferrières-sur-Ariège', 'display_name': 'Ferrières-sur-Ariège, Foix, Ariège, Occitanie, France métropolitaine, 09000, France', 'boundingbox': ['42.9279201', '42.9509529', '1.5898701', '1.6212670']}, {'place_id': 72489550, 'licence': 'Data © OpenStreetMap contributors, ODbL 1.0. http://osm.org/copyright', 'osm_type': 'relation', 'osm_id': 1813265, 'lat': '43.0272619', 'lon': '1.8786818', 'class': 'boundary', 'type': 'administrative', 'place_rank': 16, 'importance': 0.5083605134521089, 'addresstype': 'village', 'name': \"Troye-d'Ariège\", 'display_name': \"Troye-d'Ariège, Pamiers, Ariège, Occitanie, France métropolitaine, 09500, France\", 'boundingbox': ['43.0012902', '43.0461216', '1.8663345', '1.9146063']}, {'place_id': 71188684, 'licence': 'Data © OpenStreetMap contributors, ODbL 1.0. http://osm.org/copyright', 'osm_type': 'way', 'osm_id': 127723368, 'lat': '42.9927428', 'lon': '1.6124975', 'class': 'waterway', 'type': 'river', 'place_rank': 19, 'importance': 0.14667666666666662, 'addresstype': 'river', 'name': 'Ariège', 'display_name': 'Ariège, La Coudounmine, Vernajoul, Foix, Ariège, Occitanie, France métropolitaine, 09000, France', 'boundingbox': ['42.9888173', '42.9951993', '1.6111888', '1.6138685']}, {'place_id': 72380164, 'licence': 'Data © OpenStreetMap contributors, ODbL 1.0. http://osm.org/copyright', 'osm_type': 'way', 'osm_id': 127723369, 'lat': '43.0118351', 'lon': '1.6101314', 'class': 'waterway', 'type': 'canal', 'place_rank': 20, 'importance': 0.1333433333333333, 'addresstype': 'canal', 'name': 'Ariège', 'display_name': 'Ariège, Saint-Jean-de-Verges, Foix, Ariège, Occitanie, France métropolitaine, 09000, France', 'boundingbox': ['43.0102686', '43.0147622', '1.6090879', '1.6120971']}, {'place_id': 72861938, 'licence': 'Data © OpenStreetMap contributors, ODbL 1.0. http://osm.org/copyright', 'osm_type': 'relation', 'osm_id': 1104538, 'lat': '43.0094426', 'lon': '1.6129033', 'class': 'waterway', 'type': 'river', 'place_rank': 18, 'importance': 0.4354180498712282, 'addresstype': 'river', 'name': \"L'Ariège\", 'display_name': \"L'Ariège, Occitanie, France métropolitaine, France\", 'boundingbox': ['42.5300828', '43.5186619', '1.3957560', '1.8374544']}, {'place_id': 385018531, 'licence': 'Data © OpenStreetMap contributors, ODbL 1.0. http://osm.org/copyright', 'osm_type': 'relation', 'osm_id': 4552625, 'lat': '42.709374100000005', 'lon': '1.8623467933570184', 'class': 'boundary', 'type': 'political', 'place_rank': 25, 'importance': 0.3642965793750456, 'addresstype': 'political', 'name': 'Haute-Ariège', 'display_name': 'Haute-Ariège, Ariège, Occitanie, France métropolitaine, France', 'boundingbox': ['42.5732416', '42.8452520', '1.5747276', '2.1758135']}, {'place_id': 70545955, 'licence': 'Data © OpenStreetMap contributors, ODbL 1.0. http://osm.org/copyright', 'osm_type': 'relation', 'osm_id': 3974492, 'lat': '42.879100300000005', 'lon': '1.2250358012762457', 'class': 'boundary', 'type': 'protected_area', 'place_rank': 25, 'importance': 0.3669126707404047, 'addresstype': 'protected_area', 'name': 'Parc naturel régional des Pyrénées ariégeoises', 'display_name': 'Parc naturel régional des Pyrénées ariégeoises, Occitanie, France métropolitaine, France', 'boundingbox': ['42.6020278', '43.1561003', '0.8267506', '1.6412742']}, {'place_id': 72718277, 'licence': 'Data © OpenStreetMap contributors, ODbL 1.0. http://osm.org/copyright', 'osm_type': 'relation', 'osm_id': 4552739, 'lat': '43.0028206', 'lon': '1.683970543842897', 'class': 'boundary', 'type': 'political', 'place_rank': 25, 'importance': 0.3390557430834509, 'addresstype': 'political', 'name': \"Val d'Ariège\", 'display_name': \"Val d'Ariège, Ariège, Occitanie, France métropolitaine, France\", 'boundingbox': ['42.9049822', '43.1013513', '1.4103925', '1.7715222']}, {'place_id': 72242353, 'licence': 'Data © OpenStreetMap contributors, ODbL 1.0. http://osm.org/copyright', 'osm_type': 'relation', 'osm_id': 4552713, 'lat': '43.21045655', 'lon': '1.6006085794751579', 'class': 'boundary', 'type': 'political', 'place_rank': 25, 'importance': 0.3207354184749959, 'addresstype': 'political', 'name': \"Portes d'Ariège\", 'display_name': \"Portes d'Ariège, Ariège, Occitanie, France métropolitaine, France\", 'boundingbox': ['43.1257410', '43.2936070', '1.4690832', '1.7795920']}], [{'place_id': 376147504, 'licence': 'Data © OpenStreetMap contributors, ODbL 1.0. http://osm.org/copyright', 'osm_type': 'relation', 'osm_id': 35738, 'lat': '43.6044622', 'lon': '1.4442469', 'class': 'boundary', 'type': 'administrative', 'place_rank': 16, 'importance': 0.6682142268493704, 'addresstype': 'city', 'name': 'Toulouse', 'display_name': 'Toulouse, Haute-Garonne, Occitanie, France métropolitaine, France', 'boundingbox': ['43.5326540', '43.6687080', '1.3503956', '1.5153795']}, {'place_id': 72904506, 'licence': 'Data © OpenStreetMap contributors, ODbL 1.0. http://osm.org/copyright', 'osm_type': 'relation', 'osm_id': 1649040, 'lat': '43.579275100000004', 'lon': '1.5032717763608257', 'class': 'boundary', 'type': 'administrative', 'place_rank': 14, 'importance': 0.3869603398828882, 'addresstype': 'municipality', 'name': 'Toulouse', 'display_name': 'Toulouse, Haute-Garonne, Occitanie, France métropolitaine, France', 'boundingbox': ['43.2369002', '43.9216357', '0.9523375', '2.0482851']}], [{'place_id': 73289829, 'licence': 'Data © OpenStreetMap contributors, ODbL 1.0. http://osm.org/copyright', 'osm_type': 'relation', 'osm_id': 137735, 'lat': '44.0175835', 'lon': '1.3549991', 'class': 'boundary', 'type': 'administrative', 'place_rank': 16, 'importance': 0.5542482145338697, 'addresstype': 'town', 'name': 'Montauban', 'display_name': 'Montauban, Tarn-et-Garonne, Occitanie, France métropolitaine, 82000, France', 'boundingbox': ['43.9512579', '44.0922122', '1.2865419', '1.4427914']}, {'place_id': 71017644, 'licence': 'Data © OpenStreetMap contributors, ODbL 1.0. http://osm.org/copyright', 'osm_type': 'relation', 'osm_id': 1389237, 'lat': '42.7917916', 'lon': '0.6081298', 'class': 'boundary', 'type': 'administrative', 'place_rank': 16, 'importance': 0.5453725568292895, 'addresstype': 'village', 'name': 'Montauban-de-Luchon', 'display_name': 'Montauban-de-Luchon, Saint-Gaudens, Haute-Garonne, Occitanie, France métropolitaine, 31110, France', 'boundingbox': ['42.7802897', '42.8012540', '0.5994724', '0.6522316']}, {'place_id': 73288656, 'licence': 'Data © OpenStreetMap contributors, ODbL 1.0. http://osm.org/copyright', 'osm_type': 'relation', 'osm_id': 1646846, 'lat': '44.0541438', 'lon': '1.4937961569159295', 'class': 'boundary', 'type': 'administrative', 'place_rank': 14, 'importance': 0.33855055665355965, 'addresstype': 'municipality', 'name': 'Montauban', 'display_name': 'Montauban, Tarn-et-Garonne, Occitanie, France métropolitaine, France', 'boundingbox': ['43.7674288', '44.3406002', '1.0578543', '2.0008951']}, {'place_id': 248083342, 'licence': 'Data © OpenStreetMap contributors, ODbL 1.0. http://osm.org/copyright', 'osm_type': 'node', 'osm_id': 4575707817, 'lat': '48.1097629', 'lon': '-2.4537307', 'class': 'place', 'type': 'hamlet', 'place_rank': 20, 'importance': 0.25000999999999995, 'addresstype': 'hamlet', 'name': 'Montauban', 'display_name': 'Montauban, Ménéac, Pontivy, Morbihan, Bretagne, France métropolitaine, 56490, France', 'boundingbox': ['48.0897629', '48.1297629', '-2.4737307', '-2.4337307']}, {'place_id': 80534720, 'licence': 'Data © OpenStreetMap contributors, ODbL 1.0. http://osm.org/copyright', 'osm_type': 'node', 'osm_id': 10169521638, 'lat': '47.2754666', 'lon': '0.5982411', 'class': 'place', 'type': 'hamlet', 'place_rank': 20, 'importance': 0.25000999999999995, 'addresstype': 'hamlet', 'name': 'Montauban', 'display_name': 'Montauban, Artannes-sur-Indre, Tours, Indre-et-Loire, Centre-Val de Loire, France métropolitaine, 37260, France', 'boundingbox': ['47.2554666', '47.2954666', '0.5782411', '0.6182411']}, {'place_id': 73498725, 'licence': 'Data © OpenStreetMap contributors, ODbL 1.0. http://osm.org/copyright', 'osm_type': 'node', 'osm_id': 4931595563, 'lat': '45.0964341', 'lon': '0.7075103', 'class': 'place', 'type': 'hamlet', 'place_rank': 20, 'importance': 0.25000999999999995, 'addresstype': 'hamlet', 'name': 'Montauban', 'display_name': 'Montauban, Notre-Dame-de-Sanilhac, Sanilhac, Périgueux, Dordogne, Nouvelle-Aquitaine, France métropolitaine, 24660, France', 'boundingbox': ['45.0764341', '45.1164341', '0.6875103', '0.7275103']}, {'place_id': 72901268, 'licence': 'Data © OpenStreetMap contributors, ODbL 1.0. http://osm.org/copyright', 'osm_type': 'node', 'osm_id': 4735046835, 'lat': '44.9907069', 'lon': '0.6135096', 'class': 'place', 'type': 'hamlet', 'place_rank': 20, 'importance': 0.25000999999999995, 'addresstype': 'hamlet', 'name': 'Montauban', 'display_name': 'Montauban, Beauregard-et-Bassac, Périgueux, Dordogne, Nouvelle-Aquitaine, France métropolitaine, 24140, France', 'boundingbox': ['44.9707069', '45.0107069', '0.5935096', '0.6335096']}, {'place_id': 87413708, 'licence': 'Data © OpenStreetMap contributors, ODbL 1.0. http://osm.org/copyright', 'osm_type': 'node', 'osm_id': 11044019273, 'lat': '50.3345473', 'lon': '2.9311556', 'class': 'place', 'type': 'quarter', 'place_rank': 20, 'importance': 0.25000999999999995, 'addresstype': 'quarter', 'name': 'Montauban', 'display_name': 'Montauban, Fresnes-lès-Montauban, Arras, Pas-de-Calais, Hauts-de-France, France métropolitaine, 62490, France', 'boundingbox': ['50.3245473', '50.3445473', '2.9211556', '2.9411556']}], [{'place_id': 252575406, 'licence': 'Data © OpenStreetMap contributors, ODbL 1.0. http://osm.org/copyright', 'osm_type': 'relation', 'osm_id': 166717, 'lat': '43.4832523', 'lon': '-1.5592776', 'class': 'boundary', 'type': 'administrative', 'place_rank': 16, 'importance': 0.5796122503321824, 'addresstype': 'town', 'name': 'Biarritz', 'display_name': 'Biarritz, Bayonne, Pyrénées-Atlantiques, Nouvelle-Aquitaine, France métropolitaine, 64200, France', 'boundingbox': ['43.4475698', '43.4945381', '-1.5773906', '-1.5343915']}, {'place_id': 252865476, 'licence': 'Data © OpenStreetMap contributors, ODbL 1.0. http://osm.org/copyright', 'osm_type': 'relation', 'osm_id': 4615703, 'lat': '43.471143749999996', 'lon': '-1.552726590666314', 'class': 'boundary', 'type': 'political', 'place_rank': 25, 'importance': 0.5796122503321824, 'addresstype': 'political', 'name': 'Biarritz', 'display_name': 'Biarritz, Bayonne, Pyrénées-Atlantiques, Nouvelle-Aquitaine, France métropolitaine, 64200, France', 'boundingbox': ['43.4475698', '43.4945381', '-1.5773906', '-1.5343915']}], [{'place_id': 252689850, 'licence': 'Data © OpenStreetMap contributors, ODbL 1.0. http://osm.org/copyright', 'osm_type': 'relation', 'osm_id': 166713, 'lat': '43.4945144', 'lon': '-1.4736657', 'class': 'boundary', 'type': 'administrative', 'place_rank': 16, 'importance': 0.6027800210035323, 'addresstype': 'town', 'name': 'Bayonne', 'display_name': 'Bayonne, Pyrénées-Atlantiques, Nouvelle-Aquitaine, France métropolitaine, 64100, France', 'boundingbox': ['43.4498733', '43.5188846', '-1.5048438', '-1.4172610']}, {'place_id': 252188442, 'licence': 'Data © OpenStreetMap contributors, ODbL 1.0. http://osm.org/copyright', 'osm_type': 'relation', 'osm_id': 2770753, 'lat': '43.2775332', 'lon': '-1.2087111034758713', 'class': 'boundary', 'type': 'administrative', 'place_rank': 14, 'importance': 0.36895940081389983, 'addresstype': 'municipality', 'name': 'Bayonne', 'display_name': 'Bayonne, Pyrénées-Atlantiques, Nouvelle-Aquitaine, France métropolitaine, France', 'boundingbox': ['43.0076101', '43.5474276', '-1.7910227', '-0.8973720']}, {'place_id': 73983768, 'licence': 'Data © OpenStreetMap contributors, ODbL 1.0. http://osm.org/copyright', 'osm_type': 'node', 'osm_id': 1846698959, 'lat': '44.438205', 'lon': '4.8883211', 'class': 'place', 'type': 'hamlet', 'place_rank': 20, 'importance': 0.25000999999999995, 'addresstype': 'hamlet', 'name': 'Bayonne', 'display_name': 'Bayonne, Grignan, Nyons, Drôme, Auvergne-Rhône-Alpes, France métropolitaine, 26230, France', 'boundingbox': ['44.4182050', '44.4582050', '4.8683211', '4.9083211']}, {'place_id': 72706104, 'licence': 'Data © OpenStreetMap contributors, ODbL 1.0. http://osm.org/copyright', 'osm_type': 'node', 'osm_id': 4407040041, 'lat': '44.6419992', 'lon': '0.7585094', 'class': 'place', 'type': 'hamlet', 'place_rank': 20, 'importance': 0.25000999999999995, 'addresstype': 'hamlet', 'name': 'Bayonne', 'display_name': 'Bayonne, Parisot, Villeréal, Villeneuve-sur-Lot, Lot-et-Garonne, Nouvelle-Aquitaine, France métropolitaine, 47210, France', 'boundingbox': ['44.6219992', '44.6619992', '0.7385094', '0.7785094']}, {'place_id': 72184433, 'licence': 'Data © OpenStreetMap contributors, ODbL 1.0. http://osm.org/copyright', 'osm_type': 'node', 'osm_id': 2387259037, 'lat': '43.8909989', 'lon': '2.1101285', 'class': 'place', 'type': 'hamlet', 'place_rank': 20, 'importance': 0.25000999999999995, 'addresstype': 'hamlet', 'name': 'Bayonne', 'display_name': 'Bayonne, Carlus, Albi, Tarn, Occitanie, France métropolitaine, 81990, France', 'boundingbox': ['43.8709989', '43.9109989', '2.0901285', '2.1301285']}], [{'place_id': 252542456, 'licence': 'Data © OpenStreetMap contributors, ODbL 1.0. http://osm.org/copyright', 'osm_type': 'relation', 'osm_id': 117858, 'lat': '46.1591126', 'lon': '-1.1520434', 'class': 'boundary', 'type': 'administrative', 'place_rank': 16, 'importance': 0.6014837096874571, 'addresstype': 'city', 'name': 'La Rochelle', 'display_name': 'La Rochelle, Charente-Maritime, Nouvelle-Aquitaine, France métropolitaine, 17000, France', 'boundingbox': ['46.1331804', '46.1908971', '-1.2419231', '-1.1110970']}, {'place_id': 79815967, 'licence': 'Data © OpenStreetMap contributors, ODbL 1.0. http://osm.org/copyright', 'osm_type': 'relation', 'osm_id': 1215878, 'lat': '47.7470598', 'lon': '5.7321403', 'class': 'boundary', 'type': 'administrative', 'place_rank': 16, 'importance': 0.5332911295153212, 'addresstype': 'village', 'name': 'La Rochelle', 'display_name': 'La Rochelle, Vesoul, Haute-Saône, Bourgogne-Franche-Comté, France métropolitaine, 70120, France', 'boundingbox': ['47.7388479', '47.7647325', '5.7060641', '5.7454734']}, {'place_id': 252530303, 'licence': 'Data © OpenStreetMap contributors, ODbL 1.0. http://osm.org/copyright', 'osm_type': 'relation', 'osm_id': 1661547, 'lat': '46.187679599999996', 'lon': '-1.064280735046797', 'class': 'boundary', 'type': 'administrative', 'place_rank': 14, 'importance': 0.3230614454416833, 'addresstype': 'municipality', 'name': 'La Rochelle', 'display_name': 'La Rochelle, Charente-Maritime, Nouvelle-Aquitaine, France métropolitaine, France', 'boundingbox': ['46.0036902', '46.3715027', '-1.5626797', '-0.6805266']}, {'place_id': 247123738, 'licence': 'Data © OpenStreetMap contributors, ODbL 1.0. http://osm.org/copyright', 'osm_type': 'node', 'osm_id': 776464755, 'lat': '48.2859259', 'lon': '-1.7173651', 'class': 'place', 'type': 'hamlet', 'place_rank': 20, 'importance': 0.25000999999999995, 'addresstype': 'hamlet', 'name': 'La Rochelle', 'display_name': 'La Rochelle, Guipel, Rennes, Ille-et-Vilaine, Bretagne, France métropolitaine, 35440, France', 'boundingbox': ['48.2659259', '48.3059259', '-1.7373651', '-1.6973651']}, {'place_id': 251358943, 'licence': 'Data © OpenStreetMap contributors, ODbL 1.0. http://osm.org/copyright', 'osm_type': 'node', 'osm_id': 1736008464, 'lat': '47.1591993', 'lon': '-1.8579674', 'class': 'place', 'type': 'hamlet', 'place_rank': 20, 'importance': 0.25000999999999995, 'addresstype': 'hamlet', 'name': 'La Rochelle', 'display_name': 'La Rochelle, Rouans, Nantes, Loire-Atlantique, Pays de la Loire, France métropolitaine, 44640, France', 'boundingbox': ['47.1391993', '47.1791993', '-1.8779674', '-1.8379674']}, {'place_id': 245667560, 'licence': 'Data © OpenStreetMap contributors, ODbL 1.0. http://osm.org/copyright', 'osm_type': 'node', 'osm_id': 2815202805, 'lat': '48.3831712', 'lon': '-1.7217726', 'class': 'place', 'type': 'hamlet', 'place_rank': 20, 'importance': 0.25000999999999995, 'addresstype': 'hamlet', 'name': 'La Rochelle', 'display_name': 'La Rochelle, Combourg, Saint-Malo, Ille-et-Vilaine, Bretagne, France métropolitaine, 35270, France', 'boundingbox': ['48.3631712', '48.4031712', '-1.7417726', '-1.7017726']}, {'place_id': 249885900, 'licence': 'Data © OpenStreetMap contributors, ODbL 1.0. http://osm.org/copyright', 'osm_type': 'node', 'osm_id': 3907787878, 'lat': '47.5965496', 'lon': '-2.0854524', 'class': 'place', 'type': 'hamlet', 'place_rank': 20, 'importance': 0.25000999999999995, 'addresstype': 'hamlet', 'name': 'La Rochelle', 'display_name': 'La Rochelle, Fégréac, Châteaubriant-Ancenis, Loire-Atlantique, Pays de la Loire, France métropolitaine, 44460, France', 'boundingbox': ['47.5765496', '47.6165496', '-2.1054524', '-2.0654524']}, {'place_id': 247510432, 'licence': 'Data © OpenStreetMap contributors, ODbL 1.0. http://osm.org/copyright', 'osm_type': 'node', 'osm_id': 6030811020, 'lat': '48.5600804', 'lon': '-1.8361687', 'class': 'place', 'type': 'hamlet', 'place_rank': 20, 'importance': 0.25000999999999995, 'addresstype': 'hamlet', 'name': 'La Rochelle', 'display_name': 'La Rochelle, Roz-Landrieux, Saint-Malo, Ille-et-Vilaine, Bretagne, France métropolitaine, 35120, France', 'boundingbox': ['48.5400804', '48.5800804', '-1.8561687', '-1.8161687']}, {'place_id': 80434083, 'licence': 'Data © OpenStreetMap contributors, ODbL 1.0. http://osm.org/copyright', 'osm_type': 'node', 'osm_id': 739502320, 'lat': '47.1780132', 'lon': '0.2276299', 'class': 'place', 'type': 'hamlet', 'place_rank': 20, 'importance': 0.25000999999999995, 'addresstype': 'hamlet', 'name': 'La Rochelle', 'display_name': 'La Rochelle, Chinon, Indre-et-Loire, Centre-Val de Loire, France métropolitaine, 37500, France', 'boundingbox': ['47.1580132', '47.1980132', '0.2076299', '0.2476299']}, {'place_id': 246278295, 'licence': 'Data © OpenStreetMap contributors, ODbL 1.0. http://osm.org/copyright', 'osm_type': 'node', 'osm_id': 10021995903, 'lat': '49.5652335', 'lon': '-1.4192888', 'class': 'place', 'type': 'hamlet', 'place_rank': 20, 'importance': 0.25000999999999995, 'addresstype': 'hamlet', 'name': 'La Rochelle', 'display_name': 'La Rochelle, Montaigu-la-Brisette, Cherbourg, Manche, Normandie, France métropolitaine, 50700, France', 'boundingbox': ['49.5452335', '49.5852335', '-1.4392888', '-1.3992888']}], [{'place_id': 75016725, 'licence': 'Data © OpenStreetMap contributors, ODbL 1.0. http://osm.org/copyright', 'osm_type': 'relation', 'osm_id': 367142, 'lat': '44.5612032', 'lon': '6.0820639', 'class': 'boundary', 'type': 'administrative', 'place_rank': 16, 'importance': 0.5438225943267603, 'addresstype': 'town', 'name': 'Gap', 'display_name': \"Gap, Hautes-Alpes, Provence-Alpes-Côte d'Azur, France métropolitaine, 05000, France\", 'boundingbox': ['44.4947938', '44.6650138', '5.9805869', '6.1411293']}, {'place_id': 74245359, 'licence': 'Data © OpenStreetMap contributors, ODbL 1.0. http://osm.org/copyright', 'osm_type': 'relation', 'osm_id': 1686356, 'lat': '44.53052425', 'lon': '6.158031728688848', 'class': 'boundary', 'type': 'administrative', 'place_rank': 14, 'importance': 0.3651260992910078, 'addresstype': 'municipality', 'name': 'Gap', 'display_name': \"Gap, Hautes-Alpes, Provence-Alpes-Côte d'Azur, France métropolitaine, France\", 'boundingbox': ['44.1863785', '44.8745992', '5.4183896', '6.6843970']}, {'place_id': 75023983, 'licence': 'Data © OpenStreetMap contributors, ODbL 1.0. http://osm.org/copyright', 'osm_type': 'relation', 'osm_id': 4284735, 'lat': '44.579903349999995', 'lon': '6.064655551899108', 'class': 'boundary', 'type': 'administrative', 'place_rank': 18, 'importance': 0.30000999999999994, 'addresstype': 'city_district', 'name': 'Gap', 'display_name': \"Gap, Hautes-Alpes, Provence-Alpes-Côte d'Azur, France métropolitaine, 05000, France\", 'boundingbox': ['44.4947938', '44.6650138', '5.9805869', '6.1360635']}], [{'place_id': 74457810, 'licence': 'Data © OpenStreetMap contributors, ODbL 1.0. http://osm.org/copyright', 'osm_type': 'relation', 'osm_id': 85421, 'lat': '44.8984037', 'lon': '6.6436313', 'class': 'boundary', 'type': 'administrative', 'place_rank': 16, 'importance': 0.5257797642189902, 'addresstype': 'town', 'name': 'Briançon', 'display_name': \"Briançon, Hautes-Alpes, Provence-Alpes-Côte d'Azur, France métropolitaine, 05100, France\", 'boundingbox': ['44.8692177', '44.9297935', '6.6004291', '6.7065027']}, {'place_id': 74922602, 'licence': 'Data © OpenStreetMap contributors, ODbL 1.0. http://osm.org/copyright', 'osm_type': 'relation', 'osm_id': 1686355, 'lat': '44.83178515', 'lon': '6.672298792949881', 'class': 'boundary', 'type': 'administrative', 'place_rank': 14, 'importance': 0.31543423863277287, 'addresstype': 'municipality', 'name': 'Briançon', 'display_name': \"Briançon, Hautes-Alpes, Provence-Alpes-Côte d'Azur, France métropolitaine, France\", 'boundingbox': ['44.5370023', '45.1266002', '6.2007941', '7.0771437']}, {'place_id': 74575651, 'licence': 'Data © OpenStreetMap contributors, ODbL 1.0. http://osm.org/copyright', 'osm_type': 'node', 'osm_id': 1038598864, 'lat': '44.4111884', 'lon': '6.719087', 'class': 'place', 'type': 'hamlet', 'place_rank': 20, 'importance': 0.25000999999999995, 'addresstype': 'hamlet', 'name': 'Briançon', 'display_name': \"Briançon, Jausiers, Barcelonnette, Alpes-de-Haute-Provence, Provence-Alpes-Côte d'Azur, France métropolitaine, 04850, France\", 'boundingbox': ['44.3911884', '44.4311884', '6.6990870', '6.7390870']}, {'place_id': 81052531, 'licence': 'Data © OpenStreetMap contributors, ODbL 1.0. http://osm.org/copyright', 'osm_type': 'node', 'osm_id': 10601320455, 'lat': '47.1516953', 'lon': '0.3116255', 'class': 'place', 'type': 'hamlet', 'place_rank': 20, 'importance': 0.25000999999999995, 'addresstype': 'hamlet', 'name': 'Briançon', 'display_name': 'Briançon, Cravant-les-Côteaux, Chinon, Indre-et-Loire, Centre-Val de Loire, France métropolitaine, 37500, France', 'boundingbox': ['47.1316953', '47.1716953', '0.2916255', '0.3316255']}, {'place_id': 73840557, 'licence': 'Data © OpenStreetMap contributors, ODbL 1.0. http://osm.org/copyright', 'osm_type': 'node', 'osm_id': 2255055929, 'lat': '44.2478709', 'lon': '6.107112', 'class': 'place', 'type': 'hamlet', 'place_rank': 20, 'importance': 0.25000999999999995, 'addresstype': 'hamlet', 'name': 'Briançon', 'display_name': \"Briançon, Authon, Forcalquier, Alpes-de-Haute-Provence, Provence-Alpes-Côte d'Azur, France métropolitaine, 04200, France\", 'boundingbox': ['44.2278709', '44.2678709', '6.0871120', '6.1271120']}]]\n"
     ]
    }
   ],
   "source": [
    "# Test en synchrone\n",
    "\n",
    "import time\n",
    "import logging\n",
    "import requests\n",
    "import json\n",
    "from urllib.parse import quote\n",
    "\n",
    "# Configuration du logger\n",
    "logging.basicConfig(level=logging.INFO)\n",
    "logger = logging.getLogger(__name__)\n",
    "\n",
    "# Liste réduite des villes\n",
    "reduced_city_list = [\n",
    "    \"Toulouse\",\n",
    "    \"Montauban\",\n",
    "    \"Biarritz\",\n",
    "    \"Bayonne\",\n",
    "    \"La Rochelle\",\n",
    "    \"Gap\",\n",
    "    \"Briançon\"\n",
    "]\n",
    "\n",
    "\n",
    "city_list = [\n",
    "\"Mont Saint Michel\",\n",
    "\"St Malo\",\n",
    "\"Bayeux\",\n",
    "\"Le Havre\",\n",
    "\"Rouen\",\n",
    "\"Paris\",\n",
    "\"Amiens\",\n",
    "\"Lille\",\n",
    "\"Strasbourg\",\n",
    "\"Chateau du Haut Koenigsbourg\",\n",
    "\"Colmar\",\n",
    "\"Eguisheim\",\n",
    "\"Besancon\",\n",
    "\"Dijon\",\n",
    "\"Annecy\",\n",
    "\"Grenoble\",\n",
    "\"Lyon\",\n",
    "\"Gorges du Verdon\",\n",
    "\"Bormes les Mimosas\",\n",
    "\"Cassis\",\n",
    "\"Marseille\",\n",
    "\"Aix en Provence\",\n",
    "\"Avignon\",\n",
    "\"Uzes\",\n",
    "\"Nimes\",\n",
    "\"Aigues Mortes\",\n",
    "\"Saintes Maries de la mer\",\n",
    "\"Collioure\",\n",
    "\"Carcassonne\",\n",
    "\"Ariege\",\n",
    "\"Toulouse\",\n",
    "\"Montauban\",\n",
    "\"Biarritz\",\n",
    "\"Bayonne\",\n",
    "\"La Rochelle\",\n",
    "\"Gap\",\n",
    "\"Briançon\"\n",
    "]\n",
    "\n",
    "# Fonction pour effectuer une requête API synchrone\n",
    "def API_call(city, country):\n",
    "    # Encodage des noms de ville et de pays pour être compatible avec l'URL\n",
    "    encoded_city = quote(city)\n",
    "    encoded_country = quote(country)\n",
    "\n",
    "    url = f\"https://nominatim.openstreetmap.org/search?format=json&country={encoded_country}&city={encoded_city}\"\n",
    "    \n",
    "    response = requests.get(url, headers=headers)\n",
    "    return response.json()\n",
    "\n",
    "# Fonction principale pour chercher les informations géographiques des villes\n",
    "def search_cities_geo_infos(cities, country='france'):\n",
    "    results = []\n",
    "    logger.info(\"Starting query...\")\n",
    "    for city in cities:\n",
    "        result = API_call(city, country)\n",
    "        results.append(result)\n",
    "    return results\n",
    "\n",
    "# Exécuter la fonction de recherche synchrone\n",
    "if __name__ == \"__main__\":\n",
    "    start = time.time()\n",
    "    result = search_cities_geo_infos(city_list)\n",
    "    end = time.time()\n",
    "    elapsed = str(end - start)\n",
    "    logger.info(\"The process took {} seconds\".format(elapsed))\n",
    "\n",
    "    print(\"The process took {} seconds\".format(elapsed)) # 3 seconds\n",
    "    print(result)"
   ]
  },
  {
   "cell_type": "code",
   "execution_count": 25,
   "metadata": {},
   "outputs": [],
   "source": [
    "# test avec la librairie asyncio\n",
    "# cf. fichier ./poc./test_asyncio.py"
   ]
  },
  {
   "cell_type": "code",
   "execution_count": 26,
   "metadata": {},
   "outputs": [],
   "source": [
    "# test avec la librairie tornado\n",
    "# cf. fichier ./poc./test_tornado.py"
   ]
  },
  {
   "cell_type": "code",
   "execution_count": 11,
   "metadata": {},
   "outputs": [
    {
     "data": {
      "text/html": [
       "<div>\n",
       "<style scoped>\n",
       "    .dataframe tbody tr th:only-of-type {\n",
       "        vertical-align: middle;\n",
       "    }\n",
       "\n",
       "    .dataframe tbody tr th {\n",
       "        vertical-align: top;\n",
       "    }\n",
       "\n",
       "    .dataframe thead th {\n",
       "        text-align: right;\n",
       "    }\n",
       "</style>\n",
       "<table border=\"1\" class=\"dataframe\">\n",
       "  <thead>\n",
       "    <tr style=\"text-align: right;\">\n",
       "      <th></th>\n",
       "      <th>name</th>\n",
       "      <th>addresstype</th>\n",
       "      <th>lat</th>\n",
       "      <th>lon</th>\n",
       "      <th>osm_id</th>\n",
       "    </tr>\n",
       "  </thead>\n",
       "  <tbody>\n",
       "    <tr>\n",
       "      <th>0</th>\n",
       "      <td>Amiens</td>\n",
       "      <td>city</td>\n",
       "      <td>49.894171</td>\n",
       "      <td>2.295695</td>\n",
       "      <td>114347</td>\n",
       "    </tr>\n",
       "    <tr>\n",
       "      <th>1</th>\n",
       "      <td>Annecy</td>\n",
       "      <td>city</td>\n",
       "      <td>45.899235</td>\n",
       "      <td>6.128885</td>\n",
       "      <td>6791758</td>\n",
       "    </tr>\n",
       "    <tr>\n",
       "      <th>2</th>\n",
       "      <td>Avignon</td>\n",
       "      <td>city</td>\n",
       "      <td>43.949249</td>\n",
       "      <td>4.805901</td>\n",
       "      <td>102478</td>\n",
       "    </tr>\n",
       "    <tr>\n",
       "      <th>3</th>\n",
       "      <td>Bayeux</td>\n",
       "      <td>town</td>\n",
       "      <td>49.276462</td>\n",
       "      <td>-0.702474</td>\n",
       "      <td>145776</td>\n",
       "    </tr>\n",
       "    <tr>\n",
       "      <th>4</th>\n",
       "      <td>Bayonne</td>\n",
       "      <td>town</td>\n",
       "      <td>43.494514</td>\n",
       "      <td>-1.473666</td>\n",
       "      <td>166713</td>\n",
       "    </tr>\n",
       "    <tr>\n",
       "      <th>5</th>\n",
       "      <td>Biarritz</td>\n",
       "      <td>town</td>\n",
       "      <td>43.483252</td>\n",
       "      <td>-1.559278</td>\n",
       "      <td>166717</td>\n",
       "    </tr>\n",
       "    <tr>\n",
       "      <th>6</th>\n",
       "      <td>Briançon</td>\n",
       "      <td>town</td>\n",
       "      <td>44.898404</td>\n",
       "      <td>6.643631</td>\n",
       "      <td>85421</td>\n",
       "    </tr>\n",
       "    <tr>\n",
       "      <th>7</th>\n",
       "      <td>Carcassonne</td>\n",
       "      <td>town</td>\n",
       "      <td>43.213036</td>\n",
       "      <td>2.349107</td>\n",
       "      <td>37774</td>\n",
       "    </tr>\n",
       "    <tr>\n",
       "      <th>8</th>\n",
       "      <td>Cassis</td>\n",
       "      <td>village</td>\n",
       "      <td>43.214036</td>\n",
       "      <td>5.539632</td>\n",
       "      <td>76425</td>\n",
       "    </tr>\n",
       "    <tr>\n",
       "      <th>9</th>\n",
       "      <td>Collioure</td>\n",
       "      <td>village</td>\n",
       "      <td>42.525050</td>\n",
       "      <td>3.083155</td>\n",
       "      <td>18409</td>\n",
       "    </tr>\n",
       "    <tr>\n",
       "      <th>10</th>\n",
       "      <td>Colmar</td>\n",
       "      <td>town</td>\n",
       "      <td>48.077752</td>\n",
       "      <td>7.357964</td>\n",
       "      <td>61423</td>\n",
       "    </tr>\n",
       "    <tr>\n",
       "      <th>11</th>\n",
       "      <td>Dijon</td>\n",
       "      <td>city</td>\n",
       "      <td>47.321581</td>\n",
       "      <td>5.041470</td>\n",
       "      <td>74090</td>\n",
       "    </tr>\n",
       "    <tr>\n",
       "      <th>12</th>\n",
       "      <td>Eguisheim</td>\n",
       "      <td>village</td>\n",
       "      <td>48.044797</td>\n",
       "      <td>7.307962</td>\n",
       "      <td>79442</td>\n",
       "    </tr>\n",
       "    <tr>\n",
       "      <th>13</th>\n",
       "      <td>Gap</td>\n",
       "      <td>town</td>\n",
       "      <td>44.561203</td>\n",
       "      <td>6.082064</td>\n",
       "      <td>367142</td>\n",
       "    </tr>\n",
       "    <tr>\n",
       "      <th>14</th>\n",
       "      <td>Gorges du Verdon</td>\n",
       "      <td>gorge</td>\n",
       "      <td>43.749656</td>\n",
       "      <td>6.328562</td>\n",
       "      <td>7193513219</td>\n",
       "    </tr>\n",
       "    <tr>\n",
       "      <th>15</th>\n",
       "      <td>Grenoble</td>\n",
       "      <td>city</td>\n",
       "      <td>45.187560</td>\n",
       "      <td>5.735782</td>\n",
       "      <td>80348</td>\n",
       "    </tr>\n",
       "    <tr>\n",
       "      <th>16</th>\n",
       "      <td>La Rochelle</td>\n",
       "      <td>city</td>\n",
       "      <td>46.159113</td>\n",
       "      <td>-1.152043</td>\n",
       "      <td>117858</td>\n",
       "    </tr>\n",
       "    <tr>\n",
       "      <th>17</th>\n",
       "      <td>Le Havre</td>\n",
       "      <td>city</td>\n",
       "      <td>49.493898</td>\n",
       "      <td>0.107973</td>\n",
       "      <td>104492</td>\n",
       "    </tr>\n",
       "    <tr>\n",
       "      <th>18</th>\n",
       "      <td>Lille</td>\n",
       "      <td>city</td>\n",
       "      <td>50.636565</td>\n",
       "      <td>3.063528</td>\n",
       "      <td>58404</td>\n",
       "    </tr>\n",
       "    <tr>\n",
       "      <th>19</th>\n",
       "      <td>Lyon</td>\n",
       "      <td>city</td>\n",
       "      <td>45.757814</td>\n",
       "      <td>4.832011</td>\n",
       "      <td>120965</td>\n",
       "    </tr>\n",
       "    <tr>\n",
       "      <th>20</th>\n",
       "      <td>Marseille</td>\n",
       "      <td>city</td>\n",
       "      <td>43.296174</td>\n",
       "      <td>5.369953</td>\n",
       "      <td>76469</td>\n",
       "    </tr>\n",
       "    <tr>\n",
       "      <th>21</th>\n",
       "      <td>Montauban</td>\n",
       "      <td>town</td>\n",
       "      <td>44.017584</td>\n",
       "      <td>1.354999</td>\n",
       "      <td>137735</td>\n",
       "    </tr>\n",
       "    <tr>\n",
       "      <th>22</th>\n",
       "      <td>Paris</td>\n",
       "      <td>city</td>\n",
       "      <td>48.853495</td>\n",
       "      <td>2.348391</td>\n",
       "      <td>71525</td>\n",
       "    </tr>\n",
       "    <tr>\n",
       "      <th>23</th>\n",
       "      <td>Rouen</td>\n",
       "      <td>city</td>\n",
       "      <td>49.440459</td>\n",
       "      <td>1.093966</td>\n",
       "      <td>75628</td>\n",
       "    </tr>\n",
       "    <tr>\n",
       "      <th>24</th>\n",
       "      <td>Strasbourg</td>\n",
       "      <td>city</td>\n",
       "      <td>48.584614</td>\n",
       "      <td>7.750713</td>\n",
       "      <td>71033</td>\n",
       "    </tr>\n",
       "    <tr>\n",
       "      <th>25</th>\n",
       "      <td>Toulouse</td>\n",
       "      <td>city</td>\n",
       "      <td>43.604462</td>\n",
       "      <td>1.444247</td>\n",
       "      <td>35738</td>\n",
       "    </tr>\n",
       "  </tbody>\n",
       "</table>\n",
       "</div>"
      ],
      "text/plain": [
       "                name addresstype        lat       lon      osm_id\n",
       "0             Amiens        city  49.894171  2.295695      114347\n",
       "1             Annecy        city  45.899235  6.128885     6791758\n",
       "2            Avignon        city  43.949249  4.805901      102478\n",
       "3             Bayeux        town  49.276462 -0.702474      145776\n",
       "4            Bayonne        town  43.494514 -1.473666      166713\n",
       "5           Biarritz        town  43.483252 -1.559278      166717\n",
       "6           Briançon        town  44.898404  6.643631       85421\n",
       "7        Carcassonne        town  43.213036  2.349107       37774\n",
       "8             Cassis     village  43.214036  5.539632       76425\n",
       "9          Collioure     village  42.525050  3.083155       18409\n",
       "10            Colmar        town  48.077752  7.357964       61423\n",
       "11             Dijon        city  47.321581  5.041470       74090\n",
       "12         Eguisheim     village  48.044797  7.307962       79442\n",
       "13               Gap        town  44.561203  6.082064      367142\n",
       "14  Gorges du Verdon       gorge  43.749656  6.328562  7193513219\n",
       "15          Grenoble        city  45.187560  5.735782       80348\n",
       "16       La Rochelle        city  46.159113 -1.152043      117858\n",
       "17          Le Havre        city  49.493898  0.107973      104492\n",
       "18             Lille        city  50.636565  3.063528       58404\n",
       "19              Lyon        city  45.757814  4.832011      120965\n",
       "20         Marseille        city  43.296174  5.369953       76469\n",
       "21         Montauban        town  44.017584  1.354999      137735\n",
       "22             Paris        city  48.853495  2.348391       71525\n",
       "23             Rouen        city  49.440459  1.093966       75628\n",
       "24        Strasbourg        city  48.584614  7.750713       71033\n",
       "25          Toulouse        city  43.604462  1.444247       35738"
      ]
     },
     "metadata": {},
     "output_type": "display_data"
    }
   ],
   "source": [
    "# Clean results\n",
    "\n",
    "def get_json_result(cities_infos):\n",
    "    response = []\n",
    "    for city_rows in cities_infos:\n",
    "        for row in city_rows:\n",
    "            response.append(row)\n",
    "    return json.dumps(response)\n",
    "\n",
    "# Convertir le résultat en JSON\n",
    "cities_json = get_json_result(result)\n",
    "\n",
    "# Créer un DataFrame à partir des résultats\n",
    "df = pd.read_json(StringIO(cities_json))\n",
    "\n",
    "# filtrage sur le nom des villes pour vérifier s'ils sont exactement égales à la liste des villes en entrée (MONTAUBAN != MONTAUBAN LUCHON)\n",
    "df = df[df['name'].isin(city_list)]\n",
    "\n",
    "# Filrage sur les colonnes intéressantes\n",
    "df = df.loc[:, ['name', 'addresstype', 'lat', 'lon', 'osm_id']]\n",
    "\n",
    "# Filtre sur la colonne `addresstype`, nous voulons les villes où `addresstype` == city|town|municipality\n",
    "# Définir l'ordre de priorité pour la colonne 'addresstype'\n",
    "priority_order = {'town': 1, 'city': 2, 'municipality': 3, 'village': 4}\n",
    "df.loc[:, 'priority'] = df['addresstype'].map(priority_order).fillna(5) # La méthode fillna(4) est utilisée pour remplir les valeurs manquantes (NaN) dans la colonne priority avec le nombre 4\n",
    "\n",
    "# Suppression des des lignes où `addresstype` == `hamlet`, cela peut ne pas être du tout représentatif, un hameau peut avoir le meme nom qu une ville\n",
    "df.drop(df[df['addresstype'] == 'hamlet'].index, inplace = True)\n",
    "\n",
    "# Trier les données en fonction du 'name' et de la priorité\n",
    "df = df.sort_values(by=['name', 'priority'])\n",
    "\n",
    "# Supprimer les doublons en gardant la première occurrence\n",
    "df = df.drop_duplicates(subset=['name'], keep='first')\n",
    "\n",
    "# Supprimer la colonne 'priority' qui n'est plus nécessaire\n",
    "df = df.drop(columns=['priority'])\n",
    "\n",
    "# reset index\n",
    "df = df.reset_index(drop=True)\n",
    "\n",
    "# Sauvegarder le DataFrame en CSV pour vérifier le contenu\n",
    "# df.to_csv('city_geo_infos.csv', index=False)\n",
    "\n",
    "display(df)"
   ]
  },
  {
   "cell_type": "markdown",
   "metadata": {},
   "source": [
    "## Récupération de la météo des villes\n",
    "\n",
    "url à tester = https://api.openweathermap.org/data/3.0/onecall?lat={lat}&lon={lon}&exclude={part}&appid={API key}"
   ]
  },
  {
   "cell_type": "code",
   "execution_count": 12,
   "metadata": {},
   "outputs": [
    {
     "data": {
      "text/plain": [
       "'1fc5b0910a87bc86e7d3b1c5e31520fa'"
      ]
     },
     "execution_count": 12,
     "metadata": {},
     "output_type": "execute_result"
    }
   ],
   "source": [
    "# Utilisation de fichier environnement .env et lecture de la clé API\n",
    "from dotenv import load_dotenv\n",
    "from os import environ\n",
    "\n",
    "load_dotenv()\n",
    "AWM_API_KEY = environ['OPENWEATHERMAP_API']\n",
    "AWM_API_KEY"
   ]
  },
  {
   "cell_type": "code",
   "execution_count": 13,
   "metadata": {},
   "outputs": [
    {
     "name": "stdout",
     "output_type": "stream",
     "text": [
      "{'lat': 43.9492, 'lon': 4.8059, 'timezone': 'Europe/Paris', 'timezone_offset': 7200, 'current': {'dt': 1718951674, 'sunrise': 1718942293, 'sunset': 1718998019, 'temp': 293.13, 'feels_like': 293.66, 'pressure': 1015, 'humidity': 95, 'dew_point': 292.3, 'uvi': 1.53, 'clouds': 100, 'visibility': 10000, 'wind_speed': 3.6, 'wind_deg': 160, 'weather': [{'id': 804, 'main': 'Clouds', 'description': 'overcast clouds', 'icon': '04d'}]}, 'minutely': [{'dt': 1718951700, 'precipitation': 0}, {'dt': 1718951760, 'precipitation': 0}, {'dt': 1718951820, 'precipitation': 0}, {'dt': 1718951880, 'precipitation': 0}, {'dt': 1718951940, 'precipitation': 0}, {'dt': 1718952000, 'precipitation': 0}, {'dt': 1718952060, 'precipitation': 0}, {'dt': 1718952120, 'precipitation': 0}, {'dt': 1718952180, 'precipitation': 0}, {'dt': 1718952240, 'precipitation': 0}, {'dt': 1718952300, 'precipitation': 0}, {'dt': 1718952360, 'precipitation': 0}, {'dt': 1718952420, 'precipitation': 0}, {'dt': 1718952480, 'precipitation': 0}, {'dt': 1718952540, 'precipitation': 0}, {'dt': 1718952600, 'precipitation': 0}, {'dt': 1718952660, 'precipitation': 0}, {'dt': 1718952720, 'precipitation': 0}, {'dt': 1718952780, 'precipitation': 0}, {'dt': 1718952840, 'precipitation': 0}, {'dt': 1718952900, 'precipitation': 0}, {'dt': 1718952960, 'precipitation': 0}, {'dt': 1718953020, 'precipitation': 0}, {'dt': 1718953080, 'precipitation': 0}, {'dt': 1718953140, 'precipitation': 0}, {'dt': 1718953200, 'precipitation': 0}, {'dt': 1718953260, 'precipitation': 0}, {'dt': 1718953320, 'precipitation': 0}, {'dt': 1718953380, 'precipitation': 0}, {'dt': 1718953440, 'precipitation': 0}, {'dt': 1718953500, 'precipitation': 0}, {'dt': 1718953560, 'precipitation': 0}, {'dt': 1718953620, 'precipitation': 0}, {'dt': 1718953680, 'precipitation': 0}, {'dt': 1718953740, 'precipitation': 0}, {'dt': 1718953800, 'precipitation': 0}, {'dt': 1718953860, 'precipitation': 0}, {'dt': 1718953920, 'precipitation': 0}, {'dt': 1718953980, 'precipitation': 0}, {'dt': 1718954040, 'precipitation': 0}, {'dt': 1718954100, 'precipitation': 0}, {'dt': 1718954160, 'precipitation': 0}, {'dt': 1718954220, 'precipitation': 0}, {'dt': 1718954280, 'precipitation': 0}, {'dt': 1718954340, 'precipitation': 0}, {'dt': 1718954400, 'precipitation': 0}, {'dt': 1718954460, 'precipitation': 0}, {'dt': 1718954520, 'precipitation': 0}, {'dt': 1718954580, 'precipitation': 0}, {'dt': 1718954640, 'precipitation': 0}, {'dt': 1718954700, 'precipitation': 0}, {'dt': 1718954760, 'precipitation': 0}, {'dt': 1718954820, 'precipitation': 0}, {'dt': 1718954880, 'precipitation': 0}, {'dt': 1718954940, 'precipitation': 0}, {'dt': 1718955000, 'precipitation': 0}, {'dt': 1718955060, 'precipitation': 0}, {'dt': 1718955120, 'precipitation': 0}, {'dt': 1718955180, 'precipitation': 0}, {'dt': 1718955240, 'precipitation': 0}], 'hourly': [{'dt': 1718949600, 'temp': 293.22, 'feels_like': 293.71, 'pressure': 1015, 'humidity': 93, 'dew_point': 292.05, 'uvi': 0.63, 'clouds': 99, 'visibility': 10000, 'wind_speed': 4.43, 'wind_deg': 181, 'wind_gust': 8.05, 'weather': [{'id': 804, 'main': 'Clouds', 'description': 'overcast clouds', 'icon': '04d'}], 'pop': 0.8}, {'dt': 1718953200, 'temp': 293.13, 'feels_like': 293.66, 'pressure': 1015, 'humidity': 95, 'dew_point': 292.3, 'uvi': 1.53, 'clouds': 100, 'visibility': 10000, 'wind_speed': 3.58, 'wind_deg': 191, 'wind_gust': 4.57, 'weather': [{'id': 804, 'main': 'Clouds', 'description': 'overcast clouds', 'icon': '04d'}], 'pop': 0.24}, {'dt': 1718956800, 'temp': 293.56, 'feels_like': 294.06, 'pressure': 1015, 'humidity': 92, 'dew_point': 292.22, 'uvi': 2.66, 'clouds': 89, 'visibility': 10000, 'wind_speed': 3.3, 'wind_deg': 228, 'wind_gust': 3.81, 'weather': [{'id': 804, 'main': 'Clouds', 'description': 'overcast clouds', 'icon': '04d'}], 'pop': 0.77}, {'dt': 1718960400, 'temp': 294.49, 'feels_like': 294.87, 'pressure': 1016, 'humidity': 84, 'dew_point': 291.68, 'uvi': 4.41, 'clouds': 81, 'visibility': 10000, 'wind_speed': 3.28, 'wind_deg': 266, 'wind_gust': 3.87, 'weather': [{'id': 500, 'main': 'Rain', 'description': 'light rain', 'icon': '10d'}], 'pop': 0.94, 'rain': {'1h': 0.27}}, {'dt': 1718964000, 'temp': 296.15, 'feels_like': 296.36, 'pressure': 1016, 'humidity': 71, 'dew_point': 290.61, 'uvi': 6.04, 'clouds': 68, 'visibility': 10000, 'wind_speed': 2.96, 'wind_deg': 282, 'wind_gust': 3.48, 'weather': [{'id': 500, 'main': 'Rain', 'description': 'light rain', 'icon': '10d'}], 'pop': 0.88, 'rain': {'1h': 0.13}}, {'dt': 1718967600, 'temp': 298.19, 'feels_like': 298.29, 'pressure': 1016, 'humidity': 59, 'dew_point': 289.62, 'uvi': 7.02, 'clouds': 50, 'visibility': 10000, 'wind_speed': 3.01, 'wind_deg': 304, 'wind_gust': 3.86, 'weather': [{'id': 500, 'main': 'Rain', 'description': 'light rain', 'icon': '10d'}], 'pop': 0.9, 'rain': {'1h': 0.11}}, {'dt': 1718971200, 'temp': 300.3, 'feels_like': 300.46, 'pressure': 1016, 'humidity': 46, 'dew_point': 287.5, 'uvi': 7.2, 'clouds': 32, 'visibility': 10000, 'wind_speed': 3.4, 'wind_deg': 303, 'wind_gust': 4.42, 'weather': [{'id': 802, 'main': 'Clouds', 'description': 'scattered clouds', 'icon': '03d'}], 'pop': 0.85}, {'dt': 1718974800, 'temp': 301.29, 'feels_like': 300.94, 'pressure': 1016, 'humidity': 40, 'dew_point': 286.18, 'uvi': 6.43, 'clouds': 0, 'visibility': 10000, 'wind_speed': 3.73, 'wind_deg': 281, 'wind_gust': 4.75, 'weather': [{'id': 800, 'main': 'Clear', 'description': 'clear sky', 'icon': '01d'}], 'pop': 0.02}, {'dt': 1718978400, 'temp': 301.64, 'feels_like': 300.9, 'pressure': 1015, 'humidity': 35, 'dew_point': 284.52, 'uvi': 4.13, 'clouds': 7, 'visibility': 10000, 'wind_speed': 4.24, 'wind_deg': 282, 'wind_gust': 4.97, 'weather': [{'id': 800, 'main': 'Clear', 'description': 'clear sky', 'icon': '01d'}], 'pop': 0.02}, {'dt': 1718982000, 'temp': 301.57, 'feels_like': 300.72, 'pressure': 1015, 'humidity': 33, 'dew_point': 283.89, 'uvi': 3.32, 'clouds': 14, 'visibility': 10000, 'wind_speed': 4.54, 'wind_deg': 271, 'wind_gust': 5.18, 'weather': [{'id': 801, 'main': 'Clouds', 'description': 'few clouds', 'icon': '02d'}], 'pop': 0}, {'dt': 1718985600, 'temp': 301.71, 'feels_like': 300.84, 'pressure': 1014, 'humidity': 33, 'dew_point': 284, 'uvi': 2, 'clouds': 15, 'visibility': 10000, 'wind_speed': 5.98, 'wind_deg': 286, 'wind_gust': 5.56, 'weather': [{'id': 801, 'main': 'Clouds', 'description': 'few clouds', 'icon': '02d'}], 'pop': 0}, {'dt': 1718989200, 'temp': 299.37, 'feels_like': 299.37, 'pressure': 1015, 'humidity': 47, 'dew_point': 287.13, 'uvi': 0.98, 'clouds': 15, 'visibility': 10000, 'wind_speed': 5.75, 'wind_deg': 334, 'wind_gust': 7.37, 'weather': [{'id': 801, 'main': 'Clouds', 'description': 'few clouds', 'icon': '02d'}], 'pop': 0}, {'dt': 1718992800, 'temp': 297.91, 'feels_like': 297.88, 'pressure': 1016, 'humidity': 55, 'dew_point': 288.02, 'uvi': 0.34, 'clouds': 13, 'visibility': 10000, 'wind_speed': 5.07, 'wind_deg': 342, 'wind_gust': 8.86, 'weather': [{'id': 801, 'main': 'Clouds', 'description': 'few clouds', 'icon': '02d'}], 'pop': 0}, {'dt': 1718996400, 'temp': 295.98, 'feels_like': 295.96, 'pressure': 1016, 'humidity': 63, 'dew_point': 288.35, 'uvi': 0, 'clouds': 0, 'visibility': 10000, 'wind_speed': 3.34, 'wind_deg': 344, 'wind_gust': 6.76, 'weather': [{'id': 800, 'main': 'Clear', 'description': 'clear sky', 'icon': '01d'}], 'pop': 0}, {'dt': 1719000000, 'temp': 294.6, 'feels_like': 294.32, 'pressure': 1017, 'humidity': 58, 'dew_point': 285.96, 'uvi': 0, 'clouds': 0, 'visibility': 10000, 'wind_speed': 4.38, 'wind_deg': 352, 'wind_gust': 8.37, 'weather': [{'id': 800, 'main': 'Clear', 'description': 'clear sky', 'icon': '01n'}], 'pop': 0}, {'dt': 1719003600, 'temp': 293.2, 'feels_like': 292.78, 'pressure': 1018, 'humidity': 58, 'dew_point': 284.62, 'uvi': 0, 'clouds': 0, 'visibility': 10000, 'wind_speed': 3.09, 'wind_deg': 347, 'wind_gust': 7.48, 'weather': [{'id': 800, 'main': 'Clear', 'description': 'clear sky', 'icon': '01n'}], 'pop': 0}, {'dt': 1719007200, 'temp': 292.56, 'feels_like': 292.12, 'pressure': 1018, 'humidity': 60, 'dew_point': 284.49, 'uvi': 0, 'clouds': 0, 'visibility': 10000, 'wind_speed': 3.66, 'wind_deg': 342, 'wind_gust': 8.99, 'weather': [{'id': 800, 'main': 'Clear', 'description': 'clear sky', 'icon': '01n'}], 'pop': 0}, {'dt': 1719010800, 'temp': 291.98, 'feels_like': 291.59, 'pressure': 1018, 'humidity': 64, 'dew_point': 284.84, 'uvi': 0, 'clouds': 2, 'visibility': 10000, 'wind_speed': 4.01, 'wind_deg': 335, 'wind_gust': 9.8, 'weather': [{'id': 800, 'main': 'Clear', 'description': 'clear sky', 'icon': '01n'}], 'pop': 0}, {'dt': 1719014400, 'temp': 291.6, 'feels_like': 291.22, 'pressure': 1018, 'humidity': 66, 'dew_point': 285.01, 'uvi': 0, 'clouds': 2, 'visibility': 10000, 'wind_speed': 4.12, 'wind_deg': 331, 'wind_gust': 9.57, 'weather': [{'id': 800, 'main': 'Clear', 'description': 'clear sky', 'icon': '01n'}], 'pop': 0}, {'dt': 1719018000, 'temp': 291.18, 'feels_like': 290.79, 'pressure': 1018, 'humidity': 67, 'dew_point': 284.77, 'uvi': 0, 'clouds': 5, 'visibility': 10000, 'wind_speed': 4.27, 'wind_deg': 329, 'wind_gust': 9.36, 'weather': [{'id': 800, 'main': 'Clear', 'description': 'clear sky', 'icon': '01n'}], 'pop': 0}, {'dt': 1719021600, 'temp': 290.68, 'feels_like': 290.26, 'pressure': 1018, 'humidity': 68, 'dew_point': 284.59, 'uvi': 0, 'clouds': 3, 'visibility': 10000, 'wind_speed': 4.17, 'wind_deg': 326, 'wind_gust': 9.36, 'weather': [{'id': 800, 'main': 'Clear', 'description': 'clear sky', 'icon': '01n'}], 'pop': 0}, {'dt': 1719025200, 'temp': 290.03, 'feels_like': 289.63, 'pressure': 1018, 'humidity': 71, 'dew_point': 284.63, 'uvi': 0, 'clouds': 1, 'visibility': 10000, 'wind_speed': 3.42, 'wind_deg': 337, 'wind_gust': 8.03, 'weather': [{'id': 800, 'main': 'Clear', 'description': 'clear sky', 'icon': '01n'}], 'pop': 0}, {'dt': 1719028800, 'temp': 289.46, 'feels_like': 289.08, 'pressure': 1017, 'humidity': 74, 'dew_point': 284.7, 'uvi': 0, 'clouds': 22, 'visibility': 10000, 'wind_speed': 3.4, 'wind_deg': 326, 'wind_gust': 8.11, 'weather': [{'id': 801, 'main': 'Clouds', 'description': 'few clouds', 'icon': '02d'}], 'pop': 0}, {'dt': 1719032400, 'temp': 290.1, 'feels_like': 289.76, 'pressure': 1017, 'humidity': 73, 'dew_point': 285.12, 'uvi': 0.19, 'clouds': 37, 'visibility': 10000, 'wind_speed': 2.93, 'wind_deg': 343, 'wind_gust': 8.07, 'weather': [{'id': 802, 'main': 'Clouds', 'description': 'scattered clouds', 'icon': '03d'}], 'pop': 0}, {'dt': 1719036000, 'temp': 291.69, 'feels_like': 291.38, 'pressure': 1018, 'humidity': 68, 'dew_point': 285.48, 'uvi': 0.68, 'clouds': 41, 'visibility': 10000, 'wind_speed': 4.16, 'wind_deg': 329, 'wind_gust': 8.94, 'weather': [{'id': 802, 'main': 'Clouds', 'description': 'scattered clouds', 'icon': '03d'}], 'pop': 0}, {'dt': 1719039600, 'temp': 293.62, 'feels_like': 293.32, 'pressure': 1018, 'humidity': 61, 'dew_point': 285.6, 'uvi': 1.65, 'clouds': 0, 'visibility': 10000, 'wind_speed': 5.22, 'wind_deg': 331, 'wind_gust': 9.04, 'weather': [{'id': 800, 'main': 'Clear', 'description': 'clear sky', 'icon': '01d'}], 'pop': 0}, {'dt': 1719043200, 'temp': 295.16, 'feels_like': 294.85, 'pressure': 1017, 'humidity': 55, 'dew_point': 285.47, 'uvi': 3.14, 'clouds': 0, 'visibility': 10000, 'wind_speed': 5.59, 'wind_deg': 332, 'wind_gust': 7.82, 'weather': [{'id': 800, 'main': 'Clear', 'description': 'clear sky', 'icon': '01d'}], 'pop': 0}, {'dt': 1719046800, 'temp': 296.51, 'feels_like': 296.18, 'pressure': 1017, 'humidity': 49, 'dew_point': 285.19, 'uvi': 4.88, 'clouds': 0, 'visibility': 10000, 'wind_speed': 5.72, 'wind_deg': 334, 'wind_gust': 7.28, 'weather': [{'id': 800, 'main': 'Clear', 'description': 'clear sky', 'icon': '01d'}], 'pop': 0}, {'dt': 1719050400, 'temp': 297.78, 'feels_like': 297.47, 'pressure': 1017, 'humidity': 45, 'dew_point': 284.79, 'uvi': 6.55, 'clouds': 7, 'visibility': 10000, 'wind_speed': 5.44, 'wind_deg': 338, 'wind_gust': 6.74, 'weather': [{'id': 800, 'main': 'Clear', 'description': 'clear sky', 'icon': '01d'}], 'pop': 0}, {'dt': 1719054000, 'temp': 298.74, 'feels_like': 298.43, 'pressure': 1017, 'humidity': 41, 'dew_point': 284.43, 'uvi': 7.61, 'clouds': 22, 'visibility': 10000, 'wind_speed': 5.08, 'wind_deg': 339, 'wind_gust': 7.69, 'weather': [{'id': 801, 'main': 'Clouds', 'description': 'few clouds', 'icon': '02d'}], 'pop': 0}, {'dt': 1719057600, 'temp': 299.83, 'feels_like': 299.66, 'pressure': 1016, 'humidity': 37, 'dew_point': 283.75, 'uvi': 7.79, 'clouds': 36, 'visibility': 10000, 'wind_speed': 4.67, 'wind_deg': 342, 'wind_gust': 7.99, 'weather': [{'id': 802, 'main': 'Clouds', 'description': 'scattered clouds', 'icon': '03d'}], 'pop': 0}, {'dt': 1719061200, 'temp': 300.07, 'feels_like': 299.77, 'pressure': 1016, 'humidity': 36, 'dew_point': 283.47, 'uvi': 7.16, 'clouds': 34, 'visibility': 10000, 'wind_speed': 7.74, 'wind_deg': 324, 'wind_gust': 8.71, 'weather': [{'id': 802, 'main': 'Clouds', 'description': 'scattered clouds', 'icon': '03d'}], 'pop': 0}, {'dt': 1719064800, 'temp': 298.32, 'feels_like': 297.99, 'pressure': 1016, 'humidity': 42, 'dew_point': 284.21, 'uvi': 3.3, 'clouds': 71, 'visibility': 10000, 'wind_speed': 7.16, 'wind_deg': 292, 'wind_gust': 8.22, 'weather': [{'id': 803, 'main': 'Clouds', 'description': 'broken clouds', 'icon': '04d'}], 'pop': 0.04}, {'dt': 1719068400, 'temp': 294.63, 'feels_like': 294.35, 'pressure': 1016, 'humidity': 58, 'dew_point': 285.84, 'uvi': 1.73, 'clouds': 83, 'visibility': 10000, 'wind_speed': 5.63, 'wind_deg': 274, 'wind_gust': 8.51, 'weather': [{'id': 500, 'main': 'Rain', 'description': 'light rain', 'icon': '10d'}], 'pop': 0.35, 'rain': {'1h': 0.1}}, {'dt': 1719072000, 'temp': 295.59, 'feels_like': 295.27, 'pressure': 1015, 'humidity': 53, 'dew_point': 285.29, 'uvi': 2.25, 'clouds': 87, 'visibility': 10000, 'wind_speed': 6.15, 'wind_deg': 298, 'wind_gust': 8.98, 'weather': [{'id': 804, 'main': 'Clouds', 'description': 'overcast clouds', 'icon': '04d'}], 'pop': 0.02}, {'dt': 1719075600, 'temp': 295.6, 'feels_like': 295.21, 'pressure': 1015, 'humidity': 50, 'dew_point': 284.62, 'uvi': 1, 'clouds': 78, 'visibility': 10000, 'wind_speed': 7.39, 'wind_deg': 301, 'wind_gust': 9.75, 'weather': [{'id': 803, 'main': 'Clouds', 'description': 'broken clouds', 'icon': '04d'}], 'pop': 0}, {'dt': 1719079200, 'temp': 293.24, 'feels_like': 292.92, 'pressure': 1016, 'humidity': 62, 'dew_point': 285.48, 'uvi': 0.35, 'clouds': 81, 'visibility': 10000, 'wind_speed': 6.42, 'wind_deg': 304, 'wind_gust': 10.92, 'weather': [{'id': 500, 'main': 'Rain', 'description': 'light rain', 'icon': '10d'}], 'pop': 0.3, 'rain': {'1h': 0.1}}, {'dt': 1719082800, 'temp': 291.04, 'feels_like': 290.87, 'pressure': 1016, 'humidity': 76, 'dew_point': 286.61, 'uvi': 0, 'clouds': 100, 'visibility': 10000, 'wind_speed': 5.72, 'wind_deg': 336, 'wind_gust': 10.95, 'weather': [{'id': 500, 'main': 'Rain', 'description': 'light rain', 'icon': '10d'}], 'pop': 0.97, 'rain': {'1h': 0.32}}, {'dt': 1719086400, 'temp': 289.55, 'feels_like': 289.52, 'pressure': 1016, 'humidity': 87, 'dew_point': 287.29, 'uvi': 0, 'clouds': 100, 'visibility': 10000, 'wind_speed': 3.75, 'wind_deg': 345, 'wind_gust': 8.93, 'weather': [{'id': 500, 'main': 'Rain', 'description': 'light rain', 'icon': '10n'}], 'pop': 1, 'rain': {'1h': 0.63}}, {'dt': 1719090000, 'temp': 289.27, 'feels_like': 289.31, 'pressure': 1016, 'humidity': 91, 'dew_point': 287.66, 'uvi': 0, 'clouds': 100, 'visibility': 10000, 'wind_speed': 2.65, 'wind_deg': 334, 'wind_gust': 7.16, 'weather': [{'id': 500, 'main': 'Rain', 'description': 'light rain', 'icon': '10n'}], 'pop': 1, 'rain': {'1h': 0.77}}, {'dt': 1719093600, 'temp': 289.13, 'feels_like': 289.19, 'pressure': 1016, 'humidity': 92, 'dew_point': 287.71, 'uvi': 0, 'clouds': 100, 'visibility': 10000, 'wind_speed': 2.71, 'wind_deg': 313, 'wind_gust': 6.88, 'weather': [{'id': 500, 'main': 'Rain', 'description': 'light rain', 'icon': '10n'}], 'pop': 1, 'rain': {'1h': 0.86}}, {'dt': 1719097200, 'temp': 289.08, 'feels_like': 289.16, 'pressure': 1016, 'humidity': 93, 'dew_point': 287.69, 'uvi': 0, 'clouds': 100, 'visibility': 10000, 'wind_speed': 2.66, 'wind_deg': 311, 'wind_gust': 6.4, 'weather': [{'id': 500, 'main': 'Rain', 'description': 'light rain', 'icon': '10n'}], 'pop': 1, 'rain': {'1h': 0.56}}, {'dt': 1719100800, 'temp': 289.1, 'feels_like': 289.15, 'pressure': 1015, 'humidity': 92, 'dew_point': 287.65, 'uvi': 0, 'clouds': 100, 'visibility': 10000, 'wind_speed': 2.48, 'wind_deg': 319, 'wind_gust': 6.03, 'weather': [{'id': 500, 'main': 'Rain', 'description': 'light rain', 'icon': '10n'}], 'pop': 1, 'rain': {'1h': 0.18}}, {'dt': 1719104400, 'temp': 288.87, 'feels_like': 288.93, 'pressure': 1015, 'humidity': 93, 'dew_point': 287.57, 'uvi': 0, 'clouds': 100, 'visibility': 10000, 'wind_speed': 2.52, 'wind_deg': 314, 'wind_gust': 6.24, 'weather': [{'id': 500, 'main': 'Rain', 'description': 'light rain', 'icon': '10n'}], 'pop': 0.47, 'rain': {'1h': 0.13}}, {'dt': 1719108000, 'temp': 289.04, 'feels_like': 289.06, 'pressure': 1014, 'humidity': 91, 'dew_point': 287.41, 'uvi': 0, 'clouds': 100, 'visibility': 10000, 'wind_speed': 2.25, 'wind_deg': 321, 'wind_gust': 6.17, 'weather': [{'id': 804, 'main': 'Clouds', 'description': 'overcast clouds', 'icon': '04n'}], 'pop': 0.08}, {'dt': 1719111600, 'temp': 288.92, 'feels_like': 288.93, 'pressure': 1014, 'humidity': 91, 'dew_point': 287.2, 'uvi': 0, 'clouds': 99, 'visibility': 10000, 'wind_speed': 2.89, 'wind_deg': 323, 'wind_gust': 9.33, 'weather': [{'id': 804, 'main': 'Clouds', 'description': 'overcast clouds', 'icon': '04n'}], 'pop': 0}, {'dt': 1719115200, 'temp': 288.55, 'feels_like': 288.47, 'pressure': 1014, 'humidity': 89, 'dew_point': 286.52, 'uvi': 0, 'clouds': 94, 'visibility': 10000, 'wind_speed': 5.26, 'wind_deg': 337, 'wind_gust': 11.82, 'weather': [{'id': 500, 'main': 'Rain', 'description': 'light rain', 'icon': '10d'}], 'pop': 0.31, 'rain': {'1h': 0.17}}, {'dt': 1719118800, 'temp': 288.3, 'feels_like': 288.09, 'pressure': 1013, 'humidity': 85, 'dew_point': 285.65, 'uvi': 0.2, 'clouds': 76, 'visibility': 10000, 'wind_speed': 5.8, 'wind_deg': 340, 'wind_gust': 13.01, 'weather': [{'id': 803, 'main': 'Clouds', 'description': 'broken clouds', 'icon': '04d'}], 'pop': 0.03}], 'daily': [{'dt': 1718967600, 'sunrise': 1718942293, 'sunset': 1718998019, 'moonrise': 1718998560, 'moonset': 1718938080, 'moon_phase': 0.48, 'summary': 'Expect a day of partly cloudy with rain', 'temp': {'day': 298.19, 'min': 292.58, 'max': 301.71, 'night': 293.2, 'eve': 299.37, 'morn': 293.05}, 'feels_like': {'day': 298.29, 'night': 292.78, 'eve': 299.37, 'morn': 293.47}, 'pressure': 1016, 'humidity': 59, 'dew_point': 289.62, 'wind_speed': 5.98, 'wind_deg': 286, 'wind_gust': 9.09, 'weather': [{'id': 501, 'main': 'Rain', 'description': 'moderate rain', 'icon': '10d'}], 'clouds': 50, 'pop': 1, 'rain': 3.41, 'uvi': 7.2}, {'dt': 1719054000, 'sunrise': 1719028706, 'sunset': 1719084429, 'moonrise': 1719088380, 'moonset': 1719027780, 'moon_phase': 0.5, 'summary': 'Expect a day of partly cloudy with rain', 'temp': {'day': 298.74, 'min': 289.27, 'max': 300.07, 'night': 289.27, 'eve': 295.6, 'morn': 290.1}, 'feels_like': {'day': 298.43, 'night': 289.31, 'eve': 295.21, 'morn': 289.76}, 'pressure': 1017, 'humidity': 41, 'dew_point': 284.43, 'wind_speed': 7.74, 'wind_deg': 324, 'wind_gust': 10.95, 'weather': [{'id': 500, 'main': 'Rain', 'description': 'light rain', 'icon': '10d'}], 'clouds': 22, 'pop': 1, 'rain': 1.92, 'uvi': 7.79}, {'dt': 1719140400, 'sunrise': 1719115122, 'sunset': 1719170838, 'moonrise': 1719177600, 'moonset': 1719118140, 'moon_phase': 0.55, 'summary': 'Expect a day of partly cloudy with rain', 'temp': {'day': 295.5, 'min': 288.3, 'max': 295.5, 'night': 292.43, 'eve': 293.08, 'morn': 288.3}, 'feels_like': {'day': 295.02, 'night': 292.19, 'eve': 292.72, 'morn': 288.09}, 'pressure': 1012, 'humidity': 47, 'dew_point': 283.4, 'wind_speed': 12.27, 'wind_deg': 3, 'wind_gust': 16.67, 'weather': [{'id': 500, 'main': 'Rain', 'description': 'light rain', 'icon': '10d'}], 'clouds': 31, 'pop': 1, 'rain': 1.9, 'uvi': 8.68}, {'dt': 1719226800, 'sunrise': 1719201540, 'sunset': 1719257244, 'moonrise': 1719266220, 'moonset': 1719209100, 'moon_phase': 0.58, 'summary': 'There will be partly cloudy today', 'temp': {'day': 298.4, 'min': 289.9, 'max': 299.82, 'night': 293.02, 'eve': 298.18, 'morn': 290.19}, 'feels_like': {'day': 298.26, 'night': 292.92, 'eve': 298.12, 'morn': 290.06}, 'pressure': 1012, 'humidity': 49, 'dew_point': 286.84, 'wind_speed': 7.53, 'wind_deg': 356, 'wind_gust': 13.24, 'weather': [{'id': 803, 'main': 'Clouds', 'description': 'broken clouds', 'icon': '04d'}], 'clouds': 53, 'pop': 0, 'uvi': 9.05}, {'dt': 1719313200, 'sunrise': 1719287960, 'sunset': 1719343648, 'moonrise': 0, 'moonset': 1719300240, 'moon_phase': 0.62, 'summary': 'You can expect partly cloudy in the morning, with clearing in the afternoon', 'temp': {'day': 301.52, 'min': 290.53, 'max': 301.52, 'night': 292.76, 'eve': 297.03, 'morn': 292.82}, 'feels_like': {'day': 301.22, 'night': 293.07, 'eve': 297.2, 'morn': 292.72}, 'pressure': 1010, 'humidity': 41, 'dew_point': 286.94, 'wind_speed': 6.21, 'wind_deg': 207, 'wind_gust': 5.06, 'weather': [{'id': 803, 'main': 'Clouds', 'description': 'broken clouds', 'icon': '04d'}], 'clouds': 72, 'pop': 0, 'uvi': 9.01}, {'dt': 1719399600, 'sunrise': 1719374382, 'sunset': 1719430050, 'moonrise': 1719354300, 'moonset': 1719391380, 'moon_phase': 0.66, 'summary': 'Expect a day of partly cloudy with rain', 'temp': {'day': 298.06, 'min': 291.94, 'max': 299.18, 'night': 294.01, 'eve': 297.27, 'morn': 293.7}, 'feels_like': {'day': 298.28, 'night': 294.16, 'eve': 297.51, 'morn': 293.9}, 'pressure': 1008, 'humidity': 64, 'dew_point': 290.55, 'wind_speed': 4.43, 'wind_deg': 219, 'wind_gust': 6.28, 'weather': [{'id': 500, 'main': 'Rain', 'description': 'light rain', 'icon': '10d'}], 'clouds': 98, 'pop': 0.78, 'rain': 2.25, 'uvi': 10}, {'dt': 1719486000, 'sunrise': 1719460806, 'sunset': 1719516449, 'moonrise': 1719442140, 'moonset': 1719482460, 'moon_phase': 0.7, 'summary': 'There will be rain until morning, then partly cloudy', 'temp': {'day': 295.66, 'min': 290.39, 'max': 296, 'night': 290.39, 'eve': 294.12, 'morn': 292.02}, 'feels_like': {'day': 295.3, 'night': 289.84, 'eve': 293.66, 'morn': 291.69}, 'pressure': 1009, 'humidity': 51, 'dew_point': 285.03, 'wind_speed': 9.25, 'wind_deg': 306, 'wind_gust': 12.64, 'weather': [{'id': 804, 'main': 'Clouds', 'description': 'overcast clouds', 'icon': '04d'}], 'clouds': 100, 'pop': 0.55, 'uvi': 10}, {'dt': 1719572400, 'sunrise': 1719547231, 'sunset': 1719602846, 'moonrise': 1719529860, 'moonset': 1719573480, 'moon_phase': 0.75, 'summary': 'There will be partly cloudy today', 'temp': {'day': 293.67, 'min': 286.96, 'max': 294.81, 'night': 288.53, 'eve': 293.04, 'morn': 288.68}, 'feels_like': {'day': 293.03, 'night': 287.93, 'eve': 292.44, 'morn': 287.78}, 'pressure': 1014, 'humidity': 48, 'dew_point': 282.13, 'wind_speed': 8.36, 'wind_deg': 341, 'wind_gust': 11.56, 'weather': [{'id': 803, 'main': 'Clouds', 'description': 'broken clouds', 'icon': '04d'}], 'clouds': 53, 'pop': 0, 'uvi': 10}], 'alerts': [{'sender_name': 'METEO-FRANCE', 'event': 'Moderate thunderstorm warning', 'start': 1718950006, 'end': 1719007200, 'description': 'Moderate damages may occur, especially in vulnerable or in exposed areas and to people who carry out weather-related activities.', 'tags': ['Thunderstorm']}]}\n"
     ]
    }
   ],
   "source": [
    "headers = {\n",
    "  'Accept-Encoding': 'application/json',\n",
    "  'User-Agent': 'Chrome/126.0.0.0 ',\n",
    "}\n",
    "\n",
    "url = f\"https://api.openweathermap.org/data/3.0/onecall?lat=43.9492493&lon=4.8059012&appid={AWM_API_KEY}\"\n",
    "# url = f\"https://api.openweathermap.org/data/2.5/forecast?units=metric&lat=43.9492493&lon=4.8059012&appid={AWM_API_KEY}\"\n",
    "r = requests.get(url, headers=headers)\n",
    "meteo_dict = r.json()\n",
    "print(meteo_dict)"
   ]
  },
  {
   "cell_type": "markdown",
   "metadata": {},
   "source": [
    "Boucler sur la liste des villes et créer un dataframe avec en ligne le nom de la ville et les prédictions météorologiques des 5 prochains jours (l'api ne permet pas plus en gratuit).\n",
    "Les informations à récuperer sont :\n",
    "  - dt (datetime)\n",
    "  - temp_min\n",
    "  - temp max\n",
    "  - feels_like\n",
    "  - humidity\n",
    "  - weather.main\n",
    "  - clouds.all (pourcentage)\n",
    "  - wind.speed\n",
    "  - rain (pluie en 3h et en mm)\n",
    "  - pop (pluie, probabilité)\n",
    "\n"
   ]
  },
  {
   "cell_type": "code",
   "execution_count": 43,
   "metadata": {},
   "outputs": [
    {
     "name": "stderr",
     "output_type": "stream",
     "text": [
      "INFO:__main__:Starting query...\n"
     ]
    },
    {
     "name": "stdout",
     "output_type": "stream",
     "text": [
      "[{'name': 'Amiens', 'addresstype': 'city', 'url': 'https://api.openweathermap.org/data/3.0/onecall?units=metric&lat=49.8941708&lon=2.2956951&exclude=minutely,hourly,current&appid=1fc5b0910a87bc86e7d3b1c5e31520fa'}, {'name': 'Annecy', 'addresstype': 'city', 'url': 'https://api.openweathermap.org/data/3.0/onecall?units=metric&lat=45.8992348&lon=6.1288847&exclude=minutely,hourly,current&appid=1fc5b0910a87bc86e7d3b1c5e31520fa'}, {'name': 'Avignon', 'addresstype': 'city', 'url': 'https://api.openweathermap.org/data/3.0/onecall?units=metric&lat=43.9492493&lon=4.8059012&exclude=minutely,hourly,current&appid=1fc5b0910a87bc86e7d3b1c5e31520fa'}, {'name': 'Bayeux', 'addresstype': 'town', 'url': 'https://api.openweathermap.org/data/3.0/onecall?units=metric&lat=49.2764624&lon=-0.7024738&exclude=minutely,hourly,current&appid=1fc5b0910a87bc86e7d3b1c5e31520fa'}, {'name': 'Bayonne', 'addresstype': 'town', 'url': 'https://api.openweathermap.org/data/3.0/onecall?units=metric&lat=43.4945144&lon=-1.4736657&exclude=minutely,hourly,current&appid=1fc5b0910a87bc86e7d3b1c5e31520fa'}, {'name': 'Biarritz', 'addresstype': 'town', 'url': 'https://api.openweathermap.org/data/3.0/onecall?units=metric&lat=43.4832523&lon=-1.5592776&exclude=minutely,hourly,current&appid=1fc5b0910a87bc86e7d3b1c5e31520fa'}, {'name': 'Briançon', 'addresstype': 'town', 'url': 'https://api.openweathermap.org/data/3.0/onecall?units=metric&lat=44.8984037&lon=6.6436313&exclude=minutely,hourly,current&appid=1fc5b0910a87bc86e7d3b1c5e31520fa'}, {'name': 'Carcassonne', 'addresstype': 'town', 'url': 'https://api.openweathermap.org/data/3.0/onecall?units=metric&lat=43.2130358&lon=2.3491069&exclude=minutely,hourly,current&appid=1fc5b0910a87bc86e7d3b1c5e31520fa'}, {'name': 'Cassis', 'addresstype': 'village', 'url': 'https://api.openweathermap.org/data/3.0/onecall?units=metric&lat=43.2140359&lon=5.5396318&exclude=minutely,hourly,current&appid=1fc5b0910a87bc86e7d3b1c5e31520fa'}, {'name': 'Collioure', 'addresstype': 'village', 'url': 'https://api.openweathermap.org/data/3.0/onecall?units=metric&lat=42.52505&lon=3.0831554&exclude=minutely,hourly,current&appid=1fc5b0910a87bc86e7d3b1c5e31520fa'}, {'name': 'Colmar', 'addresstype': 'town', 'url': 'https://api.openweathermap.org/data/3.0/onecall?units=metric&lat=48.0777517&lon=7.3579641&exclude=minutely,hourly,current&appid=1fc5b0910a87bc86e7d3b1c5e31520fa'}, {'name': 'Dijon', 'addresstype': 'city', 'url': 'https://api.openweathermap.org/data/3.0/onecall?units=metric&lat=47.3215806&lon=5.0414701&exclude=minutely,hourly,current&appid=1fc5b0910a87bc86e7d3b1c5e31520fa'}, {'name': 'Eguisheim', 'addresstype': 'village', 'url': 'https://api.openweathermap.org/data/3.0/onecall?units=metric&lat=48.0447968&lon=7.3079618&exclude=minutely,hourly,current&appid=1fc5b0910a87bc86e7d3b1c5e31520fa'}, {'name': 'Gap', 'addresstype': 'town', 'url': 'https://api.openweathermap.org/data/3.0/onecall?units=metric&lat=44.5612032&lon=6.0820639&exclude=minutely,hourly,current&appid=1fc5b0910a87bc86e7d3b1c5e31520fa'}, {'name': 'Gorges du Verdon', 'addresstype': 'gorge', 'url': 'https://api.openweathermap.org/data/3.0/onecall?units=metric&lat=43.7496562&lon=6.3285616&exclude=minutely,hourly,current&appid=1fc5b0910a87bc86e7d3b1c5e31520fa'}, {'name': 'Grenoble', 'addresstype': 'city', 'url': 'https://api.openweathermap.org/data/3.0/onecall?units=metric&lat=45.1875602&lon=5.7357819&exclude=minutely,hourly,current&appid=1fc5b0910a87bc86e7d3b1c5e31520fa'}, {'name': 'La Rochelle', 'addresstype': 'city', 'url': 'https://api.openweathermap.org/data/3.0/onecall?units=metric&lat=46.1591126&lon=-1.1520434&exclude=minutely,hourly,current&appid=1fc5b0910a87bc86e7d3b1c5e31520fa'}, {'name': 'Le Havre', 'addresstype': 'city', 'url': 'https://api.openweathermap.org/data/3.0/onecall?units=metric&lat=49.4938975&lon=0.1079732&exclude=minutely,hourly,current&appid=1fc5b0910a87bc86e7d3b1c5e31520fa'}, {'name': 'Lille', 'addresstype': 'city', 'url': 'https://api.openweathermap.org/data/3.0/onecall?units=metric&lat=50.6365654&lon=3.0635282&exclude=minutely,hourly,current&appid=1fc5b0910a87bc86e7d3b1c5e31520fa'}, {'name': 'Lyon', 'addresstype': 'city', 'url': 'https://api.openweathermap.org/data/3.0/onecall?units=metric&lat=45.7578137&lon=4.8320114&exclude=minutely,hourly,current&appid=1fc5b0910a87bc86e7d3b1c5e31520fa'}, {'name': 'Marseille', 'addresstype': 'city', 'url': 'https://api.openweathermap.org/data/3.0/onecall?units=metric&lat=43.2961743&lon=5.3699525&exclude=minutely,hourly,current&appid=1fc5b0910a87bc86e7d3b1c5e31520fa'}, {'name': 'Montauban', 'addresstype': 'town', 'url': 'https://api.openweathermap.org/data/3.0/onecall?units=metric&lat=44.0175835&lon=1.3549991&exclude=minutely,hourly,current&appid=1fc5b0910a87bc86e7d3b1c5e31520fa'}, {'name': 'Paris', 'addresstype': 'city', 'url': 'https://api.openweathermap.org/data/3.0/onecall?units=metric&lat=48.8534951&lon=2.3483915&exclude=minutely,hourly,current&appid=1fc5b0910a87bc86e7d3b1c5e31520fa'}, {'name': 'Rouen', 'addresstype': 'city', 'url': 'https://api.openweathermap.org/data/3.0/onecall?units=metric&lat=49.4404591&lon=1.0939658&exclude=minutely,hourly,current&appid=1fc5b0910a87bc86e7d3b1c5e31520fa'}, {'name': 'Strasbourg', 'addresstype': 'city', 'url': 'https://api.openweathermap.org/data/3.0/onecall?units=metric&lat=48.584614&lon=7.7507127&exclude=minutely,hourly,current&appid=1fc5b0910a87bc86e7d3b1c5e31520fa'}, {'name': 'Toulouse', 'addresstype': 'city', 'url': 'https://api.openweathermap.org/data/3.0/onecall?units=metric&lat=43.6044622&lon=1.4442469&exclude=minutely,hourly,current&appid=1fc5b0910a87bc86e7d3b1c5e31520fa'}]\n"
     ]
    },
    {
     "name": "stderr",
     "output_type": "stream",
     "text": [
      "INFO:__main__:The process took 5.931319713592529 seconds\n"
     ]
    },
    {
     "name": "stdout",
     "output_type": "stream",
     "text": [
      "The process took 5.931319713592529 seconds\n"
     ]
    }
   ],
   "source": [
    "\n",
    "# Créer un DataFrame à partir des résultats\n",
    "\n",
    "import pandas as pd\n",
    "from datetime import datetime\n",
    "\n",
    "import time\n",
    "# import logging\n",
    "# import requests\n",
    "# import json\n",
    "# from urllib.parse import quote\n",
    "\n",
    "# meteo_json = json.dumps(meteo_dict, indent = 4)\n",
    "\n",
    "# meteo_dict['list']\n",
    "# meteo_dict = r.json()\n",
    "# meteo_dict\n",
    "\n",
    "api_key = AWM_API_KEY\n",
    "\n",
    "headers = {\n",
    "  'Accept-Encoding': 'application/json',\n",
    "  'User-Agent': 'Chrome/126.0.0.0 ',\n",
    "}\n",
    "\n",
    "\n",
    "def get_urls():\n",
    "    url_list = []\n",
    "    for i in range(len(df)):\n",
    "        longitude = df.loc[i, \"lon\"]\n",
    "        latitude = df.loc[i, \"lat\"]\n",
    "\n",
    "        dict_urls = {\n",
    "            'name': df.loc[i, \"name\"],\n",
    "            'addresstype': df.loc[i, \"addresstype\"],\n",
    "            'url': f\"https://api.openweathermap.org/data/3.0/onecall?units=metric&lat={latitude}&lon={longitude}&exclude=minutely,hourly,current&appid={api_key}\"\n",
    "        }\n",
    "        url_list.append(dict_urls)\n",
    "    return url_list\n",
    "\n",
    "# Fonction pour effectuer une requête API synchrone\n",
    "def api_call(url):    \n",
    "    response = requests.get(url, headers=headers)\n",
    "    return response.json()\n",
    "\n",
    "\n",
    "def search_weather_infos(url_list = []):\n",
    "    print(url_list)\n",
    "    results = []\n",
    "    logger.info(\"Starting query...\")\n",
    "    for url_dict in url_list:\n",
    "        meteo_dict = api_call(url_dict['url'])\n",
    "        dict_result = meteo_dict['daily']\n",
    "        df_result = pd.DataFrame([{\n",
    "            'addresstype': url_dict['addresstype'],\n",
    "            'city': url_dict['name'],\n",
    "            'dt': datetime.fromtimestamp(hourly_result['dt']),\n",
    "            'summary': hourly_result['summary'],\n",
    "            'temp_min': hourly_result['temp']['min'],\n",
    "            'temp_max': hourly_result['temp']['max'],\n",
    "            'temp_day': hourly_result['temp']['day'],\n",
    "            'feels_like_day': hourly_result['feels_like']['day'],\n",
    "            'feels_like_night': hourly_result['feels_like']['night'],\n",
    "            'feels_like_eve': hourly_result['feels_like']['eve'],\n",
    "            'feels_like_morn': hourly_result['feels_like']['morn'],\n",
    "            'humidity': hourly_result['humidity'],\n",
    "            'clouds': hourly_result['clouds'],\n",
    "            'pop': hourly_result['pop'],\n",
    "            'rain': hourly_result.get('rain', None),\n",
    "            'uvi': hourly_result['uvi'],\n",
    "            'wind_speed': hourly_result['wind_speed'],\n",
    "        } for hourly_result in dict_result])\n",
    "        results.append(df_result)\n",
    "        \n",
    "    return results\n",
    "\n",
    "# Exécuter la fonction de recherche synchrone\n",
    "if __name__ == \"__main__\":\n",
    "    start = time.time()\n",
    "    url_list = get_urls()\n",
    "    list_df_result = search_weather_infos(url_list)\n",
    "    df_weather_result = pd.concat(list_df_result, ignore_index=True)\n",
    "    end = time.time()\n",
    "    elapsed = str(end - start)\n",
    "    logger.info(\"The process took {} seconds\".format(elapsed))\n",
    "\n",
    "    print(\"The process took {} seconds\".format(elapsed)) # 3 seconds\n",
    "    # Sauvegarder le DataFrame en CSV pour vérifier le contenu\n",
    "    df_weather_result.to_csv('weather_infos.csv', index=False)\n"
   ]
  },
  {
   "cell_type": "code",
   "execution_count": 44,
   "metadata": {},
   "outputs": [
    {
     "data": {
      "text/html": [
       "<div>\n",
       "<style scoped>\n",
       "    .dataframe tbody tr th:only-of-type {\n",
       "        vertical-align: middle;\n",
       "    }\n",
       "\n",
       "    .dataframe tbody tr th {\n",
       "        vertical-align: top;\n",
       "    }\n",
       "\n",
       "    .dataframe thead th {\n",
       "        text-align: right;\n",
       "    }\n",
       "</style>\n",
       "<table border=\"1\" class=\"dataframe\">\n",
       "  <thead>\n",
       "    <tr style=\"text-align: right;\">\n",
       "      <th></th>\n",
       "      <th>addresstype</th>\n",
       "      <th>city</th>\n",
       "      <th>dt</th>\n",
       "      <th>summary</th>\n",
       "      <th>temp_min</th>\n",
       "      <th>temp_max</th>\n",
       "      <th>temp_day</th>\n",
       "      <th>feels_like_day</th>\n",
       "      <th>feels_like_night</th>\n",
       "      <th>feels_like_eve</th>\n",
       "      <th>feels_like_morn</th>\n",
       "      <th>humidity</th>\n",
       "      <th>clouds</th>\n",
       "      <th>pop</th>\n",
       "      <th>rain</th>\n",
       "      <th>uvi</th>\n",
       "      <th>wind_speed</th>\n",
       "    </tr>\n",
       "  </thead>\n",
       "  <tbody>\n",
       "    <tr>\n",
       "      <th>0</th>\n",
       "      <td>city</td>\n",
       "      <td>Amiens</td>\n",
       "      <td>2024-06-21 13:00:00</td>\n",
       "      <td>Expect a day of partly cloudy with rain</td>\n",
       "      <td>12.63</td>\n",
       "      <td>20.81</td>\n",
       "      <td>18.08</td>\n",
       "      <td>17.95</td>\n",
       "      <td>12.38</td>\n",
       "      <td>19.31</td>\n",
       "      <td>14.28</td>\n",
       "      <td>77</td>\n",
       "      <td>86</td>\n",
       "      <td>0.83</td>\n",
       "      <td>4.42</td>\n",
       "      <td>6.45</td>\n",
       "      <td>4.94</td>\n",
       "    </tr>\n",
       "    <tr>\n",
       "      <th>1</th>\n",
       "      <td>city</td>\n",
       "      <td>Amiens</td>\n",
       "      <td>2024-06-22 13:00:00</td>\n",
       "      <td>Expect a day of partly cloudy with rain</td>\n",
       "      <td>11.70</td>\n",
       "      <td>18.07</td>\n",
       "      <td>17.05</td>\n",
       "      <td>16.95</td>\n",
       "      <td>11.41</td>\n",
       "      <td>16.69</td>\n",
       "      <td>13.09</td>\n",
       "      <td>82</td>\n",
       "      <td>99</td>\n",
       "      <td>1.00</td>\n",
       "      <td>4.85</td>\n",
       "      <td>6.54</td>\n",
       "      <td>6.75</td>\n",
       "    </tr>\n",
       "    <tr>\n",
       "      <th>2</th>\n",
       "      <td>city</td>\n",
       "      <td>Amiens</td>\n",
       "      <td>2024-06-23 13:00:00</td>\n",
       "      <td>Expect a day of partly cloudy with rain</td>\n",
       "      <td>10.66</td>\n",
       "      <td>21.93</td>\n",
       "      <td>20.95</td>\n",
       "      <td>20.82</td>\n",
       "      <td>14.38</td>\n",
       "      <td>20.77</td>\n",
       "      <td>11.82</td>\n",
       "      <td>66</td>\n",
       "      <td>19</td>\n",
       "      <td>0.20</td>\n",
       "      <td>0.10</td>\n",
       "      <td>8.31</td>\n",
       "      <td>3.90</td>\n",
       "    </tr>\n",
       "    <tr>\n",
       "      <th>3</th>\n",
       "      <td>city</td>\n",
       "      <td>Amiens</td>\n",
       "      <td>2024-06-24 13:00:00</td>\n",
       "      <td>Expect a day of partly cloudy with clear spells</td>\n",
       "      <td>11.84</td>\n",
       "      <td>23.81</td>\n",
       "      <td>22.70</td>\n",
       "      <td>22.72</td>\n",
       "      <td>17.52</td>\n",
       "      <td>21.95</td>\n",
       "      <td>12.88</td>\n",
       "      <td>65</td>\n",
       "      <td>5</td>\n",
       "      <td>0.00</td>\n",
       "      <td>NaN</td>\n",
       "      <td>8.25</td>\n",
       "      <td>3.57</td>\n",
       "    </tr>\n",
       "    <tr>\n",
       "      <th>4</th>\n",
       "      <td>city</td>\n",
       "      <td>Amiens</td>\n",
       "      <td>2024-06-25 13:00:00</td>\n",
       "      <td>Expect a day of partly cloudy with rain</td>\n",
       "      <td>14.60</td>\n",
       "      <td>25.56</td>\n",
       "      <td>24.81</td>\n",
       "      <td>24.99</td>\n",
       "      <td>18.56</td>\n",
       "      <td>22.68</td>\n",
       "      <td>17.01</td>\n",
       "      <td>63</td>\n",
       "      <td>0</td>\n",
       "      <td>0.20</td>\n",
       "      <td>0.11</td>\n",
       "      <td>7.08</td>\n",
       "      <td>3.10</td>\n",
       "    </tr>\n",
       "  </tbody>\n",
       "</table>\n",
       "</div>"
      ],
      "text/plain": [
       "  addresstype    city                  dt  \\\n",
       "0        city  Amiens 2024-06-21 13:00:00   \n",
       "1        city  Amiens 2024-06-22 13:00:00   \n",
       "2        city  Amiens 2024-06-23 13:00:00   \n",
       "3        city  Amiens 2024-06-24 13:00:00   \n",
       "4        city  Amiens 2024-06-25 13:00:00   \n",
       "\n",
       "                                           summary  temp_min  temp_max  \\\n",
       "0          Expect a day of partly cloudy with rain     12.63     20.81   \n",
       "1          Expect a day of partly cloudy with rain     11.70     18.07   \n",
       "2          Expect a day of partly cloudy with rain     10.66     21.93   \n",
       "3  Expect a day of partly cloudy with clear spells     11.84     23.81   \n",
       "4          Expect a day of partly cloudy with rain     14.60     25.56   \n",
       "\n",
       "   temp_day  feels_like_day  feels_like_night  feels_like_eve  \\\n",
       "0     18.08           17.95             12.38           19.31   \n",
       "1     17.05           16.95             11.41           16.69   \n",
       "2     20.95           20.82             14.38           20.77   \n",
       "3     22.70           22.72             17.52           21.95   \n",
       "4     24.81           24.99             18.56           22.68   \n",
       "\n",
       "   feels_like_morn  humidity  clouds   pop  rain   uvi  wind_speed  \n",
       "0            14.28        77      86  0.83  4.42  6.45        4.94  \n",
       "1            13.09        82      99  1.00  4.85  6.54        6.75  \n",
       "2            11.82        66      19  0.20  0.10  8.31        3.90  \n",
       "3            12.88        65       5  0.00   NaN  8.25        3.57  \n",
       "4            17.01        63       0  0.20  0.11  7.08        3.10  "
      ]
     },
     "execution_count": 44,
     "metadata": {},
     "output_type": "execute_result"
    }
   ],
   "source": [
    "df_weather_result.head()"
   ]
  },
  {
   "cell_type": "code",
   "execution_count": 45,
   "metadata": {},
   "outputs": [
    {
     "data": {
      "text/html": [
       "<div>\n",
       "<style scoped>\n",
       "    .dataframe tbody tr th:only-of-type {\n",
       "        vertical-align: middle;\n",
       "    }\n",
       "\n",
       "    .dataframe tbody tr th {\n",
       "        vertical-align: top;\n",
       "    }\n",
       "\n",
       "    .dataframe thead th {\n",
       "        text-align: right;\n",
       "    }\n",
       "</style>\n",
       "<table border=\"1\" class=\"dataframe\">\n",
       "  <thead>\n",
       "    <tr style=\"text-align: right;\">\n",
       "      <th></th>\n",
       "      <th>city</th>\n",
       "      <th>feels_like_day</th>\n",
       "      <th>humidity</th>\n",
       "      <th>clouds</th>\n",
       "      <th>pop</th>\n",
       "      <th>wind_speed</th>\n",
       "      <th>forecast_score</th>\n",
       "    </tr>\n",
       "  </thead>\n",
       "  <tbody>\n",
       "    <tr>\n",
       "      <th>0</th>\n",
       "      <td>Amiens</td>\n",
       "      <td>17.95</td>\n",
       "      <td>77</td>\n",
       "      <td>86</td>\n",
       "      <td>0.83</td>\n",
       "      <td>4.94</td>\n",
       "      <td>0.326</td>\n",
       "    </tr>\n",
       "    <tr>\n",
       "      <th>1</th>\n",
       "      <td>Amiens</td>\n",
       "      <td>16.95</td>\n",
       "      <td>82</td>\n",
       "      <td>99</td>\n",
       "      <td>1.00</td>\n",
       "      <td>6.75</td>\n",
       "      <td>-2.825</td>\n",
       "    </tr>\n",
       "    <tr>\n",
       "      <th>2</th>\n",
       "      <td>Amiens</td>\n",
       "      <td>20.82</td>\n",
       "      <td>66</td>\n",
       "      <td>19</td>\n",
       "      <td>0.20</td>\n",
       "      <td>3.90</td>\n",
       "      <td>11.730</td>\n",
       "    </tr>\n",
       "    <tr>\n",
       "      <th>3</th>\n",
       "      <td>Amiens</td>\n",
       "      <td>22.72</td>\n",
       "      <td>65</td>\n",
       "      <td>5</td>\n",
       "      <td>0.00</td>\n",
       "      <td>3.57</td>\n",
       "      <td>15.363</td>\n",
       "    </tr>\n",
       "    <tr>\n",
       "      <th>4</th>\n",
       "      <td>Amiens</td>\n",
       "      <td>24.99</td>\n",
       "      <td>63</td>\n",
       "      <td>0</td>\n",
       "      <td>0.20</td>\n",
       "      <td>3.10</td>\n",
       "      <td>18.180</td>\n",
       "    </tr>\n",
       "    <tr>\n",
       "      <th>5</th>\n",
       "      <td>Amiens</td>\n",
       "      <td>24.95</td>\n",
       "      <td>71</td>\n",
       "      <td>19</td>\n",
       "      <td>1.00</td>\n",
       "      <td>6.45</td>\n",
       "      <td>14.305</td>\n",
       "    </tr>\n",
       "    <tr>\n",
       "      <th>6</th>\n",
       "      <td>Amiens</td>\n",
       "      <td>18.56</td>\n",
       "      <td>61</td>\n",
       "      <td>76</td>\n",
       "      <td>1.00</td>\n",
       "      <td>6.55</td>\n",
       "      <td>3.205</td>\n",
       "    </tr>\n",
       "    <tr>\n",
       "      <th>7</th>\n",
       "      <td>Amiens</td>\n",
       "      <td>18.70</td>\n",
       "      <td>65</td>\n",
       "      <td>89</td>\n",
       "      <td>0.76</td>\n",
       "      <td>3.58</td>\n",
       "      <td>2.182</td>\n",
       "    </tr>\n",
       "    <tr>\n",
       "      <th>8</th>\n",
       "      <td>Annecy</td>\n",
       "      <td>20.42</td>\n",
       "      <td>80</td>\n",
       "      <td>39</td>\n",
       "      <td>1.00</td>\n",
       "      <td>3.07</td>\n",
       "      <td>7.213</td>\n",
       "    </tr>\n",
       "    <tr>\n",
       "      <th>9</th>\n",
       "      <td>Annecy</td>\n",
       "      <td>15.43</td>\n",
       "      <td>97</td>\n",
       "      <td>100</td>\n",
       "      <td>1.00</td>\n",
       "      <td>2.13</td>\n",
       "      <td>-5.483</td>\n",
       "    </tr>\n",
       "    <tr>\n",
       "      <th>10</th>\n",
       "      <td>Annecy</td>\n",
       "      <td>15.18</td>\n",
       "      <td>84</td>\n",
       "      <td>99</td>\n",
       "      <td>1.00</td>\n",
       "      <td>4.44</td>\n",
       "      <td>-4.564</td>\n",
       "    </tr>\n",
       "    <tr>\n",
       "      <th>11</th>\n",
       "      <td>Annecy</td>\n",
       "      <td>20.82</td>\n",
       "      <td>66</td>\n",
       "      <td>85</td>\n",
       "      <td>0.00</td>\n",
       "      <td>2.14</td>\n",
       "      <td>5.506</td>\n",
       "    </tr>\n",
       "  </tbody>\n",
       "</table>\n",
       "</div>"
      ],
      "text/plain": [
       "      city  feels_like_day  humidity  clouds   pop  wind_speed  forecast_score\n",
       "0   Amiens           17.95        77      86  0.83        4.94           0.326\n",
       "1   Amiens           16.95        82      99  1.00        6.75          -2.825\n",
       "2   Amiens           20.82        66      19  0.20        3.90          11.730\n",
       "3   Amiens           22.72        65       5  0.00        3.57          15.363\n",
       "4   Amiens           24.99        63       0  0.20        3.10          18.180\n",
       "5   Amiens           24.95        71      19  1.00        6.45          14.305\n",
       "6   Amiens           18.56        61      76  1.00        6.55           3.205\n",
       "7   Amiens           18.70        65      89  0.76        3.58           2.182\n",
       "8   Annecy           20.42        80      39  1.00        3.07           7.213\n",
       "9   Annecy           15.43        97     100  1.00        2.13          -5.483\n",
       "10  Annecy           15.18        84      99  1.00        4.44          -4.564\n",
       "11  Annecy           20.82        66      85  0.00        2.14           5.506"
      ]
     },
     "execution_count": 45,
     "metadata": {},
     "output_type": "execute_result"
    }
   ],
   "source": [
    "df_weather_score = df_weather_result[['city', 'feels_like_day', 'humidity', 'clouds', 'pop', 'wind_speed']]\n",
    "\n",
    "# Définir les poids\n",
    "weights = {\n",
    "    'feels_like_day': 1.0, # Positive weight\n",
    "    'humidity': -0.1, # Negative weight\n",
    "    'clouds': -0.1, # Negative weight\n",
    "    'pop': -1.0, # Negative weight\n",
    "    'wind_speed': -0.1 # Negative weight\n",
    "}\n",
    "\n",
    "# Calculer les scores pondérés\n",
    "df_result = df_weather_score.copy()\n",
    "df_result['forecast_score'] = (df_result['feels_like_day'] * weights['feels_like_day'] +\n",
    "                        df_result['humidity'] * weights['humidity'] +\n",
    "                        df_result['clouds'] * weights['clouds'] +\n",
    "                        df_result['pop'] * weights['pop'] +\n",
    "                        df_result['wind_speed'] * weights['wind_speed'])\n",
    "\n",
    "# Calculer la moyenne des scores pondérés par ville\n",
    "df_result.head(12)\n"
   ]
  },
  {
   "cell_type": "markdown",
   "metadata": {},
   "source": [
    "## Scrapping sur booking\n",
    "\n",
    "- nom du logement\n",
    "- coordonnées\n",
    "- notes des utilisateurs\n",
    "- description logement\n",
    "\n",
    "\n",
    "> Voir fichir python `scrapping_booking.py`\n",
    "\n",
    "Pour infosd les hotels sont déjà rangés dans l'ordre préféré de booking lors d'une recherche par ville."
   ]
  },
  {
   "cell_type": "code",
   "execution_count": 31,
   "metadata": {},
   "outputs": [],
   "source": [
    "# \"AUTOTHROTTLE_ENABLED\": True,\n",
    "# \"HTTPCACHE_ENABLED\": True,\n",
    "# HTTPCACHE_DIR\n",
    "# HTTPCACHE_ENABLED\n",
    "# HTTPCACHE_EXPIRATION_SECS\n",
    "# \"RETRY_TIMES\": 3\n",
    "\n",
    "\n",
    "# Attribut pour la localisation gps = data-atlas-latlng"
   ]
  },
  {
   "cell_type": "markdown",
   "metadata": {},
   "source": [
    "## Data Lake AWS "
   ]
  },
  {
   "cell_type": "code",
   "execution_count": 32,
   "metadata": {},
   "outputs": [],
   "source": [
    "# connexion à AWS S3 via Boto3\n",
    "\n",
    "import boto3\n",
    "from dotenv import load_dotenv\n",
    "from os import environ\n",
    "\n",
    "load_dotenv()\n",
    "\n",
    "session = boto3.Session(aws_access_key_id=environ['AWS_ACCESS_KEY_ID'], \n",
    "                        aws_secret_access_key=environ['AWS_SECRET_ACCESS_KEY'])\n",
    "\n",
    "try:\n",
    "    s3 = session.resource(\"s3\")\n",
    "    bucket = s3.Bucket(\"littlerobinson-bucket\") \n",
    "except Exception as e:\n",
    "    print(e)"
   ]
  },
  {
   "cell_type": "code",
   "execution_count": 33,
   "metadata": {},
   "outputs": [
    {
     "name": "stdout",
     "output_type": "stream",
     "text": [
      "[Errno 2] No such file or directory: 'city_geo_infos.csv'\n"
     ]
    }
   ],
   "source": [
    "# upload file\n",
    "try:\n",
    "    bucket.upload_file(\"weather_infos.csv\", \"jedha/plan_your_trip/weather_infos.csv\")\n",
    "    bucket.upload_file(\"city_geo_infos.csv\", \"jedha/plan_your_trip/city_geo_infos.csv\")\n",
    "except Exception as e:\n",
    "    print(e)"
   ]
  },
  {
   "cell_type": "markdown",
   "metadata": {},
   "source": [
    "## Data Warehouse\n",
    "\n",
    "![database_schema](./kayak_db.png)"
   ]
  },
  {
   "cell_type": "code",
   "execution_count": 3,
   "metadata": {},
   "outputs": [],
   "source": [
    "from sqlalchemy import create_engine\n",
    "import os\n",
    "\n",
    "# Singleton to connect to database \n",
    "class DatabaseConnection:\n",
    "    _instance = None\n",
    "\n",
    "    def __new__(cls):\n",
    "        if cls._instance is None:\n",
    "            cls._instance = super().__new__(cls)\n",
    "            cls._instance.connect_to_database()\n",
    "        return cls._instance\n",
    "\n",
    "    def connect_to_database(self):\n",
    "        try:\n",
    "            self.db_username = os.environ['DB_USERNAME']\n",
    "            self.db_password = os.environ['DB_PASSWORD']\n",
    "            self.db_hostname = os.environ['DB_HOSTNAME']\n",
    "            self.db_name = os.environ['DB_NAME']\n",
    "            self.db_port = os.environ['DB_PORT']\n",
    "\n",
    "            self.engine = create_engine(f\"postgresql+psycopg2://{self.db_username}:{self.db_password}@{self.db_hostname}:{self.db_port}/{self.db_name}\", echo=True)\n",
    "        except KeyError as e:\n",
    "            raise RuntimeError(f\"Missing environment variable: {e}\")\n",
    "        except Exception as e:\n",
    "            raise RuntimeError(f\"Failed to create database engine: {e}\")\n",
    "\n",
    "    def get_engine(self):\n",
    "        return self.engine\n",
    "\n",
    "# Exemple d'utilisation du singleton\n",
    "if __name__ == \"__main__\":\n",
    "    # Création de l'instance du singleton\n",
    "    db_instance1 = DatabaseConnection()\n",
    "    db_instance2 = DatabaseConnection()\n",
    "\n",
    "\n",
    "    # Utilisation de l'engine pour effectuer des opérations sur la base de données\n",
    "    engine = db_instance1.get_engine()"
   ]
  },
  {
   "cell_type": "code",
   "execution_count": 11,
   "metadata": {},
   "outputs": [
    {
     "name": "stdout",
     "output_type": "stream",
     "text": [
      "2024-06-21 10:43:34,351 INFO sqlalchemy.engine.Engine BEGIN (implicit)\n",
      "2024-06-21 10:43:34,352 INFO sqlalchemy.engine.Engine select  f.city_id, f.city, f.lat, f.lon,                         avg(f.feels_like_day) as feels_temperature_day,                         avg(f.forecast_score) as score_mean,                         avg(f.humidity) as humidity_mean,                         avg(f.wind_speed) as humidity_mean,                         avg(f.pop) as prob_rain_mean                         from forecasts f                         group by f.city_id, f.city, f.lat, f.lon                         order by score_mean desc, f.city asc                         limit 5\n",
      "2024-06-21 10:43:34,352 INFO sqlalchemy.engine.Engine [generated in 0.00098s] {}\n"
     ]
    },
    {
     "data": {
      "text/html": [
       "<div>\n",
       "<style scoped>\n",
       "    .dataframe tbody tr th:only-of-type {\n",
       "        vertical-align: middle;\n",
       "    }\n",
       "\n",
       "    .dataframe tbody tr th {\n",
       "        vertical-align: top;\n",
       "    }\n",
       "\n",
       "    .dataframe thead th {\n",
       "        text-align: right;\n",
       "    }\n",
       "</style>\n",
       "<table border=\"1\" class=\"dataframe\">\n",
       "  <thead>\n",
       "    <tr style=\"text-align: right;\">\n",
       "      <th></th>\n",
       "      <th>city_id</th>\n",
       "      <th>city</th>\n",
       "      <th>lat</th>\n",
       "      <th>lon</th>\n",
       "      <th>feels_temperature_day</th>\n",
       "      <th>score_mean</th>\n",
       "      <th>humidity_mean</th>\n",
       "      <th>humidity_mean</th>\n",
       "      <th>prob_rain_mean</th>\n",
       "    </tr>\n",
       "  </thead>\n",
       "  <tbody>\n",
       "    <tr>\n",
       "      <th>0</th>\n",
       "      <td>0</td>\n",
       "      <td>Aix-en-Provence</td>\n",
       "      <td>43.5298</td>\n",
       "      <td>5.4475</td>\n",
       "      <td>23.68750</td>\n",
       "      <td>13.540500</td>\n",
       "      <td>45.0000000000000000</td>\n",
       "      <td>7.19500</td>\n",
       "      <td>0.26500</td>\n",
       "    </tr>\n",
       "    <tr>\n",
       "      <th>1</th>\n",
       "      <td>28</td>\n",
       "      <td>Nîmes</td>\n",
       "      <td>43.8374</td>\n",
       "      <td>4.3601</td>\n",
       "      <td>24.18250</td>\n",
       "      <td>13.199500</td>\n",
       "      <td>46.0000000000000000</td>\n",
       "      <td>6.54250</td>\n",
       "      <td>0.46625</td>\n",
       "    </tr>\n",
       "    <tr>\n",
       "      <th>2</th>\n",
       "      <td>4</td>\n",
       "      <td>Avignon</td>\n",
       "      <td>43.9492</td>\n",
       "      <td>4.8059</td>\n",
       "      <td>24.01625</td>\n",
       "      <td>11.490375</td>\n",
       "      <td>50.6250000000000000</td>\n",
       "      <td>7.72125</td>\n",
       "      <td>0.54125</td>\n",
       "    </tr>\n",
       "    <tr>\n",
       "      <th>3</th>\n",
       "      <td>35</td>\n",
       "      <td>Uzès</td>\n",
       "      <td>44.0121</td>\n",
       "      <td>4.4197</td>\n",
       "      <td>23.75375</td>\n",
       "      <td>11.444375</td>\n",
       "      <td>48.5000000000000000</td>\n",
       "      <td>6.46875</td>\n",
       "      <td>0.57500</td>\n",
       "    </tr>\n",
       "    <tr>\n",
       "      <th>4</th>\n",
       "      <td>14</td>\n",
       "      <td>Collioure</td>\n",
       "      <td>42.5251</td>\n",
       "      <td>3.0832</td>\n",
       "      <td>23.10125</td>\n",
       "      <td>11.231500</td>\n",
       "      <td>56.7500000000000000</td>\n",
       "      <td>6.28500</td>\n",
       "      <td>0.57875</td>\n",
       "    </tr>\n",
       "  </tbody>\n",
       "</table>\n",
       "</div>"
      ],
      "text/plain": [
       "   city_id             city      lat     lon  feels_temperature_day  \\\n",
       "0        0  Aix-en-Provence  43.5298  5.4475               23.68750   \n",
       "1       28            Nîmes  43.8374  4.3601               24.18250   \n",
       "2        4          Avignon  43.9492  4.8059               24.01625   \n",
       "3       35             Uzès  44.0121  4.4197               23.75375   \n",
       "4       14        Collioure  42.5251  3.0832               23.10125   \n",
       "\n",
       "   score_mean        humidity_mean  humidity_mean  prob_rain_mean  \n",
       "0   13.540500  45.0000000000000000        7.19500         0.26500  \n",
       "1   13.199500  46.0000000000000000        6.54250         0.46625  \n",
       "2   11.490375  50.6250000000000000        7.72125         0.54125  \n",
       "3   11.444375  48.5000000000000000        6.46875         0.57500  \n",
       "4   11.231500  56.7500000000000000        6.28500         0.57875  "
      ]
     },
     "execution_count": 11,
     "metadata": {},
     "output_type": "execute_result"
    }
   ],
   "source": [
    "# requete pour avoir les 5 villes avec les meilleurs prévisions météo\n",
    "\n",
    "from sqlalchemy import text\n",
    "\n",
    "conn = engine.connect()\n",
    "\n",
    "query = text(\"select  f.city_id, f.city, f.lat, f.lon, \\\n",
    "                        avg(f.feels_like_day) as feels_temperature_day, \\\n",
    "                        avg(f.forecast_score) as score_mean, \\\n",
    "                        avg(f.humidity) as humidity_mean, \\\n",
    "                        avg(f.wind_speed) as humidity_mean, \\\n",
    "                        avg(f.pop) as prob_rain_mean \\\n",
    "                        from forecasts f \\\n",
    "                        group by f.city_id, f.city, f.lat, f.lon \\\n",
    "                        order by score_mean desc, f.city asc \\\n",
    "                        limit 5\")\n",
    "\n",
    "result = conn.execute(query)\n",
    "df_forecast_result = pd.DataFrame(result.all(), columns=result.keys())\n",
    "df_forecast_result"
   ]
  },
  {
   "cell_type": "code",
   "execution_count": 21,
   "metadata": {},
   "outputs": [
    {
     "name": "stdout",
     "output_type": "stream",
     "text": [
      "2024-06-21 10:26:39,290 INFO sqlalchemy.engine.Engine BEGIN (implicit)\n",
      "2024-06-21 10:26:39,290 INFO sqlalchemy.engine.Engine select * from accomodations a where a.city_id in (0, 28, 4, 35, 14) and a.score is not null order by a.city_id asc, a.score desc\n",
      "2024-06-21 10:26:39,291 INFO sqlalchemy.engine.Engine [cached since 400.3s ago] {}\n"
     ]
    },
    {
     "data": {
      "text/html": [
       "<div>\n",
       "<style scoped>\n",
       "    .dataframe tbody tr th:only-of-type {\n",
       "        vertical-align: middle;\n",
       "    }\n",
       "\n",
       "    .dataframe tbody tr th {\n",
       "        vertical-align: top;\n",
       "    }\n",
       "\n",
       "    .dataframe thead th {\n",
       "        text-align: right;\n",
       "    }\n",
       "</style>\n",
       "<table border=\"1\" class=\"dataframe\">\n",
       "  <thead>\n",
       "    <tr style=\"text-align: right;\">\n",
       "      <th></th>\n",
       "      <th>id</th>\n",
       "      <th>city_id</th>\n",
       "      <th>name</th>\n",
       "      <th>score</th>\n",
       "      <th>description</th>\n",
       "      <th>gps_coordinates</th>\n",
       "      <th>lat</th>\n",
       "      <th>lon</th>\n",
       "    </tr>\n",
       "  </thead>\n",
       "  <tbody>\n",
       "    <tr>\n",
       "      <th>0</th>\n",
       "      <td>417</td>\n",
       "      <td>0</td>\n",
       "      <td>Lousoan</td>\n",
       "      <td>9,7</td>\n",
       "      <td>Hébergement géré par un particulier</td>\n",
       "      <td>43.54026065,5.43485774</td>\n",
       "      <td>43.540261</td>\n",
       "      <td>5.434858</td>\n",
       "    </tr>\n",
       "    <tr>\n",
       "      <th>1</th>\n",
       "      <td>409</td>\n",
       "      <td>0</td>\n",
       "      <td>Le Mini - Un voyage en Provence</td>\n",
       "      <td>9,6</td>\n",
       "      <td>Hébergement géré par un particulier</td>\n",
       "      <td>43.52846562,5.45249974</td>\n",
       "      <td>43.528466</td>\n",
       "      <td>5.452500</td>\n",
       "    </tr>\n",
       "    <tr>\n",
       "      <th>2</th>\n",
       "      <td>402</td>\n",
       "      <td>0</td>\n",
       "      <td>Superbe appartement T3 Aix</td>\n",
       "      <td>9,5</td>\n",
       "      <td>Hébergement géré par un particulier</td>\n",
       "      <td>43.51260970,5.43682760</td>\n",
       "      <td>43.512610</td>\n",
       "      <td>5.436828</td>\n",
       "    </tr>\n",
       "    <tr>\n",
       "      <th>3</th>\n",
       "      <td>421</td>\n",
       "      <td>0</td>\n",
       "      <td>B&amp;B Villa Roumanille</td>\n",
       "      <td>9,3</td>\n",
       "      <td>Située à seulement 1 km du centre d'Aix-en-Pro...</td>\n",
       "      <td>43.51783611,5.44283509</td>\n",
       "      <td>43.517836</td>\n",
       "      <td>5.442835</td>\n",
       "    </tr>\n",
       "    <tr>\n",
       "      <th>4</th>\n",
       "      <td>415</td>\n",
       "      <td>0</td>\n",
       "      <td>Appartement de Charme</td>\n",
       "      <td>9,2</td>\n",
       "      <td>Hébergement géré par un particulier</td>\n",
       "      <td>43.52914577,5.45303341</td>\n",
       "      <td>43.529146</td>\n",
       "      <td>5.453033</td>\n",
       "    </tr>\n",
       "    <tr>\n",
       "      <th>...</th>\n",
       "      <td>...</td>\n",
       "      <td>...</td>\n",
       "      <td>...</td>\n",
       "      <td>...</td>\n",
       "      <td>...</td>\n",
       "      <td>...</td>\n",
       "      <td>...</td>\n",
       "      <td>...</td>\n",
       "    </tr>\n",
       "    <tr>\n",
       "      <th>110</th>\n",
       "      <td>64</td>\n",
       "      <td>35</td>\n",
       "      <td>Le Pietra</td>\n",
       "      <td>8,2</td>\n",
       "      <td>Doté d'une piscine extérieure ouverte en saiso...</td>\n",
       "      <td>44.00778294,4.40718146</td>\n",
       "      <td>44.007783</td>\n",
       "      <td>4.407181</td>\n",
       "    </tr>\n",
       "    <tr>\n",
       "      <th>111</th>\n",
       "      <td>55</td>\n",
       "      <td>35</td>\n",
       "      <td>Appartement des amoureux</td>\n",
       "      <td>8,0</td>\n",
       "      <td>Hébergement géré par un particulier</td>\n",
       "      <td>44.00771258,4.40714631</td>\n",
       "      <td>44.007713</td>\n",
       "      <td>4.407146</td>\n",
       "    </tr>\n",
       "    <tr>\n",
       "      <th>112</th>\n",
       "      <td>49</td>\n",
       "      <td>35</td>\n",
       "      <td>Moulin du Pont d'Alzon</td>\n",
       "      <td>7,8</td>\n",
       "      <td>Hébergement géré par un particulier</td>\n",
       "      <td>44.02016130,4.43052644</td>\n",
       "      <td>44.020161</td>\n",
       "      <td>4.430526</td>\n",
       "    </tr>\n",
       "    <tr>\n",
       "      <th>113</th>\n",
       "      <td>53</td>\n",
       "      <td>35</td>\n",
       "      <td>Kira</td>\n",
       "      <td>7,7</td>\n",
       "      <td>Hébergement géré par un particulier</td>\n",
       "      <td>44.01168919,4.42128514</td>\n",
       "      <td>44.011689</td>\n",
       "      <td>4.421285</td>\n",
       "    </tr>\n",
       "    <tr>\n",
       "      <th>114</th>\n",
       "      <td>46</td>\n",
       "      <td>35</td>\n",
       "      <td>Logis Hotel Restaurant Uzès Pont du Gard</td>\n",
       "      <td>7,7</td>\n",
       "      <td>Le Logis Hotel Restaurant Uzès Pont du Gard pr...</td>\n",
       "      <td>44.00284485,4.41645205</td>\n",
       "      <td>44.002845</td>\n",
       "      <td>4.416452</td>\n",
       "    </tr>\n",
       "  </tbody>\n",
       "</table>\n",
       "<p>115 rows × 8 columns</p>\n",
       "</div>"
      ],
      "text/plain": [
       "      id  city_id                                      name score  \\\n",
       "0    417        0                                   Lousoan   9,7   \n",
       "1    409        0           Le Mini - Un voyage en Provence   9,6   \n",
       "2    402        0                Superbe appartement T3 Aix   9,5   \n",
       "3    421        0                      B&B Villa Roumanille   9,3   \n",
       "4    415        0                     Appartement de Charme   9,2   \n",
       "..   ...      ...                                       ...   ...   \n",
       "110   64       35                                 Le Pietra   8,2   \n",
       "111   55       35                  Appartement des amoureux   8,0   \n",
       "112   49       35                    Moulin du Pont d'Alzon   7,8   \n",
       "113   53       35                                      Kira   7,7   \n",
       "114   46       35  Logis Hotel Restaurant Uzès Pont du Gard   7,7   \n",
       "\n",
       "                                           description  \\\n",
       "0                  Hébergement géré par un particulier   \n",
       "1                  Hébergement géré par un particulier   \n",
       "2                  Hébergement géré par un particulier   \n",
       "3    Située à seulement 1 km du centre d'Aix-en-Pro...   \n",
       "4                  Hébergement géré par un particulier   \n",
       "..                                                 ...   \n",
       "110  Doté d'une piscine extérieure ouverte en saiso...   \n",
       "111                Hébergement géré par un particulier   \n",
       "112                Hébergement géré par un particulier   \n",
       "113                Hébergement géré par un particulier   \n",
       "114  Le Logis Hotel Restaurant Uzès Pont du Gard pr...   \n",
       "\n",
       "            gps_coordinates        lat       lon  \n",
       "0    43.54026065,5.43485774  43.540261  5.434858  \n",
       "1    43.52846562,5.45249974  43.528466  5.452500  \n",
       "2    43.51260970,5.43682760  43.512610  5.436828  \n",
       "3    43.51783611,5.44283509  43.517836  5.442835  \n",
       "4    43.52914577,5.45303341  43.529146  5.453033  \n",
       "..                      ...        ...       ...  \n",
       "110  44.00778294,4.40718146  44.007783  4.407181  \n",
       "111  44.00771258,4.40714631  44.007713  4.407146  \n",
       "112  44.02016130,4.43052644  44.020161  4.430526  \n",
       "113  44.01168919,4.42128514  44.011689  4.421285  \n",
       "114  44.00284485,4.41645205  44.002845  4.416452  \n",
       "\n",
       "[115 rows x 8 columns]"
      ]
     },
     "execution_count": 21,
     "metadata": {},
     "output_type": "execute_result"
    }
   ],
   "source": [
    "# requete pour avoir les hotels dans les 5 villes choisis ordonnées par score\n",
    "\n",
    "from sqlalchemy import text\n",
    "\n",
    "conn = engine.connect()\n",
    "\n",
    "query = text(\"select name, score, description, lat, lon from accomodations a \\\n",
    "where a.city_id in (0, 28, 4, 35, 14) and a.score is not null \\\n",
    "order by a.city_id asc, a.score desc\")\n",
    "\n",
    "result = conn.execute(query)\n",
    "df_accomodation_result = pd.DataFrame(result.all(), columns=result.keys())\n",
    "df_accomodation_result"
   ]
  },
  {
   "cell_type": "code",
   "execution_count": 19,
   "metadata": {},
   "outputs": [
    {
     "data": {
      "application/vnd.plotly.v1+json": {
       "config": {
        "plotlyServerURL": "https://plot.ly"
       },
       "data": [
        {
         "hovertemplate": "forecast_score_mean=%{marker.size}<br>lat=%{lat}<br>lon=%{lon}<br>feels_temperature_day=%{marker.color}<extra></extra>",
         "lat": [
          43.5298,
          43.8374,
          43.9492,
          44.0121,
          42.5251
         ],
         "legendgroup": "",
         "lon": [
          5.4475,
          4.3601,
          4.8059,
          4.4197,
          3.0832
         ],
         "marker": {
          "color": [
           23.6875,
           24.182500000000005,
           24.01625,
           23.75375,
           23.101249999999997
          ],
          "coloraxis": "coloraxis",
          "size": [
           13.540500000000002,
           13.1995,
           11.490375,
           11.444375,
           11.2315
          ],
          "sizemode": "area",
          "sizeref": 0.033851250000000006
         },
         "mode": "markers",
         "name": "",
         "showlegend": false,
         "subplot": "mapbox",
         "type": "scattermapbox"
        }
       ],
       "layout": {
        "coloraxis": {
         "colorbar": {
          "title": {
           "text": "feels_temperature_day"
          }
         },
         "colorscale": [
          [
           0,
           "#0d0887"
          ],
          [
           0.1111111111111111,
           "#46039f"
          ],
          [
           0.2222222222222222,
           "#7201a8"
          ],
          [
           0.3333333333333333,
           "#9c179e"
          ],
          [
           0.4444444444444444,
           "#bd3786"
          ],
          [
           0.5555555555555556,
           "#d8576b"
          ],
          [
           0.6666666666666666,
           "#ed7953"
          ],
          [
           0.7777777777777778,
           "#fb9f3a"
          ],
          [
           0.8888888888888888,
           "#fdca26"
          ],
          [
           1,
           "#f0f921"
          ]
         ]
        },
        "legend": {
         "itemsizing": "constant",
         "tracegroupgap": 0
        },
        "mapbox": {
         "center": {
          "lat": 43.57072,
          "lon": 4.42328
         },
         "domain": {
          "x": [
           0,
           1
          ],
          "y": [
           0,
           1
          ]
         },
         "style": "carto-positron",
         "zoom": 6
        },
        "margin": {
         "t": 60
        },
        "template": {
         "data": {
          "bar": [
           {
            "error_x": {
             "color": "#2a3f5f"
            },
            "error_y": {
             "color": "#2a3f5f"
            },
            "marker": {
             "line": {
              "color": "#E5ECF6",
              "width": 0.5
             },
             "pattern": {
              "fillmode": "overlay",
              "size": 10,
              "solidity": 0.2
             }
            },
            "type": "bar"
           }
          ],
          "barpolar": [
           {
            "marker": {
             "line": {
              "color": "#E5ECF6",
              "width": 0.5
             },
             "pattern": {
              "fillmode": "overlay",
              "size": 10,
              "solidity": 0.2
             }
            },
            "type": "barpolar"
           }
          ],
          "carpet": [
           {
            "aaxis": {
             "endlinecolor": "#2a3f5f",
             "gridcolor": "white",
             "linecolor": "white",
             "minorgridcolor": "white",
             "startlinecolor": "#2a3f5f"
            },
            "baxis": {
             "endlinecolor": "#2a3f5f",
             "gridcolor": "white",
             "linecolor": "white",
             "minorgridcolor": "white",
             "startlinecolor": "#2a3f5f"
            },
            "type": "carpet"
           }
          ],
          "choropleth": [
           {
            "colorbar": {
             "outlinewidth": 0,
             "ticks": ""
            },
            "type": "choropleth"
           }
          ],
          "contour": [
           {
            "colorbar": {
             "outlinewidth": 0,
             "ticks": ""
            },
            "colorscale": [
             [
              0,
              "#0d0887"
             ],
             [
              0.1111111111111111,
              "#46039f"
             ],
             [
              0.2222222222222222,
              "#7201a8"
             ],
             [
              0.3333333333333333,
              "#9c179e"
             ],
             [
              0.4444444444444444,
              "#bd3786"
             ],
             [
              0.5555555555555556,
              "#d8576b"
             ],
             [
              0.6666666666666666,
              "#ed7953"
             ],
             [
              0.7777777777777778,
              "#fb9f3a"
             ],
             [
              0.8888888888888888,
              "#fdca26"
             ],
             [
              1,
              "#f0f921"
             ]
            ],
            "type": "contour"
           }
          ],
          "contourcarpet": [
           {
            "colorbar": {
             "outlinewidth": 0,
             "ticks": ""
            },
            "type": "contourcarpet"
           }
          ],
          "heatmap": [
           {
            "colorbar": {
             "outlinewidth": 0,
             "ticks": ""
            },
            "colorscale": [
             [
              0,
              "#0d0887"
             ],
             [
              0.1111111111111111,
              "#46039f"
             ],
             [
              0.2222222222222222,
              "#7201a8"
             ],
             [
              0.3333333333333333,
              "#9c179e"
             ],
             [
              0.4444444444444444,
              "#bd3786"
             ],
             [
              0.5555555555555556,
              "#d8576b"
             ],
             [
              0.6666666666666666,
              "#ed7953"
             ],
             [
              0.7777777777777778,
              "#fb9f3a"
             ],
             [
              0.8888888888888888,
              "#fdca26"
             ],
             [
              1,
              "#f0f921"
             ]
            ],
            "type": "heatmap"
           }
          ],
          "heatmapgl": [
           {
            "colorbar": {
             "outlinewidth": 0,
             "ticks": ""
            },
            "colorscale": [
             [
              0,
              "#0d0887"
             ],
             [
              0.1111111111111111,
              "#46039f"
             ],
             [
              0.2222222222222222,
              "#7201a8"
             ],
             [
              0.3333333333333333,
              "#9c179e"
             ],
             [
              0.4444444444444444,
              "#bd3786"
             ],
             [
              0.5555555555555556,
              "#d8576b"
             ],
             [
              0.6666666666666666,
              "#ed7953"
             ],
             [
              0.7777777777777778,
              "#fb9f3a"
             ],
             [
              0.8888888888888888,
              "#fdca26"
             ],
             [
              1,
              "#f0f921"
             ]
            ],
            "type": "heatmapgl"
           }
          ],
          "histogram": [
           {
            "marker": {
             "pattern": {
              "fillmode": "overlay",
              "size": 10,
              "solidity": 0.2
             }
            },
            "type": "histogram"
           }
          ],
          "histogram2d": [
           {
            "colorbar": {
             "outlinewidth": 0,
             "ticks": ""
            },
            "colorscale": [
             [
              0,
              "#0d0887"
             ],
             [
              0.1111111111111111,
              "#46039f"
             ],
             [
              0.2222222222222222,
              "#7201a8"
             ],
             [
              0.3333333333333333,
              "#9c179e"
             ],
             [
              0.4444444444444444,
              "#bd3786"
             ],
             [
              0.5555555555555556,
              "#d8576b"
             ],
             [
              0.6666666666666666,
              "#ed7953"
             ],
             [
              0.7777777777777778,
              "#fb9f3a"
             ],
             [
              0.8888888888888888,
              "#fdca26"
             ],
             [
              1,
              "#f0f921"
             ]
            ],
            "type": "histogram2d"
           }
          ],
          "histogram2dcontour": [
           {
            "colorbar": {
             "outlinewidth": 0,
             "ticks": ""
            },
            "colorscale": [
             [
              0,
              "#0d0887"
             ],
             [
              0.1111111111111111,
              "#46039f"
             ],
             [
              0.2222222222222222,
              "#7201a8"
             ],
             [
              0.3333333333333333,
              "#9c179e"
             ],
             [
              0.4444444444444444,
              "#bd3786"
             ],
             [
              0.5555555555555556,
              "#d8576b"
             ],
             [
              0.6666666666666666,
              "#ed7953"
             ],
             [
              0.7777777777777778,
              "#fb9f3a"
             ],
             [
              0.8888888888888888,
              "#fdca26"
             ],
             [
              1,
              "#f0f921"
             ]
            ],
            "type": "histogram2dcontour"
           }
          ],
          "mesh3d": [
           {
            "colorbar": {
             "outlinewidth": 0,
             "ticks": ""
            },
            "type": "mesh3d"
           }
          ],
          "parcoords": [
           {
            "line": {
             "colorbar": {
              "outlinewidth": 0,
              "ticks": ""
             }
            },
            "type": "parcoords"
           }
          ],
          "pie": [
           {
            "automargin": true,
            "type": "pie"
           }
          ],
          "scatter": [
           {
            "fillpattern": {
             "fillmode": "overlay",
             "size": 10,
             "solidity": 0.2
            },
            "type": "scatter"
           }
          ],
          "scatter3d": [
           {
            "line": {
             "colorbar": {
              "outlinewidth": 0,
              "ticks": ""
             }
            },
            "marker": {
             "colorbar": {
              "outlinewidth": 0,
              "ticks": ""
             }
            },
            "type": "scatter3d"
           }
          ],
          "scattercarpet": [
           {
            "marker": {
             "colorbar": {
              "outlinewidth": 0,
              "ticks": ""
             }
            },
            "type": "scattercarpet"
           }
          ],
          "scattergeo": [
           {
            "marker": {
             "colorbar": {
              "outlinewidth": 0,
              "ticks": ""
             }
            },
            "type": "scattergeo"
           }
          ],
          "scattergl": [
           {
            "marker": {
             "colorbar": {
              "outlinewidth": 0,
              "ticks": ""
             }
            },
            "type": "scattergl"
           }
          ],
          "scattermapbox": [
           {
            "marker": {
             "colorbar": {
              "outlinewidth": 0,
              "ticks": ""
             }
            },
            "type": "scattermapbox"
           }
          ],
          "scatterpolar": [
           {
            "marker": {
             "colorbar": {
              "outlinewidth": 0,
              "ticks": ""
             }
            },
            "type": "scatterpolar"
           }
          ],
          "scatterpolargl": [
           {
            "marker": {
             "colorbar": {
              "outlinewidth": 0,
              "ticks": ""
             }
            },
            "type": "scatterpolargl"
           }
          ],
          "scatterternary": [
           {
            "marker": {
             "colorbar": {
              "outlinewidth": 0,
              "ticks": ""
             }
            },
            "type": "scatterternary"
           }
          ],
          "surface": [
           {
            "colorbar": {
             "outlinewidth": 0,
             "ticks": ""
            },
            "colorscale": [
             [
              0,
              "#0d0887"
             ],
             [
              0.1111111111111111,
              "#46039f"
             ],
             [
              0.2222222222222222,
              "#7201a8"
             ],
             [
              0.3333333333333333,
              "#9c179e"
             ],
             [
              0.4444444444444444,
              "#bd3786"
             ],
             [
              0.5555555555555556,
              "#d8576b"
             ],
             [
              0.6666666666666666,
              "#ed7953"
             ],
             [
              0.7777777777777778,
              "#fb9f3a"
             ],
             [
              0.8888888888888888,
              "#fdca26"
             ],
             [
              1,
              "#f0f921"
             ]
            ],
            "type": "surface"
           }
          ],
          "table": [
           {
            "cells": {
             "fill": {
              "color": "#EBF0F8"
             },
             "line": {
              "color": "white"
             }
            },
            "header": {
             "fill": {
              "color": "#C8D4E3"
             },
             "line": {
              "color": "white"
             }
            },
            "type": "table"
           }
          ]
         },
         "layout": {
          "annotationdefaults": {
           "arrowcolor": "#2a3f5f",
           "arrowhead": 0,
           "arrowwidth": 1
          },
          "autotypenumbers": "strict",
          "coloraxis": {
           "colorbar": {
            "outlinewidth": 0,
            "ticks": ""
           }
          },
          "colorscale": {
           "diverging": [
            [
             0,
             "#8e0152"
            ],
            [
             0.1,
             "#c51b7d"
            ],
            [
             0.2,
             "#de77ae"
            ],
            [
             0.3,
             "#f1b6da"
            ],
            [
             0.4,
             "#fde0ef"
            ],
            [
             0.5,
             "#f7f7f7"
            ],
            [
             0.6,
             "#e6f5d0"
            ],
            [
             0.7,
             "#b8e186"
            ],
            [
             0.8,
             "#7fbc41"
            ],
            [
             0.9,
             "#4d9221"
            ],
            [
             1,
             "#276419"
            ]
           ],
           "sequential": [
            [
             0,
             "#0d0887"
            ],
            [
             0.1111111111111111,
             "#46039f"
            ],
            [
             0.2222222222222222,
             "#7201a8"
            ],
            [
             0.3333333333333333,
             "#9c179e"
            ],
            [
             0.4444444444444444,
             "#bd3786"
            ],
            [
             0.5555555555555556,
             "#d8576b"
            ],
            [
             0.6666666666666666,
             "#ed7953"
            ],
            [
             0.7777777777777778,
             "#fb9f3a"
            ],
            [
             0.8888888888888888,
             "#fdca26"
            ],
            [
             1,
             "#f0f921"
            ]
           ],
           "sequentialminus": [
            [
             0,
             "#0d0887"
            ],
            [
             0.1111111111111111,
             "#46039f"
            ],
            [
             0.2222222222222222,
             "#7201a8"
            ],
            [
             0.3333333333333333,
             "#9c179e"
            ],
            [
             0.4444444444444444,
             "#bd3786"
            ],
            [
             0.5555555555555556,
             "#d8576b"
            ],
            [
             0.6666666666666666,
             "#ed7953"
            ],
            [
             0.7777777777777778,
             "#fb9f3a"
            ],
            [
             0.8888888888888888,
             "#fdca26"
            ],
            [
             1,
             "#f0f921"
            ]
           ]
          },
          "colorway": [
           "#636efa",
           "#EF553B",
           "#00cc96",
           "#ab63fa",
           "#FFA15A",
           "#19d3f3",
           "#FF6692",
           "#B6E880",
           "#FF97FF",
           "#FECB52"
          ],
          "font": {
           "color": "#2a3f5f"
          },
          "geo": {
           "bgcolor": "white",
           "lakecolor": "white",
           "landcolor": "#E5ECF6",
           "showlakes": true,
           "showland": true,
           "subunitcolor": "white"
          },
          "hoverlabel": {
           "align": "left"
          },
          "hovermode": "closest",
          "mapbox": {
           "style": "light"
          },
          "paper_bgcolor": "white",
          "plot_bgcolor": "#E5ECF6",
          "polar": {
           "angularaxis": {
            "gridcolor": "white",
            "linecolor": "white",
            "ticks": ""
           },
           "bgcolor": "#E5ECF6",
           "radialaxis": {
            "gridcolor": "white",
            "linecolor": "white",
            "ticks": ""
           }
          },
          "scene": {
           "xaxis": {
            "backgroundcolor": "#E5ECF6",
            "gridcolor": "white",
            "gridwidth": 2,
            "linecolor": "white",
            "showbackground": true,
            "ticks": "",
            "zerolinecolor": "white"
           },
           "yaxis": {
            "backgroundcolor": "#E5ECF6",
            "gridcolor": "white",
            "gridwidth": 2,
            "linecolor": "white",
            "showbackground": true,
            "ticks": "",
            "zerolinecolor": "white"
           },
           "zaxis": {
            "backgroundcolor": "#E5ECF6",
            "gridcolor": "white",
            "gridwidth": 2,
            "linecolor": "white",
            "showbackground": true,
            "ticks": "",
            "zerolinecolor": "white"
           }
          },
          "shapedefaults": {
           "line": {
            "color": "#2a3f5f"
           }
          },
          "ternary": {
           "aaxis": {
            "gridcolor": "white",
            "linecolor": "white",
            "ticks": ""
           },
           "baxis": {
            "gridcolor": "white",
            "linecolor": "white",
            "ticks": ""
           },
           "bgcolor": "#E5ECF6",
           "caxis": {
            "gridcolor": "white",
            "linecolor": "white",
            "ticks": ""
           }
          },
          "title": {
           "x": 0.05
          },
          "xaxis": {
           "automargin": true,
           "gridcolor": "white",
           "linecolor": "white",
           "ticks": "",
           "title": {
            "standoff": 15
           },
           "zerolinecolor": "white",
           "zerolinewidth": 2
          },
          "yaxis": {
           "automargin": true,
           "gridcolor": "white",
           "linecolor": "white",
           "ticks": "",
           "title": {
            "standoff": 15
           },
           "zerolinecolor": "white",
           "zerolinewidth": 2
          }
         }
        }
       }
      }
     },
     "metadata": {},
     "output_type": "display_data"
    }
   ],
   "source": [
    "import plotly.io as pio\n",
    "import plotly.express as px\n",
    "\n",
    "fig = px.scatter_mapbox(df_forecast_result, lat=\"lat\", lon=\"lon\", color=\"feels_temperature_day\", size=\"forecast_score_mean\",\n",
    "                        zoom=6, mapbox_style=\"carto-positron\")\n",
    "fig.show()"
   ]
  },
  {
   "cell_type": "code",
   "execution_count": 25,
   "metadata": {},
   "outputs": [
    {
     "data": {
      "application/vnd.plotly.v1+json": {
       "config": {
        "plotlyServerURL": "https://plot.ly"
       },
       "data": [
        {
         "hovertemplate": "score=9,7<br>lat=%{lat}<br>lon=%{lon}<extra></extra>",
         "lat": [
          43.54026065,
          42.5232871,
          43.8299613,
          43.83003691,
          44.01544515
         ],
         "legendgroup": "9,7",
         "lon": [
          5.43485774,
          3.0919858,
          4.3550993,
          4.36611269,
          4.40987
         ],
         "marker": {
          "color": "#636efa"
         },
         "mode": "markers",
         "name": "9,7",
         "showlegend": true,
         "subplot": "mapbox",
         "type": "scattermapbox"
        },
        {
         "hovertemplate": "score=9,6<br>lat=%{lat}<br>lon=%{lon}<extra></extra>",
         "lat": [
          43.52846562,
          44.009668
         ],
         "legendgroup": "9,6",
         "lon": [
          5.45249974,
          4.418032
         ],
         "marker": {
          "color": "#EF553B"
         },
         "mode": "markers",
         "name": "9,6",
         "showlegend": true,
         "subplot": "mapbox",
         "type": "scattermapbox"
        },
        {
         "hovertemplate": "score=9,5<br>lat=%{lat}<br>lon=%{lon}<extra></extra>",
         "lat": [
          43.5126097,
          43.9987185,
          44.01167638
         ],
         "legendgroup": "9,5",
         "lon": [
          5.4368276,
          4.4142914,
          4.41908838
         ],
         "marker": {
          "color": "#00cc96"
         },
         "mode": "markers",
         "name": "9,5",
         "showlegend": true,
         "subplot": "mapbox",
         "type": "scattermapbox"
        },
        {
         "hovertemplate": "score=9,3<br>lat=%{lat}<br>lon=%{lon}<extra></extra>",
         "lat": [
          43.51783611,
          43.9496041,
          44.0114872,
          44.0112246
         ],
         "legendgroup": "9,3",
         "lon": [
          5.44283509,
          4.8115416,
          4.4198868,
          4.4199226
         ],
         "marker": {
          "color": "#ab63fa"
         },
         "mode": "markers",
         "name": "9,3",
         "showlegend": true,
         "subplot": "mapbox",
         "type": "scattermapbox"
        },
        {
         "hovertemplate": "score=9,2<br>lat=%{lat}<br>lon=%{lon}<extra></extra>",
         "lat": [
          43.52914577,
          43.9361955,
          42.5273935,
          44.0143623
         ],
         "legendgroup": "9,2",
         "lon": [
          5.45303341,
          4.82600075,
          3.0847579,
          4.41091965
         ],
         "marker": {
          "color": "#FFA15A"
         },
         "mode": "markers",
         "name": "9,2",
         "showlegend": true,
         "subplot": "mapbox",
         "type": "scattermapbox"
        },
        {
         "hovertemplate": "score=9,1<br>lat=%{lat}<br>lon=%{lon}<extra></extra>",
         "lat": [
          43.52521432,
          42.52298768,
          42.52534777,
          43.84096629,
          44.0108258
         ],
         "legendgroup": "9,1",
         "lon": [
          5.44832973,
          3.08732966,
          3.09032446,
          4.39121264,
          4.4177601
         ],
         "marker": {
          "color": "#19d3f3"
         },
         "mode": "markers",
         "name": "9,1",
         "showlegend": true,
         "subplot": "mapbox",
         "type": "scattermapbox"
        },
        {
         "hovertemplate": "score=9,0<br>lat=%{lat}<br>lon=%{lon}<extra></extra>",
         "lat": [
          43.5293949,
          43.9516211,
          43.94833,
          42.526851,
          42.52488242,
          42.52876467,
          43.84345325,
          43.8329823,
          44.0115749,
          44.0119992
         ],
         "legendgroup": "9,0",
         "lon": [
          5.4490137,
          4.8042275,
          4.8066899,
          3.083962,
          3.08187893,
          3.07865426,
          4.3340147,
          4.3548872,
          4.4207409,
          4.4174453
         ],
         "marker": {
          "color": "#FF6692"
         },
         "mode": "markers",
         "name": "9,0",
         "showlegend": true,
         "subplot": "mapbox",
         "type": "scattermapbox"
        },
        {
         "hovertemplate": "score=8,8<br>lat=%{lat}<br>lon=%{lon}<extra></extra>",
         "lat": [
          43.5291307,
          43.53713194,
          43.95098994,
          43.9568289,
          43.94448303,
          42.52361747,
          42.5211169,
          43.83406187,
          44.01266208,
          44.02305334
         ],
         "legendgroup": "8,8",
         "lon": [
          5.452985,
          5.43127282,
          4.81063021,
          4.8291204,
          4.79949588,
          3.08427197,
          3.07730913,
          4.35899065,
          4.41416125,
          4.42047223
         ],
         "marker": {
          "color": "#B6E880"
         },
         "mode": "markers",
         "name": "8,8",
         "showlegend": true,
         "subplot": "mapbox",
         "type": "scattermapbox"
        },
        {
         "hovertemplate": "score=8,6<br>lat=%{lat}<br>lon=%{lon}<extra></extra>",
         "lat": [
          43.5312636,
          43.97548368,
          42.52547153,
          43.83387353,
          44.0121521,
          44.014659
         ],
         "legendgroup": "8,6",
         "lon": [
          5.44507004,
          4.8274371,
          3.0826987,
          4.36143396,
          4.4169701,
          4.4200515
         ],
         "marker": {
          "color": "#FF97FF"
         },
         "mode": "markers",
         "name": "8,6",
         "showlegend": true,
         "subplot": "mapbox",
         "type": "scattermapbox"
        },
        {
         "hovertemplate": "score=8,5<br>lat=%{lat}<br>lon=%{lon}<extra></extra>",
         "lat": [
          43.5205148,
          43.93297914,
          42.525953,
          43.7646229
         ],
         "legendgroup": "8,5",
         "lon": [
          5.4471929,
          4.8319067,
          3.078524,
          4.360898
         ],
         "marker": {
          "color": "#FECB52"
         },
         "mode": "markers",
         "name": "8,5",
         "showlegend": true,
         "subplot": "mapbox",
         "type": "scattermapbox"
        },
        {
         "hovertemplate": "score=8,4<br>lat=%{lat}<br>lon=%{lon}<extra></extra>",
         "lat": [
          43.53659792,
          43.52191762,
          42.52638625,
          42.5231333,
          42.5235481,
          42.52094457,
          43.83436329,
          43.99277827
         ],
         "legendgroup": "8,4",
         "lon": [
          5.45644031,
          5.45787156,
          3.08325659,
          3.0855761,
          3.08187379,
          3.08707947,
          4.36533675,
          4.42427516
         ],
         "marker": {
          "color": "#636efa"
         },
         "mode": "markers",
         "name": "8,4",
         "showlegend": true,
         "subplot": "mapbox",
         "type": "scattermapbox"
        },
        {
         "hovertemplate": "score=8,1<br>lat=%{lat}<br>lon=%{lon}<extra></extra>",
         "lat": [
          43.52688664,
          42.52591431
         ],
         "legendgroup": "8,1",
         "lon": [
          5.44727147,
          3.0826816
         ],
         "marker": {
          "color": "#EF553B"
         },
         "mode": "markers",
         "name": "8,1",
         "showlegend": true,
         "subplot": "mapbox",
         "type": "scattermapbox"
        },
        {
         "hovertemplate": "score=7,8<br>lat=%{lat}<br>lon=%{lon}<extra></extra>",
         "lat": [
          43.52524078,
          43.508036,
          43.94461632,
          43.9569418,
          43.94989514,
          42.52708254,
          44.0201613
         ],
         "legendgroup": "7,8",
         "lon": [
          5.441266,
          5.439455,
          4.80061233,
          4.8029451,
          4.81986389,
          3.08026291,
          4.43052644
         ],
         "marker": {
          "color": "#00cc96"
         },
         "mode": "markers",
         "name": "7,8",
         "showlegend": true,
         "subplot": "mapbox",
         "type": "scattermapbox"
        },
        {
         "hovertemplate": "score=7,6<br>lat=%{lat}<br>lon=%{lon}<extra></extra>",
         "lat": [
          43.51184318,
          43.9438081
         ],
         "legendgroup": "7,6",
         "lon": [
          5.48670664,
          4.80494678
         ],
         "marker": {
          "color": "#ab63fa"
         },
         "mode": "markers",
         "name": "7,6",
         "showlegend": true,
         "subplot": "mapbox",
         "type": "scattermapbox"
        },
        {
         "hovertemplate": "score=7,2<br>lat=%{lat}<br>lon=%{lon}<extra></extra>",
         "lat": [
          43.52724,
          43.82158549
         ],
         "legendgroup": "7,2",
         "lon": [
          5.404795,
          4.3645978
         ],
         "marker": {
          "color": "#FFA15A"
         },
         "mode": "markers",
         "name": "7,2",
         "showlegend": true,
         "subplot": "mapbox",
         "type": "scattermapbox"
        },
        {
         "hovertemplate": "score=9,4<br>lat=%{lat}<br>lon=%{lon}<extra></extra>",
         "lat": [
          43.9513089,
          43.83500852,
          44.0132239
         ],
         "legendgroup": "9,4",
         "lon": [
          4.8091989,
          4.3497249,
          4.4222682
         ],
         "marker": {
          "color": "#19d3f3"
         },
         "mode": "markers",
         "name": "9,4",
         "showlegend": true,
         "subplot": "mapbox",
         "type": "scattermapbox"
        },
        {
         "hovertemplate": "score=8,9<br>lat=%{lat}<br>lon=%{lon}<extra></extra>",
         "lat": [
          43.9503586,
          42.52334528,
          42.52269801,
          42.5226094,
          43.8356863,
          43.81882933,
          44.01246437,
          44.00964195
         ],
         "legendgroup": "8,9",
         "lon": [
          4.8167692,
          3.08696844,
          3.08192517,
          3.0866733,
          4.3585101,
          4.32450719,
          4.42180011,
          4.41788524
         ],
         "marker": {
          "color": "#FF6692"
         },
         "mode": "markers",
         "name": "8,9",
         "showlegend": true,
         "subplot": "mapbox",
         "type": "scattermapbox"
        },
        {
         "hovertemplate": "score=8,7<br>lat=%{lat}<br>lon=%{lon}<extra></extra>",
         "lat": [
          43.9461706,
          43.837032,
          43.8379994,
          44.012765,
          44.0077179
         ],
         "legendgroup": "8,7",
         "lon": [
          4.8101887,
          4.363037,
          4.3709063,
          4.414323,
          4.4085783
         ],
         "marker": {
          "color": "#B6E880"
         },
         "mode": "markers",
         "name": "8,7",
         "showlegend": true,
         "subplot": "mapbox",
         "type": "scattermapbox"
        },
        {
         "hovertemplate": "score=8,3<br>lat=%{lat}<br>lon=%{lon}<extra></extra>",
         "lat": [
          43.94362946,
          43.9514375,
          43.94963777,
          42.52411449,
          43.831504,
          43.8388151
         ],
         "legendgroup": "8,3",
         "lon": [
          4.81217131,
          4.8155252,
          4.80635896,
          3.08936566,
          4.367797,
          4.35481846
         ],
         "marker": {
          "color": "#FF97FF"
         },
         "mode": "markers",
         "name": "8,3",
         "showlegend": true,
         "subplot": "mapbox",
         "type": "scattermapbox"
        },
        {
         "hovertemplate": "score=8,2<br>lat=%{lat}<br>lon=%{lon}<extra></extra>",
         "lat": [
          43.92275766,
          42.52538159,
          43.78858215,
          43.83581534,
          44.00778294
         ],
         "legendgroup": "8,2",
         "lon": [
          4.804295,
          3.08256391,
          4.35380258,
          4.35914017,
          4.40718146
         ],
         "marker": {
          "color": "#FECB52"
         },
         "mode": "markers",
         "name": "8,2",
         "showlegend": true,
         "subplot": "mapbox",
         "type": "scattermapbox"
        },
        {
         "hovertemplate": "score=8,0<br>lat=%{lat}<br>lon=%{lon}<extra></extra>",
         "lat": [
          43.9481658,
          43.94403213,
          42.52510633,
          42.52311754,
          43.83959476,
          44.00771258
         ],
         "legendgroup": "8,0",
         "lon": [
          4.80576485,
          4.80533168,
          3.0904362,
          3.0854253,
          4.3610841,
          4.40714631
         ],
         "marker": {
          "color": "#636efa"
         },
         "mode": "markers",
         "name": "8,0",
         "showlegend": true,
         "subplot": "mapbox",
         "type": "scattermapbox"
        },
        {
         "hovertemplate": "score=7,9<br>lat=%{lat}<br>lon=%{lon}<extra></extra>",
         "lat": [
          43.94290138
         ],
         "legendgroup": "7,9",
         "lon": [
          4.79804277
         ],
         "marker": {
          "color": "#EF553B"
         },
         "mode": "markers",
         "name": "7,9",
         "showlegend": true,
         "subplot": "mapbox",
         "type": "scattermapbox"
        },
        {
         "hovertemplate": "score=7,7<br>lat=%{lat}<br>lon=%{lon}<extra></extra>",
         "lat": [
          43.94409296,
          43.81557635,
          44.01168919,
          44.00284485
         ],
         "legendgroup": "7,7",
         "lon": [
          4.81142029,
          4.34660353,
          4.42128514,
          4.41645205
         ],
         "marker": {
          "color": "#00cc96"
         },
         "mode": "markers",
         "name": "7,7",
         "showlegend": true,
         "subplot": "mapbox",
         "type": "scattermapbox"
        },
        {
         "hovertemplate": "score=7,5<br>lat=%{lat}<br>lon=%{lon}<extra></extra>",
         "lat": [
          43.815377,
          43.8281614
         ],
         "legendgroup": "7,5",
         "lon": [
          4.345905,
          4.3547902
         ],
         "marker": {
          "color": "#ab63fa"
         },
         "mode": "markers",
         "name": "7,5",
         "showlegend": true,
         "subplot": "mapbox",
         "type": "scattermapbox"
        },
        {
         "hovertemplate": "score=6,9<br>lat=%{lat}<br>lon=%{lon}<extra></extra>",
         "lat": [
          43.82273112
         ],
         "legendgroup": "6,9",
         "lon": [
          4.36412573
         ],
         "marker": {
          "color": "#FFA15A"
         },
         "mode": "markers",
         "name": "6,9",
         "showlegend": true,
         "subplot": "mapbox",
         "type": "scattermapbox"
        }
       ],
       "layout": {
        "legend": {
         "title": {
          "text": "score"
         },
         "tracegroupgap": 0
        },
        "mapbox": {
         "center": {
          "lat": 43.57303448008695,
          "lon": 4.369936204956521
         },
         "domain": {
          "x": [
           0,
           1
          ],
          "y": [
           0,
           1
          ]
         },
         "style": "carto-positron",
         "zoom": 6
        },
        "margin": {
         "t": 60
        },
        "template": {
         "data": {
          "bar": [
           {
            "error_x": {
             "color": "#2a3f5f"
            },
            "error_y": {
             "color": "#2a3f5f"
            },
            "marker": {
             "line": {
              "color": "#E5ECF6",
              "width": 0.5
             },
             "pattern": {
              "fillmode": "overlay",
              "size": 10,
              "solidity": 0.2
             }
            },
            "type": "bar"
           }
          ],
          "barpolar": [
           {
            "marker": {
             "line": {
              "color": "#E5ECF6",
              "width": 0.5
             },
             "pattern": {
              "fillmode": "overlay",
              "size": 10,
              "solidity": 0.2
             }
            },
            "type": "barpolar"
           }
          ],
          "carpet": [
           {
            "aaxis": {
             "endlinecolor": "#2a3f5f",
             "gridcolor": "white",
             "linecolor": "white",
             "minorgridcolor": "white",
             "startlinecolor": "#2a3f5f"
            },
            "baxis": {
             "endlinecolor": "#2a3f5f",
             "gridcolor": "white",
             "linecolor": "white",
             "minorgridcolor": "white",
             "startlinecolor": "#2a3f5f"
            },
            "type": "carpet"
           }
          ],
          "choropleth": [
           {
            "colorbar": {
             "outlinewidth": 0,
             "ticks": ""
            },
            "type": "choropleth"
           }
          ],
          "contour": [
           {
            "colorbar": {
             "outlinewidth": 0,
             "ticks": ""
            },
            "colorscale": [
             [
              0,
              "#0d0887"
             ],
             [
              0.1111111111111111,
              "#46039f"
             ],
             [
              0.2222222222222222,
              "#7201a8"
             ],
             [
              0.3333333333333333,
              "#9c179e"
             ],
             [
              0.4444444444444444,
              "#bd3786"
             ],
             [
              0.5555555555555556,
              "#d8576b"
             ],
             [
              0.6666666666666666,
              "#ed7953"
             ],
             [
              0.7777777777777778,
              "#fb9f3a"
             ],
             [
              0.8888888888888888,
              "#fdca26"
             ],
             [
              1,
              "#f0f921"
             ]
            ],
            "type": "contour"
           }
          ],
          "contourcarpet": [
           {
            "colorbar": {
             "outlinewidth": 0,
             "ticks": ""
            },
            "type": "contourcarpet"
           }
          ],
          "heatmap": [
           {
            "colorbar": {
             "outlinewidth": 0,
             "ticks": ""
            },
            "colorscale": [
             [
              0,
              "#0d0887"
             ],
             [
              0.1111111111111111,
              "#46039f"
             ],
             [
              0.2222222222222222,
              "#7201a8"
             ],
             [
              0.3333333333333333,
              "#9c179e"
             ],
             [
              0.4444444444444444,
              "#bd3786"
             ],
             [
              0.5555555555555556,
              "#d8576b"
             ],
             [
              0.6666666666666666,
              "#ed7953"
             ],
             [
              0.7777777777777778,
              "#fb9f3a"
             ],
             [
              0.8888888888888888,
              "#fdca26"
             ],
             [
              1,
              "#f0f921"
             ]
            ],
            "type": "heatmap"
           }
          ],
          "heatmapgl": [
           {
            "colorbar": {
             "outlinewidth": 0,
             "ticks": ""
            },
            "colorscale": [
             [
              0,
              "#0d0887"
             ],
             [
              0.1111111111111111,
              "#46039f"
             ],
             [
              0.2222222222222222,
              "#7201a8"
             ],
             [
              0.3333333333333333,
              "#9c179e"
             ],
             [
              0.4444444444444444,
              "#bd3786"
             ],
             [
              0.5555555555555556,
              "#d8576b"
             ],
             [
              0.6666666666666666,
              "#ed7953"
             ],
             [
              0.7777777777777778,
              "#fb9f3a"
             ],
             [
              0.8888888888888888,
              "#fdca26"
             ],
             [
              1,
              "#f0f921"
             ]
            ],
            "type": "heatmapgl"
           }
          ],
          "histogram": [
           {
            "marker": {
             "pattern": {
              "fillmode": "overlay",
              "size": 10,
              "solidity": 0.2
             }
            },
            "type": "histogram"
           }
          ],
          "histogram2d": [
           {
            "colorbar": {
             "outlinewidth": 0,
             "ticks": ""
            },
            "colorscale": [
             [
              0,
              "#0d0887"
             ],
             [
              0.1111111111111111,
              "#46039f"
             ],
             [
              0.2222222222222222,
              "#7201a8"
             ],
             [
              0.3333333333333333,
              "#9c179e"
             ],
             [
              0.4444444444444444,
              "#bd3786"
             ],
             [
              0.5555555555555556,
              "#d8576b"
             ],
             [
              0.6666666666666666,
              "#ed7953"
             ],
             [
              0.7777777777777778,
              "#fb9f3a"
             ],
             [
              0.8888888888888888,
              "#fdca26"
             ],
             [
              1,
              "#f0f921"
             ]
            ],
            "type": "histogram2d"
           }
          ],
          "histogram2dcontour": [
           {
            "colorbar": {
             "outlinewidth": 0,
             "ticks": ""
            },
            "colorscale": [
             [
              0,
              "#0d0887"
             ],
             [
              0.1111111111111111,
              "#46039f"
             ],
             [
              0.2222222222222222,
              "#7201a8"
             ],
             [
              0.3333333333333333,
              "#9c179e"
             ],
             [
              0.4444444444444444,
              "#bd3786"
             ],
             [
              0.5555555555555556,
              "#d8576b"
             ],
             [
              0.6666666666666666,
              "#ed7953"
             ],
             [
              0.7777777777777778,
              "#fb9f3a"
             ],
             [
              0.8888888888888888,
              "#fdca26"
             ],
             [
              1,
              "#f0f921"
             ]
            ],
            "type": "histogram2dcontour"
           }
          ],
          "mesh3d": [
           {
            "colorbar": {
             "outlinewidth": 0,
             "ticks": ""
            },
            "type": "mesh3d"
           }
          ],
          "parcoords": [
           {
            "line": {
             "colorbar": {
              "outlinewidth": 0,
              "ticks": ""
             }
            },
            "type": "parcoords"
           }
          ],
          "pie": [
           {
            "automargin": true,
            "type": "pie"
           }
          ],
          "scatter": [
           {
            "fillpattern": {
             "fillmode": "overlay",
             "size": 10,
             "solidity": 0.2
            },
            "type": "scatter"
           }
          ],
          "scatter3d": [
           {
            "line": {
             "colorbar": {
              "outlinewidth": 0,
              "ticks": ""
             }
            },
            "marker": {
             "colorbar": {
              "outlinewidth": 0,
              "ticks": ""
             }
            },
            "type": "scatter3d"
           }
          ],
          "scattercarpet": [
           {
            "marker": {
             "colorbar": {
              "outlinewidth": 0,
              "ticks": ""
             }
            },
            "type": "scattercarpet"
           }
          ],
          "scattergeo": [
           {
            "marker": {
             "colorbar": {
              "outlinewidth": 0,
              "ticks": ""
             }
            },
            "type": "scattergeo"
           }
          ],
          "scattergl": [
           {
            "marker": {
             "colorbar": {
              "outlinewidth": 0,
              "ticks": ""
             }
            },
            "type": "scattergl"
           }
          ],
          "scattermapbox": [
           {
            "marker": {
             "colorbar": {
              "outlinewidth": 0,
              "ticks": ""
             }
            },
            "type": "scattermapbox"
           }
          ],
          "scatterpolar": [
           {
            "marker": {
             "colorbar": {
              "outlinewidth": 0,
              "ticks": ""
             }
            },
            "type": "scatterpolar"
           }
          ],
          "scatterpolargl": [
           {
            "marker": {
             "colorbar": {
              "outlinewidth": 0,
              "ticks": ""
             }
            },
            "type": "scatterpolargl"
           }
          ],
          "scatterternary": [
           {
            "marker": {
             "colorbar": {
              "outlinewidth": 0,
              "ticks": ""
             }
            },
            "type": "scatterternary"
           }
          ],
          "surface": [
           {
            "colorbar": {
             "outlinewidth": 0,
             "ticks": ""
            },
            "colorscale": [
             [
              0,
              "#0d0887"
             ],
             [
              0.1111111111111111,
              "#46039f"
             ],
             [
              0.2222222222222222,
              "#7201a8"
             ],
             [
              0.3333333333333333,
              "#9c179e"
             ],
             [
              0.4444444444444444,
              "#bd3786"
             ],
             [
              0.5555555555555556,
              "#d8576b"
             ],
             [
              0.6666666666666666,
              "#ed7953"
             ],
             [
              0.7777777777777778,
              "#fb9f3a"
             ],
             [
              0.8888888888888888,
              "#fdca26"
             ],
             [
              1,
              "#f0f921"
             ]
            ],
            "type": "surface"
           }
          ],
          "table": [
           {
            "cells": {
             "fill": {
              "color": "#EBF0F8"
             },
             "line": {
              "color": "white"
             }
            },
            "header": {
             "fill": {
              "color": "#C8D4E3"
             },
             "line": {
              "color": "white"
             }
            },
            "type": "table"
           }
          ]
         },
         "layout": {
          "annotationdefaults": {
           "arrowcolor": "#2a3f5f",
           "arrowhead": 0,
           "arrowwidth": 1
          },
          "autotypenumbers": "strict",
          "coloraxis": {
           "colorbar": {
            "outlinewidth": 0,
            "ticks": ""
           }
          },
          "colorscale": {
           "diverging": [
            [
             0,
             "#8e0152"
            ],
            [
             0.1,
             "#c51b7d"
            ],
            [
             0.2,
             "#de77ae"
            ],
            [
             0.3,
             "#f1b6da"
            ],
            [
             0.4,
             "#fde0ef"
            ],
            [
             0.5,
             "#f7f7f7"
            ],
            [
             0.6,
             "#e6f5d0"
            ],
            [
             0.7,
             "#b8e186"
            ],
            [
             0.8,
             "#7fbc41"
            ],
            [
             0.9,
             "#4d9221"
            ],
            [
             1,
             "#276419"
            ]
           ],
           "sequential": [
            [
             0,
             "#0d0887"
            ],
            [
             0.1111111111111111,
             "#46039f"
            ],
            [
             0.2222222222222222,
             "#7201a8"
            ],
            [
             0.3333333333333333,
             "#9c179e"
            ],
            [
             0.4444444444444444,
             "#bd3786"
            ],
            [
             0.5555555555555556,
             "#d8576b"
            ],
            [
             0.6666666666666666,
             "#ed7953"
            ],
            [
             0.7777777777777778,
             "#fb9f3a"
            ],
            [
             0.8888888888888888,
             "#fdca26"
            ],
            [
             1,
             "#f0f921"
            ]
           ],
           "sequentialminus": [
            [
             0,
             "#0d0887"
            ],
            [
             0.1111111111111111,
             "#46039f"
            ],
            [
             0.2222222222222222,
             "#7201a8"
            ],
            [
             0.3333333333333333,
             "#9c179e"
            ],
            [
             0.4444444444444444,
             "#bd3786"
            ],
            [
             0.5555555555555556,
             "#d8576b"
            ],
            [
             0.6666666666666666,
             "#ed7953"
            ],
            [
             0.7777777777777778,
             "#fb9f3a"
            ],
            [
             0.8888888888888888,
             "#fdca26"
            ],
            [
             1,
             "#f0f921"
            ]
           ]
          },
          "colorway": [
           "#636efa",
           "#EF553B",
           "#00cc96",
           "#ab63fa",
           "#FFA15A",
           "#19d3f3",
           "#FF6692",
           "#B6E880",
           "#FF97FF",
           "#FECB52"
          ],
          "font": {
           "color": "#2a3f5f"
          },
          "geo": {
           "bgcolor": "white",
           "lakecolor": "white",
           "landcolor": "#E5ECF6",
           "showlakes": true,
           "showland": true,
           "subunitcolor": "white"
          },
          "hoverlabel": {
           "align": "left"
          },
          "hovermode": "closest",
          "mapbox": {
           "style": "light"
          },
          "paper_bgcolor": "white",
          "plot_bgcolor": "#E5ECF6",
          "polar": {
           "angularaxis": {
            "gridcolor": "white",
            "linecolor": "white",
            "ticks": ""
           },
           "bgcolor": "#E5ECF6",
           "radialaxis": {
            "gridcolor": "white",
            "linecolor": "white",
            "ticks": ""
           }
          },
          "scene": {
           "xaxis": {
            "backgroundcolor": "#E5ECF6",
            "gridcolor": "white",
            "gridwidth": 2,
            "linecolor": "white",
            "showbackground": true,
            "ticks": "",
            "zerolinecolor": "white"
           },
           "yaxis": {
            "backgroundcolor": "#E5ECF6",
            "gridcolor": "white",
            "gridwidth": 2,
            "linecolor": "white",
            "showbackground": true,
            "ticks": "",
            "zerolinecolor": "white"
           },
           "zaxis": {
            "backgroundcolor": "#E5ECF6",
            "gridcolor": "white",
            "gridwidth": 2,
            "linecolor": "white",
            "showbackground": true,
            "ticks": "",
            "zerolinecolor": "white"
           }
          },
          "shapedefaults": {
           "line": {
            "color": "#2a3f5f"
           }
          },
          "ternary": {
           "aaxis": {
            "gridcolor": "white",
            "linecolor": "white",
            "ticks": ""
           },
           "baxis": {
            "gridcolor": "white",
            "linecolor": "white",
            "ticks": ""
           },
           "bgcolor": "#E5ECF6",
           "caxis": {
            "gridcolor": "white",
            "linecolor": "white",
            "ticks": ""
           }
          },
          "title": {
           "x": 0.05
          },
          "xaxis": {
           "automargin": true,
           "gridcolor": "white",
           "linecolor": "white",
           "ticks": "",
           "title": {
            "standoff": 15
           },
           "zerolinecolor": "white",
           "zerolinewidth": 2
          },
          "yaxis": {
           "automargin": true,
           "gridcolor": "white",
           "linecolor": "white",
           "ticks": "",
           "title": {
            "standoff": 15
           },
           "zerolinecolor": "white",
           "zerolinewidth": 2
          }
         }
        }
       }
      }
     },
     "metadata": {},
     "output_type": "display_data"
    }
   ],
   "source": [
    "import plotly.io as pio\n",
    "import plotly.express as px\n",
    "\n",
    "fig = px.scatter_mapbox(df_accomodation_result, lat=\"lat\", lon=\"lon\", color=\"score\",\n",
    "                        zoom=6, mapbox_style=\"carto-positron\")\n",
    "fig.show()"
   ]
  },
  {
   "cell_type": "markdown",
   "metadata": {},
   "source": [
    "Le résultat final est visible dans le fichier [output/index.html](../output/index.html)"
   ]
  },
  {
   "cell_type": "markdown",
   "metadata": {},
   "source": []
  }
 ],
 "metadata": {
  "kernelspec": {
   "display_name": "Jupyter machine",
   "language": "python",
   "name": "jupyter_machine"
  },
  "language_info": {
   "codemirror_mode": {
    "name": "ipython",
    "version": 3
   },
   "file_extension": ".py",
   "mimetype": "text/x-python",
   "name": "python",
   "nbconvert_exporter": "python",
   "pygments_lexer": "ipython3",
   "version": "3.1.undefined"
  }
 },
 "nbformat": 4,
 "nbformat_minor": 2
}
